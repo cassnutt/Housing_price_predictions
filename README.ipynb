{
 "cells": [
  {
   "cell_type": "markdown",
   "metadata": {},
   "source": [
    "# Project Name\n",
    "***\n",
    "Predictions for Housing Prices in King County"
   ]
  },
  {
   "cell_type": "markdown",
   "metadata": {},
   "source": [
    "# Project Description\n",
    "***\n",
    "For this project, I wanted to look through the data for pertinent information for first time home buyers. I explored home sales prices and used linear regression to build a model that could predict home prices for the area. My goal of the model was to build one that would accurately predict housing sale prices and see which features have the biggest impact on price."
   ]
  },
  {
   "cell_type": "markdown",
   "metadata": {},
   "source": [
    "# Data Used\n",
    "***\n",
    "Data comes from kc_house_data.csv located in the data folder. This can also be found online. The description of the column names can also be found in the data folder, under columns.md. "
   ]
  },
  {
   "cell_type": "markdown",
   "metadata": {},
   "source": [
    "# Data Cleaning and EDA\n",
    "***\n",
    "Minimal data cleaning was required, however there was a need to manage null values, duplicates, and values that were odd.<br>\n",
    "The exploratory data analysis(EDA) sought answers to the following questions:\n",
    "* Which season is best to buy a house if you want the lowest price?\n",
    "* Does a waterfront or view make that much difference in the price?\n",
    "* Are there some grades or conditions that might be out of reach for a first time home buyer?\n",
    "* Is there an area that we can focus on or eliminate?"
   ]
  },
  {
   "cell_type": "code",
   "execution_count": 4,
   "metadata": {
    "ExecuteTime": {
     "end_time": "2021-01-15T03:29:37.098759Z",
     "start_time": "2021-01-15T03:29:36.972568Z"
    },
    "scrolled": true
   },
   "outputs": [
    {
     "name": "stdout",
     "output_type": "stream",
     "text": [
      "zsh:1: unknown file attribute: i\r\n"
     ]
    }
   ],
   "source": [
    "![seasons](images/season_average.png)"
   ]
  },
  {
   "cell_type": "markdown",
   "metadata": {},
   "source": [
    "_EDA Answered:_\n",
    "* First time home buyers should make sure they are buying houses between the months of October through March to avoid paying more for the same house the in spring and summer months.\n",
    "\n",
    "* Buyers may also choose to look at homes south of longitude 47.5 if they are looking to spend less.\n",
    "\n",
    "* Most houses have average or higher than average grades and conditions. Houses should be \"move-in ready\" in most cases.\n",
    "\n",
    "* If the buyer is wanting extra features like properties with a view or on the water, they may have to wait longer or choose from a limited selection. The buyer will also have to pay approximately \\\\$116,000 to \\\\$201,000 more for a house with a view or on the water."
   ]
  },
  {
   "cell_type": "markdown",
   "metadata": {},
   "source": [
    "# Feature Selection & Engineering \n",
    "***\n",
    "Here, categorical features were one-hot encoded or binned, and continuous variables were checked for normality. Some features were dropped here as they were duplicating other features, had high multicollinearity or were not applicable to our interests. \n",
    "\n",
    "Forward stepwise selection and variance inflation factor (VIF) tests were performed to see which features would be best to use in the linear regression model."
   ]
  },
  {
   "cell_type": "markdown",
   "metadata": {},
   "source": [
    "# Modeling and Predictions\n",
    "***\n",
    "Five different models were made, excluding the baseline model, to see which model could perform best. All models performed similarly, with the exception of the second model which followed both stepwise selection AND VIF for features selection. \n",
    "\n",
    "The two best performing models were the third model - which has features selected using stepwise and VIF as guidelines- and the fifth model - which uses the third model but removes some outliers.\n",
    "\n",
    "Both models can predict the price of a house within \\\\$94,752 - \\\\$100,884 with and accuracy of 65.75% - 65.95%."
   ]
  },
  {
   "cell_type": "markdown",
   "metadata": {},
   "source": [
    "# Conclusion\n",
    "***\n",
    "* There is a strong relationship between sale price and the year a house was built. One might expect a house's value to go down approximately \\\\$815-960 every year it gets older.\n",
    "\n",
    "* Increasing the size of your home will increase the value. For every square foot of living space, one could expect an extra \\\\$110 on the sale price.\n",
    "\n",
    "* Adding square footage to the lot does increase the value of property- about .32 or .54 cents for every square foot. That may not sound like a lot of money, but we kept lots that were up to 750,000 square feet. That can add up if the property has a lot of land."
   ]
  },
  {
   "cell_type": "markdown",
   "metadata": {},
   "source": [
    "# Future Work\n",
    "***\n",
    "Other topics that would be helpful to evaluate include: \n",
    "* Commute times\n",
    "* Surrounding amenities such as schools, parks, restaurants, grocery stores and other places of interest \n",
    "* Vicinity to public transportation or walk-ability\n",
    "* Comparing to newer data\n",
    "* Estimating other costs like home insurance and taxes"
   ]
  }
 ],
 "metadata": {
  "kernelspec": {
   "display_name": "Python 3",
   "language": "python",
   "name": "python3"
  },
  "language_info": {
   "codemirror_mode": {
    "name": "ipython",
    "version": 3
   },
   "file_extension": ".py",
   "mimetype": "text/x-python",
   "name": "python",
   "nbconvert_exporter": "python",
   "pygments_lexer": "ipython3",
   "version": "3.8.5"
  },
  "toc": {
   "base_numbering": 1,
   "nav_menu": {},
   "number_sections": true,
   "sideBar": true,
   "skip_h1_title": true,
   "title_cell": "Table of Contents",
   "title_sidebar": "Contents",
   "toc_cell": false,
   "toc_position": {},
   "toc_section_display": true,
   "toc_window_display": false
  },
  "varInspector": {
   "cols": {
    "lenName": 16,
    "lenType": 16,
    "lenVar": 40
   },
   "kernels_config": {
    "python": {
     "delete_cmd_postfix": "",
     "delete_cmd_prefix": "del ",
     "library": "var_list.py",
     "varRefreshCmd": "print(var_dic_list())"
    },
    "r": {
     "delete_cmd_postfix": ") ",
     "delete_cmd_prefix": "rm(",
     "library": "var_list.r",
     "varRefreshCmd": "cat(var_dic_list()) "
    }
   },
   "types_to_exclude": [
    "module",
    "function",
    "builtin_function_or_method",
    "instance",
    "_Feature"
   ],
   "window_display": false
  }
 },
 "nbformat": 4,
 "nbformat_minor": 4
}
