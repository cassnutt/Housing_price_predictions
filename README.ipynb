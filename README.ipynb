{
 "cells": [
  {
   "cell_type": "markdown",
   "metadata": {},
   "source": [
    "# Project Name\n",
    "***\n",
    "Predictions for Housing Prices in King County (Seattle, WA area)"
   ]
  },
  {
   "cell_type": "markdown",
   "metadata": {},
   "source": [
    "# Project Description\n",
    "***\n",
    "For this project, I wanted to look through the data for pertinent information for first time home buyers. I explored home sales prices and used linear regression to build a model that could predict home prices for the area. My goal of the model was to build one that would accurately predict housing sale prices and see which features have the biggest impact on price."
   ]
  },
  {
   "cell_type": "markdown",
   "metadata": {},
   "source": [
    "# Data Used\n",
    "***\n",
    "Data comes from kc_house_data.csv located in the data folder. This can also be found online. The description of the column names can also be found in the data folder, under columns.md. This data contains 21,596 entries. It spans 2014-2015 and tracks the properties that were sold in King County, Washington. The most populated city in the county is Seattle."
   ]
  },
  {
   "cell_type": "markdown",
   "metadata": {},
   "source": [
    "# Data Cleaning and EDA\n",
    "***\n",
    "Minimal data cleaning was required, however there was a need to manage null values, duplicates, and values that were odd.<br>\n",
    "The exploratory data analysis(EDA) sought answers to the following questions:\n",
    "* Which season is best to buy a house if you want the lowest price?\n",
    "* Does a waterfront or view make that much difference in the price?\n",
    "* Are there some grades or conditions that might be out of reach for a first time home buyer?\n",
    "* Is there an area that we can focus on or eliminate?"
   ]
  },
  {
   "cell_type": "markdown",
   "metadata": {},
   "source": [
    "This picture shows the home sale prices within our first time home buyers criteria by the season the house was sold. The seasons are split between spring (April-June), summer (July-September), fall (October-November), winter1 (December) and winter2 (January - March).\n",
    "![season_average](images/seasons.png)\n",
    "\n",
    "Winter1 (December) is the least expensive time of the year. Spring (April-June) is the most expensive time to buy a home in King County. However, from Fall - Winter2 (October- March) the average home sale price has a +/- \\\\$4,000 range."
   ]
  },
  {
   "cell_type": "markdown",
   "metadata": {},
   "source": [
    "_The picture below illustrates the properties that were sold in King County and the color designates which are classified as being a waterfront property or not._\n",
    "![waterfront_properties](images/waterfront.png)"
   ]
  },
  {
   "cell_type": "markdown",
   "metadata": {},
   "source": [
    "The question to answer was if houses on the water were more expensive, and if so, by how much. Since we have already eliminated houses that are unattainable, a first time home buyer can afford a home on the water, but there are fewer of those properties available.\n",
    "\n",
    "The chart below shows the average price of homes on or off the water. You will be able to see there is absolutely a price difference between a house on the water and a house more inland.\n",
    "\n",
    "![waterfront_price_increase](images/waterfront_inc.png)"
   ]
  },
  {
   "cell_type": "markdown",
   "metadata": {},
   "source": [
    "The following graph shows the relationship between features price, square feet of living space, grade, zip code, and condition - indicated by the color.\n",
    "![condition_and_grade](images/grade_and_condition.png)\n",
    "\n",
    "<center> Here, we can see there are an overwhelming number of homes that were sold with a condition of \"3\". We can also see which zip codes sold the most houses. \n",
    "We can also see that even though houses were given higher grades (8+) based on King County's grading system, were given mostly a condition rating of \"3\" making both grade and condition seem very subjective. \n",
    "Also worth noting is the only home with a grade of \"3\" was given a condition of \"5\".</center>"
   ]
  },
  {
   "cell_type": "markdown",
   "metadata": {},
   "source": [
    "Lastly in the EDA, it was interesting to see if there were parts of the county that were more affordable than others and if they could be broken down into quadrants. The image below shows the houses plotted based on their sale price and mapped by their latitude and longitude. The dotted lines were placed based to visualize the different areas.\n",
    "\n",
    "![area_quadrants](images/area_quadrants.png)"
   ]
  },
  {
   "cell_type": "markdown",
   "metadata": {},
   "source": [
    "<center> The graph below reveals, on average, homes in the southern region of the county are priced lower than those in the north. </center>\n",
    "\n",
    "![quad_averages](images/quadrants.png)"
   ]
  },
  {
   "cell_type": "markdown",
   "metadata": {},
   "source": [
    "_EDA Answered:_\n",
    "* First time home buyers should make sure they are buying houses between the months of October through March to avoid paying more for the same house the in spring and summer months.\n",
    "\n",
    "* Buyers may also choose to look at homes south of longitude 47.5$^{\\circ}$ if they are looking to spend less.\n",
    "\n",
    "* Most houses have average or higher than average grades and conditions. Houses should be \"move-in ready\" in most cases.\n",
    "\n",
    "* If the buyer is wanting extra features like waterfront properties, they may have to wait longer or choose from a limited selection. The buyer will also have to pay approximately \\\\$143,636 more to be on the water.\n",
    "\n",
    "* Find properties on your own or use alternative methods. Houses that are viewed by more people end up costing more - from \\\\$128,000 to \\\\$201,000, on average."
   ]
  },
  {
   "cell_type": "markdown",
   "metadata": {},
   "source": [
    "# Feature Selection & Engineering \n",
    "***\n",
    "Here, categorical features were one-hot encoded or binned, and continuous variables were checked for normality. Some features were dropped here as they were duplicating other features, had high multicollinearity or were not applicable to our interests. \n",
    "\n",
    "Forward stepwise selection and variance inflation factor (VIF) tests were performed to see which features would be best to use in the linear regression model."
   ]
  },
  {
   "cell_type": "markdown",
   "metadata": {},
   "source": [
    "![grades_binned](images/grades_binned.png)\n",
    "<center> Here is an example of feature engineering. Rather than having distinct grades from three to eleven, they were binned together. </center>"
   ]
  },
  {
   "cell_type": "markdown",
   "metadata": {},
   "source": [
    "# Modeling and Predictions\n",
    "***\n",
    "Six different models were made, excluding the baseline model, to see which model could perform best. All models performed similarly, with the exception of the second model which followed both stepwise selection AND VIF for features selection. \n",
    "\n",
    "The best perfoming model was the fourth - which has features selected using stepwise and VIF as guidelines.\n",
    "\n",
    "This model can explain 80% of variations in price and has a mean error on the test group of \\\\$76,884."
   ]
  },
  {
   "cell_type": "markdown",
   "metadata": {},
   "source": [
    "_The three images below show the OLS Regression Results from statsmodels, a Q-Q plot and a visual of the predicted plots. All of these are from the fourth model._\n",
    "\n",
    "![OLS_results](images/OLS_reg_results.png)"
   ]
  },
  {
   "cell_type": "markdown",
   "metadata": {},
   "source": [
    "![QQplot](images/QQ_plot.png)\n",
    "![pred_line_plot](images/pred_line_plot1.png)"
   ]
  },
  {
   "cell_type": "markdown",
   "metadata": {},
   "source": [
    "# Conclusion\n",
    "***\n",
    "* The model shows a relationship between sale price and the year a house was built. One might expect a house's value to go down approximately \\\\$74 every year it gets older.\n",
    "\n",
    "* The model also shows that increasing the size of your home will increase the value. For every square foot of living space, one could expect an extra \\\\$123 on the sale price.\n",
    "\n",
    "* Adding square footage to the lot does increase the value of property- about .44 cents for every square foot. That may not sound like a lot of money, but we kept lots that were up to 750,000 square feet. That can add up if you have a lot of land.\n",
    "\n",
    "* Having a property in the zip code 98022 will increase the cost of a home by approximately \\\\$8150. This is a very large zip code and is close to the base of Mt. Ranier. These homes are most likely larger and have bigger lots - both of which will increase the sale price of the home."
   ]
  },
  {
   "cell_type": "markdown",
   "metadata": {},
   "source": [
    "# Future Work\n",
    "***\n",
    "Other topics that would be helpful to evaluate include:\n",
    "* Commute times\n",
    "* Surrounding amenities such as schools, parks, restaurants, grocery stores, hospitals and other places of interest \n",
    "* Vicinity to public transportation or walk-ability\n",
    "* Comparing to newer data\n",
    "* Estimating other costs like home insurance and taxes"
   ]
  }
 ],
 "metadata": {
  "kernelspec": {
   "display_name": "Python 3",
   "language": "python",
   "name": "python3"
  },
  "language_info": {
   "codemirror_mode": {
    "name": "ipython",
    "version": 3
   },
   "file_extension": ".py",
   "mimetype": "text/x-python",
   "name": "python",
   "nbconvert_exporter": "python",
   "pygments_lexer": "ipython3",
   "version": "3.8.5"
  },
  "toc": {
   "base_numbering": 1,
   "nav_menu": {},
   "number_sections": true,
   "sideBar": true,
   "skip_h1_title": true,
   "title_cell": "Table of Contents",
   "title_sidebar": "Contents",
   "toc_cell": false,
   "toc_position": {},
   "toc_section_display": true,
   "toc_window_display": false
  },
  "varInspector": {
   "cols": {
    "lenName": 16,
    "lenType": 16,
    "lenVar": 40
   },
   "kernels_config": {
    "python": {
     "delete_cmd_postfix": "",
     "delete_cmd_prefix": "del ",
     "library": "var_list.py",
     "varRefreshCmd": "print(var_dic_list())"
    },
    "r": {
     "delete_cmd_postfix": ") ",
     "delete_cmd_prefix": "rm(",
     "library": "var_list.r",
     "varRefreshCmd": "cat(var_dic_list()) "
    }
   },
   "types_to_exclude": [
    "module",
    "function",
    "builtin_function_or_method",
    "instance",
    "_Feature"
   ],
   "window_display": false
  }
 },
 "nbformat": 4,
 "nbformat_minor": 4
}
