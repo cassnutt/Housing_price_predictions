{
 "cells": [
  {
   "cell_type": "code",
   "execution_count": 6,
   "metadata": {
    "ExecuteTime": {
     "end_time": "2021-01-10T00:31:54.956150Z",
     "start_time": "2021-01-10T00:31:53.251574Z"
    }
   },
   "outputs": [
    {
     "data": {
      "image/png": "[encoded data removed]",
      "text/plain": [
       "<Figure size 432x288 with 1 Axes>"
      ]
     },
     "metadata": {
      "needs_background": "light"
     },
     "output_type": "display_data"
    }
   ],
   "source": [
    "from random import seed\n",
    "from random import randint\n",
    "from random import shuffle\n",
    "\n",
    "import matplotlib.pyplot as plt\n",
    "import seaborn as sns\n",
    "%matplotlib inline\n",
    "\n",
    "seed(8)\n",
    "i = 0\n",
    "values= []\n",
    "for i in range(100):\n",
    "    value = randint(0, 10)\n",
    "    values.append(value)\n",
    "    i += 1\n",
    "    \n",
    "sns.countplot(x= values)\n",
    "\n",
    "palette_options = ['Accent','Blues','BrBG','BuGn','BuPu','CMRmap','Dark2',\n",
    "                   'GnBu','Greens','Greys','OrRd','Oranges','PRGn','Paired',\n",
    "                   'Pastel1','Pastel2','PiYG','PuBu', 'PuBuGn','PuOr','PuRd',\n",
    "                   'Purples','RdBu','RdGy','RdPu','RdYlBu','RdYlGn','Reds',\n",
    "                   'Set1','Set2','Set3','Spectral','Wistia', 'YlGn', 'YlGnBu',\n",
    "                   'YlOrBr','YlOrRd','afmhot','autumn','binary', 'bone','brg',\n",
    "                   'bwr','cividis','cool','coolwarm','copper','crest',\n",
    "                   'cubehelix','flag','flare','gist_earth','gist_gray',\n",
    "                   'gist_heat','gist_ncar','gist_rainbow','gist_stern',\n",
    "                   'gist_yarg','gnuplot', 'gnuplot2','gray','hot','hsv',\n",
    "                   'icefire','inferno','magma','mako','nipy_spectral',\n",
    "                   'ocean','pink','plasma','prism','rainbow','rocket',\n",
    "                   'seismic','spring','summer','tab10', 'tab20', 'tab20b',\n",
    "                   'tab20c','terrain','turbo', 'twilight','twilight_shifted',\n",
    "                   'viridis','vlag','winter']\n",
    "\n",
    "for option in palette_options:\n",
    "    sns.countplot(x= values, palette= option)"
   ]
  },
  {
   "cell_type": "code",
   "execution_count": null,
   "metadata": {},
   "outputs": [],
   "source": []
  }
 ],
 "metadata": {
  "kernelspec": {
   "display_name": "Python 3",
   "language": "python",
   "name": "python3"
  },
  "language_info": {
   "codemirror_mode": {
    "name": "ipython",
    "version": 3
   },
   "file_extension": ".py",
   "mimetype": "text/x-python",
   "name": "python",
   "nbconvert_exporter": "python",
   "pygments_lexer": "ipython3",
   "version": "3.8.5"
  },
  "toc": {
   "base_numbering": 1,
   "nav_menu": {},
   "number_sections": true,
   "sideBar": true,
   "skip_h1_title": true,
   "title_cell": "Table of Contents",
   "title_sidebar": "Contents",
   "toc_cell": false,
   "toc_position": {},
   "toc_section_display": true,
   "toc_window_display": false
  },
  "varInspector": {
   "cols": {
    "lenName": 16,
    "lenType": 16,
    "lenVar": 40
   },
   "kernels_config": {
    "python": {
     "delete_cmd_postfix": "",
     "delete_cmd_prefix": "del ",
     "library": "var_list.py",
     "varRefreshCmd": "print(var_dic_list())"
    },
    "r": {
     "delete_cmd_postfix": ") ",
     "delete_cmd_prefix": "rm(",
     "library": "var_list.r",
     "varRefreshCmd": "cat(var_dic_list()) "
    }
   },
   "types_to_exclude": [
    "module",
    "function",
    "builtin_function_or_method",
    "instance",
    "_Feature"
   ],
   "window_display": false
  }
 },
 "nbformat": 4,
 "nbformat_minor": 4
}
