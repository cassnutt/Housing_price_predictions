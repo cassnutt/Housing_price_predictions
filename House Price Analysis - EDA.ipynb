{
 "cells": [
  {
   "cell_type": "markdown",
   "metadata": {},
   "source": [
    "# House Price Analysis with Linear Regression - EDA\n",
    "\n",
    "by Cassie Nutter"
   ]
  },
  {
   "cell_type": "markdown",
   "metadata": {},
   "source": [
    "---\n",
    "___\n",
    "***"
   ]
  },
  {
   "cell_type": "markdown",
   "metadata": {},
   "source": [
    "The focus of this project will be centered around first time home buyers using data from houses sold in King County in 2014 and 2015."
   ]
  },
  {
   "cell_type": "markdown",
   "metadata": {},
   "source": [
    "## Data Cleaning\n",
    "Data is the process of detecting and correcting (or removing) corrupt or inaccurate records from a record set, table, or database and refers to identifying incomplete, incorrect, inaccurate or irrelevant parts of the data and then replacing, modifying, or deleting the dirty or coarse data."
   ]
  },
  {
   "cell_type": "code",
   "execution_count": 1,
   "metadata": {
    "ExecuteTime": {
     "end_time": "2021-01-16T04:09:19.660114Z",
     "start_time": "2021-01-16T04:09:18.162726Z"
    }
   },
   "outputs": [],
   "source": [
    "import pandas as pd\n",
    "import numpy as np\n",
    "import matplotlib.pyplot as plt\n",
    "import seaborn as sns\n",
    "sns.set_style(\"whitegrid\")\n",
    "%matplotlib inline\n",
    "\n",
    "from scipy import stats\n",
    "import statsmodels.api as sm\n",
    "import statsmodels.formula.api as smf\n",
    "from statsmodels.formula.api import ols\n",
    "import statsmodels.stats.api as sms\n",
    "\n",
    "import warnings\n",
    "warnings.filterwarnings(action= 'ignore', category= UserWarning)\n",
    "\n",
    "#code to display all the columns without truncation\n",
    "pd.set_option('display.max_columns', None)"
   ]
  },
  {
   "cell_type": "code",
   "execution_count": 2,
   "metadata": {
    "ExecuteTime": {
     "end_time": "2021-01-16T04:09:19.707308Z",
     "start_time": "2021-01-16T04:09:19.661832Z"
    }
   },
   "outputs": [],
   "source": [
    "df = pd.read_csv('data/kc_house_data.csv')"
   ]
  },
  {
   "cell_type": "code",
   "execution_count": 3,
   "metadata": {
    "ExecuteTime": {
     "end_time": "2021-01-16T04:09:19.730220Z",
     "start_time": "2021-01-16T04:09:19.709666Z"
    }
   },
   "outputs": [
    {
     "data": {
      "text/html": [
       "<div>\n",
       "<style scoped>\n",
       "    .dataframe tbody tr th:only-of-type {\n",
       "        vertical-align: middle;\n",
       "    }\n",
       "\n",
       "    .dataframe tbody tr th {\n",
       "        vertical-align: top;\n",
       "    }\n",
       "\n",
       "    .dataframe thead th {\n",
       "        text-align: right;\n",
       "    }\n",
       "</style>\n",
       "<table border=\"1\" class=\"dataframe\">\n",
       "  <thead>\n",
       "    <tr style=\"text-align: right;\">\n",
       "      <th></th>\n",
       "      <th>id</th>\n",
       "      <th>date</th>\n",
       "      <th>price</th>\n",
       "      <th>bedrooms</th>\n",
       "      <th>bathrooms</th>\n",
       "      <th>sqft_living</th>\n",
       "      <th>sqft_lot</th>\n",
       "      <th>floors</th>\n",
       "      <th>waterfront</th>\n",
       "      <th>view</th>\n",
       "      <th>condition</th>\n",
       "      <th>grade</th>\n",
       "      <th>sqft_above</th>\n",
       "      <th>sqft_basement</th>\n",
       "      <th>yr_built</th>\n",
       "      <th>yr_renovated</th>\n",
       "      <th>zipcode</th>\n",
       "      <th>lat</th>\n",
       "      <th>long</th>\n",
       "      <th>sqft_living15</th>\n",
       "      <th>sqft_lot15</th>\n",
       "    </tr>\n",
       "  </thead>\n",
       "  <tbody>\n",
       "    <tr>\n",
       "      <th>0</th>\n",
       "      <td>7129300520</td>\n",
       "      <td>10/13/2014</td>\n",
       "      <td>221900.0</td>\n",
       "      <td>3</td>\n",
       "      <td>1.00</td>\n",
       "      <td>1180</td>\n",
       "      <td>5650</td>\n",
       "      <td>1.0</td>\n",
       "      <td>NaN</td>\n",
       "      <td>0.0</td>\n",
       "      <td>3</td>\n",
       "      <td>7</td>\n",
       "      <td>1180</td>\n",
       "      <td>0.0</td>\n",
       "      <td>1955</td>\n",
       "      <td>0.0</td>\n",
       "      <td>98178</td>\n",
       "      <td>47.5112</td>\n",
       "      <td>-122.257</td>\n",
       "      <td>1340</td>\n",
       "      <td>5650</td>\n",
       "    </tr>\n",
       "    <tr>\n",
       "      <th>1</th>\n",
       "      <td>6414100192</td>\n",
       "      <td>12/9/2014</td>\n",
       "      <td>538000.0</td>\n",
       "      <td>3</td>\n",
       "      <td>2.25</td>\n",
       "      <td>2570</td>\n",
       "      <td>7242</td>\n",
       "      <td>2.0</td>\n",
       "      <td>0.0</td>\n",
       "      <td>0.0</td>\n",
       "      <td>3</td>\n",
       "      <td>7</td>\n",
       "      <td>2170</td>\n",
       "      <td>400.0</td>\n",
       "      <td>1951</td>\n",
       "      <td>1991.0</td>\n",
       "      <td>98125</td>\n",
       "      <td>47.7210</td>\n",
       "      <td>-122.319</td>\n",
       "      <td>1690</td>\n",
       "      <td>7639</td>\n",
       "    </tr>\n",
       "    <tr>\n",
       "      <th>2</th>\n",
       "      <td>5631500400</td>\n",
       "      <td>2/25/2015</td>\n",
       "      <td>180000.0</td>\n",
       "      <td>2</td>\n",
       "      <td>1.00</td>\n",
       "      <td>770</td>\n",
       "      <td>10000</td>\n",
       "      <td>1.0</td>\n",
       "      <td>0.0</td>\n",
       "      <td>0.0</td>\n",
       "      <td>3</td>\n",
       "      <td>6</td>\n",
       "      <td>770</td>\n",
       "      <td>0.0</td>\n",
       "      <td>1933</td>\n",
       "      <td>NaN</td>\n",
       "      <td>98028</td>\n",
       "      <td>47.7379</td>\n",
       "      <td>-122.233</td>\n",
       "      <td>2720</td>\n",
       "      <td>8062</td>\n",
       "    </tr>\n",
       "    <tr>\n",
       "      <th>3</th>\n",
       "      <td>2487200875</td>\n",
       "      <td>12/9/2014</td>\n",
       "      <td>604000.0</td>\n",
       "      <td>4</td>\n",
       "      <td>3.00</td>\n",
       "      <td>1960</td>\n",
       "      <td>5000</td>\n",
       "      <td>1.0</td>\n",
       "      <td>0.0</td>\n",
       "      <td>0.0</td>\n",
       "      <td>5</td>\n",
       "      <td>7</td>\n",
       "      <td>1050</td>\n",
       "      <td>910.0</td>\n",
       "      <td>1965</td>\n",
       "      <td>0.0</td>\n",
       "      <td>98136</td>\n",
       "      <td>47.5208</td>\n",
       "      <td>-122.393</td>\n",
       "      <td>1360</td>\n",
       "      <td>5000</td>\n",
       "    </tr>\n",
       "    <tr>\n",
       "      <th>4</th>\n",
       "      <td>1954400510</td>\n",
       "      <td>2/18/2015</td>\n",
       "      <td>510000.0</td>\n",
       "      <td>3</td>\n",
       "      <td>2.00</td>\n",
       "      <td>1680</td>\n",
       "      <td>8080</td>\n",
       "      <td>1.0</td>\n",
       "      <td>0.0</td>\n",
       "      <td>0.0</td>\n",
       "      <td>3</td>\n",
       "      <td>8</td>\n",
       "      <td>1680</td>\n",
       "      <td>0.0</td>\n",
       "      <td>1987</td>\n",
       "      <td>0.0</td>\n",
       "      <td>98074</td>\n",
       "      <td>47.6168</td>\n",
       "      <td>-122.045</td>\n",
       "      <td>1800</td>\n",
       "      <td>7503</td>\n",
       "    </tr>\n",
       "  </tbody>\n",
       "</table>\n",
       "</div>"
      ],
      "text/plain": [
       "           id        date     price  bedrooms  bathrooms  sqft_living  \\\n",
       "0  7129300520  10/13/2014  221900.0         3       1.00         1180   \n",
       "1  6414100192   12/9/2014  538000.0         3       2.25         2570   \n",
       "2  5631500400   2/25/2015  180000.0         2       1.00          770   \n",
       "3  2487200875   12/9/2014  604000.0         4       3.00         1960   \n",
       "4  1954400510   2/18/2015  510000.0         3       2.00         1680   \n",
       "\n",
       "   sqft_lot  floors  waterfront  view  condition  grade  sqft_above  \\\n",
       "0      5650     1.0         NaN   0.0          3      7        1180   \n",
       "1      7242     2.0         0.0   0.0          3      7        2170   \n",
       "2     10000     1.0         0.0   0.0          3      6         770   \n",
       "3      5000     1.0         0.0   0.0          5      7        1050   \n",
       "4      8080     1.0         0.0   0.0          3      8        1680   \n",
       "\n",
       "  sqft_basement  yr_built  yr_renovated  zipcode      lat     long  \\\n",
       "0           0.0      1955           0.0    98178  47.5112 -122.257   \n",
       "1         400.0      1951        1991.0    98125  47.7210 -122.319   \n",
       "2           0.0      1933           NaN    98028  47.7379 -122.233   \n",
       "3         910.0      1965           0.0    98136  47.5208 -122.393   \n",
       "4           0.0      1987           0.0    98074  47.6168 -122.045   \n",
       "\n",
       "   sqft_living15  sqft_lot15  \n",
       "0           1340        5650  \n",
       "1           1690        7639  \n",
       "2           2720        8062  \n",
       "3           1360        5000  \n",
       "4           1800        7503  "
      ]
     },
     "execution_count": 3,
     "metadata": {},
     "output_type": "execute_result"
    }
   ],
   "source": [
    "df.head()"
   ]
  },
  {
   "cell_type": "code",
   "execution_count": 4,
   "metadata": {
    "ExecuteTime": {
     "end_time": "2021-01-16T04:09:19.743426Z",
     "start_time": "2021-01-16T04:09:19.732244Z"
    }
   },
   "outputs": [
    {
     "name": "stdout",
     "output_type": "stream",
     "text": [
      "<class 'pandas.core.frame.DataFrame'>\n",
      "RangeIndex: 21597 entries, 0 to 21596\n",
      "Data columns (total 21 columns):\n",
      " #   Column         Non-Null Count  Dtype  \n",
      "---  ------         --------------  -----  \n",
      " 0   id             21597 non-null  int64  \n",
      " 1   date           21597 non-null  object \n",
      " 2   price          21597 non-null  float64\n",
      " 3   bedrooms       21597 non-null  int64  \n",
      " 4   bathrooms      21597 non-null  float64\n",
      " 5   sqft_living    21597 non-null  int64  \n",
      " 6   sqft_lot       21597 non-null  int64  \n",
      " 7   floors         21597 non-null  float64\n",
      " 8   waterfront     19221 non-null  float64\n",
      " 9   view           21534 non-null  float64\n",
      " 10  condition      21597 non-null  int64  \n",
      " 11  grade          21597 non-null  int64  \n",
      " 12  sqft_above     21597 non-null  int64  \n",
      " 13  sqft_basement  21597 non-null  object \n",
      " 14  yr_built       21597 non-null  int64  \n",
      " 15  yr_renovated   17755 non-null  float64\n",
      " 16  zipcode        21597 non-null  int64  \n",
      " 17  lat            21597 non-null  float64\n",
      " 18  long           21597 non-null  float64\n",
      " 19  sqft_living15  21597 non-null  int64  \n",
      " 20  sqft_lot15     21597 non-null  int64  \n",
      "dtypes: float64(8), int64(11), object(2)\n",
      "memory usage: 3.5+ MB\n"
     ]
    }
   ],
   "source": [
    "df.info()"
   ]
  },
  {
   "cell_type": "markdown",
   "metadata": {},
   "source": [
    "What are all these columns?\n",
    "Column Names and descriptions for Kings County Data Set\n",
    "* **id** - unique identified for a house\n",
    "* **date** - date house was sold\n",
    "* **price** - price is prediction target\n",
    "* **bedrooms** - number of Bedrooms/House\n",
    "* **bathrooms** - number of bathrooms/bedrooms\n",
    "* **sqft_living** - square footage of the home\n",
    "* **sqft_lot** -  square footage of the lot\n",
    "* **floors** - total floors (levels) in house\n",
    "* **waterfront** - House which has a view to a waterfront\n",
    "* **view** - Has a view\n",
    "* **condition** - How good the condition is ( Overall )\n",
    "* **grade** - overall grade given to the housing unit, based on King County grading system\n",
    "* **sqft_above** - square footage of house apart from basement\n",
    "* **sqft_basement** - square footage of the basement\n",
    "* **yr_built** - Built Year\n",
    "* **yr_renovated** - Year when house was renovated\n",
    "* **zipcode** - zip code\n",
    "* **lat** - Latitude coordinate\n",
    "* **long** - Longitude coordinate\n",
    "* **sqft_living15** - The square footage of interior housing living space for the nearest 15 neighbors\n",
    "* **sqft_lot15** - The square footage of the land lots of the nearest 15 neighbors\n"
   ]
  },
  {
   "cell_type": "markdown",
   "metadata": {},
   "source": [
    "### Datetime\n",
    "\n",
    "The \"date\" column is currently an object. Let's change it to datetime, then extract the month and year so we can use those easily and drop the original date column."
   ]
  },
  {
   "cell_type": "code",
   "execution_count": 5,
   "metadata": {
    "ExecuteTime": {
     "end_time": "2021-01-16T04:09:19.768806Z",
     "start_time": "2021-01-16T04:09:19.744986Z"
    }
   },
   "outputs": [],
   "source": [
    "df['date'] = pd.to_datetime(df['date'])"
   ]
  },
  {
   "cell_type": "code",
   "execution_count": 6,
   "metadata": {
    "ExecuteTime": {
     "end_time": "2021-01-16T04:09:19.779718Z",
     "start_time": "2021-01-16T04:09:19.770613Z"
    }
   },
   "outputs": [],
   "source": [
    "df['month_sold'] = df.date.dt.month\n",
    "df['year_sold'] = df.date.dt.year\n",
    "df.drop(['date'], axis= 1, inplace= True)"
   ]
  },
  {
   "cell_type": "markdown",
   "metadata": {},
   "source": [
    "### Odd values \n",
    "\n",
    "Let's look to see if anything is weird or out of place."
   ]
  },
  {
   "cell_type": "code",
   "execution_count": 7,
   "metadata": {
    "ExecuteTime": {
     "end_time": "2021-01-16T04:09:19.788570Z",
     "start_time": "2021-01-16T04:09:19.781139Z"
    }
   },
   "outputs": [
    {
     "data": {
      "text/plain": [
       "0.0       0.593879\n",
       "?         0.021021\n",
       "600.0     0.010048\n",
       "500.0     0.009677\n",
       "700.0     0.009631\n",
       "            ...   \n",
       "2850.0    0.000046\n",
       "602.0     0.000046\n",
       "65.0      0.000046\n",
       "2360.0    0.000046\n",
       "2730.0    0.000046\n",
       "Name: sqft_basement, Length: 304, dtype: float64"
      ]
     },
     "execution_count": 7,
     "metadata": {},
     "output_type": "execute_result"
    }
   ],
   "source": [
    "df.sqft_basement.value_counts(normalize= True)"
   ]
  },
  {
   "cell_type": "markdown",
   "metadata": {},
   "source": [
    "0.2% of the data is marked as '?' while 59.3% is marked as '0.0'. "
   ]
  },
  {
   "cell_type": "code",
   "execution_count": 8,
   "metadata": {
    "ExecuteTime": {
     "end_time": "2021-01-16T04:09:19.794878Z",
     "start_time": "2021-01-16T04:09:19.791216Z"
    }
   },
   "outputs": [],
   "source": [
    "# change ? in column to 0 - most commonly seen value\n",
    "df['sqft_basement'] = df['sqft_basement'].replace('?', '0.0')"
   ]
  },
  {
   "cell_type": "code",
   "execution_count": 9,
   "metadata": {
    "ExecuteTime": {
     "end_time": "2021-01-16T04:09:19.806369Z",
     "start_time": "2021-01-16T04:09:19.798506Z"
    }
   },
   "outputs": [
    {
     "data": {
      "text/plain": [
       "0.0       13280\n",
       "600.0       217\n",
       "500.0       209\n",
       "700.0       208\n",
       "800.0       201\n",
       "          ...  \n",
       "1008.0        1\n",
       "508.0         1\n",
       "1990.0        1\n",
       "1930.0        1\n",
       "2730.0        1\n",
       "Name: sqft_basement, Length: 303, dtype: int64"
      ]
     },
     "execution_count": 9,
     "metadata": {},
     "output_type": "execute_result"
    }
   ],
   "source": [
    "df.sqft_basement.value_counts()"
   ]
  },
  {
   "cell_type": "code",
   "execution_count": 10,
   "metadata": {
    "ExecuteTime": {
     "end_time": "2021-01-16T04:09:19.812805Z",
     "start_time": "2021-01-16T04:09:19.808267Z"
    }
   },
   "outputs": [],
   "source": [
    "# change data type of basement to float instead of object\n",
    "df['sqft_basement'] = df.sqft_basement.astype('float64')"
   ]
  },
  {
   "cell_type": "code",
   "execution_count": 11,
   "metadata": {
    "ExecuteTime": {
     "end_time": "2021-01-16T04:09:19.822717Z",
     "start_time": "2021-01-16T04:09:19.815044Z"
    }
   },
   "outputs": [
    {
     "data": {
      "text/plain": [
       "8317"
      ]
     },
     "execution_count": 11,
     "metadata": {},
     "output_type": "execute_result"
    }
   ],
   "source": [
    "# see how many rows have a value for sqft_basement\n",
    "len (df.loc[df['sqft_basement'] > 0])"
   ]
  },
  {
   "cell_type": "markdown",
   "metadata": {},
   "source": [
    "Let's look elsewhere and see if there is anything else odd."
   ]
  },
  {
   "cell_type": "code",
   "execution_count": 12,
   "metadata": {
    "ExecuteTime": {
     "end_time": "2021-01-16T04:09:19.905703Z",
     "start_time": "2021-01-16T04:09:19.824661Z"
    }
   },
   "outputs": [
    {
     "data": {
      "text/html": [
       "<div>\n",
       "<style scoped>\n",
       "    .dataframe tbody tr th:only-of-type {\n",
       "        vertical-align: middle;\n",
       "    }\n",
       "\n",
       "    .dataframe tbody tr th {\n",
       "        vertical-align: top;\n",
       "    }\n",
       "\n",
       "    .dataframe thead th {\n",
       "        text-align: right;\n",
       "    }\n",
       "</style>\n",
       "<table border=\"1\" class=\"dataframe\">\n",
       "  <thead>\n",
       "    <tr style=\"text-align: right;\">\n",
       "      <th></th>\n",
       "      <th>id</th>\n",
       "      <th>price</th>\n",
       "      <th>bedrooms</th>\n",
       "      <th>bathrooms</th>\n",
       "      <th>sqft_living</th>\n",
       "      <th>sqft_lot</th>\n",
       "      <th>floors</th>\n",
       "      <th>waterfront</th>\n",
       "      <th>view</th>\n",
       "      <th>condition</th>\n",
       "      <th>grade</th>\n",
       "      <th>sqft_above</th>\n",
       "      <th>sqft_basement</th>\n",
       "      <th>yr_built</th>\n",
       "      <th>yr_renovated</th>\n",
       "      <th>zipcode</th>\n",
       "      <th>lat</th>\n",
       "      <th>long</th>\n",
       "      <th>sqft_living15</th>\n",
       "      <th>sqft_lot15</th>\n",
       "      <th>month_sold</th>\n",
       "      <th>year_sold</th>\n",
       "    </tr>\n",
       "  </thead>\n",
       "  <tbody>\n",
       "    <tr>\n",
       "      <th>count</th>\n",
       "      <td>2.159700e+04</td>\n",
       "      <td>2.159700e+04</td>\n",
       "      <td>21597.000000</td>\n",
       "      <td>21597.000000</td>\n",
       "      <td>21597.000000</td>\n",
       "      <td>2.159700e+04</td>\n",
       "      <td>21597.000000</td>\n",
       "      <td>19221.000000</td>\n",
       "      <td>21534.000000</td>\n",
       "      <td>21597.000000</td>\n",
       "      <td>21597.000000</td>\n",
       "      <td>21597.000000</td>\n",
       "      <td>21597.000000</td>\n",
       "      <td>21597.000000</td>\n",
       "      <td>17755.000000</td>\n",
       "      <td>21597.000000</td>\n",
       "      <td>21597.000000</td>\n",
       "      <td>21597.000000</td>\n",
       "      <td>21597.000000</td>\n",
       "      <td>21597.000000</td>\n",
       "      <td>21597.000000</td>\n",
       "      <td>21597.000000</td>\n",
       "    </tr>\n",
       "    <tr>\n",
       "      <th>mean</th>\n",
       "      <td>4.580474e+09</td>\n",
       "      <td>5.402966e+05</td>\n",
       "      <td>3.373200</td>\n",
       "      <td>2.115826</td>\n",
       "      <td>2080.321850</td>\n",
       "      <td>1.509941e+04</td>\n",
       "      <td>1.494096</td>\n",
       "      <td>0.007596</td>\n",
       "      <td>0.233863</td>\n",
       "      <td>3.409825</td>\n",
       "      <td>7.657915</td>\n",
       "      <td>1788.596842</td>\n",
       "      <td>285.716581</td>\n",
       "      <td>1970.999676</td>\n",
       "      <td>83.636778</td>\n",
       "      <td>98077.951845</td>\n",
       "      <td>47.560093</td>\n",
       "      <td>-122.213982</td>\n",
       "      <td>1986.620318</td>\n",
       "      <td>12758.283512</td>\n",
       "      <td>6.573969</td>\n",
       "      <td>2014.322962</td>\n",
       "    </tr>\n",
       "    <tr>\n",
       "      <th>std</th>\n",
       "      <td>2.876736e+09</td>\n",
       "      <td>3.673681e+05</td>\n",
       "      <td>0.926299</td>\n",
       "      <td>0.768984</td>\n",
       "      <td>918.106125</td>\n",
       "      <td>4.141264e+04</td>\n",
       "      <td>0.539683</td>\n",
       "      <td>0.086825</td>\n",
       "      <td>0.765686</td>\n",
       "      <td>0.650546</td>\n",
       "      <td>1.173200</td>\n",
       "      <td>827.759761</td>\n",
       "      <td>439.819830</td>\n",
       "      <td>29.375234</td>\n",
       "      <td>399.946414</td>\n",
       "      <td>53.513072</td>\n",
       "      <td>0.138552</td>\n",
       "      <td>0.140724</td>\n",
       "      <td>685.230472</td>\n",
       "      <td>27274.441950</td>\n",
       "      <td>3.115061</td>\n",
       "      <td>0.467619</td>\n",
       "    </tr>\n",
       "    <tr>\n",
       "      <th>min</th>\n",
       "      <td>1.000102e+06</td>\n",
       "      <td>7.800000e+04</td>\n",
       "      <td>1.000000</td>\n",
       "      <td>0.500000</td>\n",
       "      <td>370.000000</td>\n",
       "      <td>5.200000e+02</td>\n",
       "      <td>1.000000</td>\n",
       "      <td>0.000000</td>\n",
       "      <td>0.000000</td>\n",
       "      <td>1.000000</td>\n",
       "      <td>3.000000</td>\n",
       "      <td>370.000000</td>\n",
       "      <td>0.000000</td>\n",
       "      <td>1900.000000</td>\n",
       "      <td>0.000000</td>\n",
       "      <td>98001.000000</td>\n",
       "      <td>47.155900</td>\n",
       "      <td>-122.519000</td>\n",
       "      <td>399.000000</td>\n",
       "      <td>651.000000</td>\n",
       "      <td>1.000000</td>\n",
       "      <td>2014.000000</td>\n",
       "    </tr>\n",
       "    <tr>\n",
       "      <th>25%</th>\n",
       "      <td>2.123049e+09</td>\n",
       "      <td>3.220000e+05</td>\n",
       "      <td>3.000000</td>\n",
       "      <td>1.750000</td>\n",
       "      <td>1430.000000</td>\n",
       "      <td>5.040000e+03</td>\n",
       "      <td>1.000000</td>\n",
       "      <td>0.000000</td>\n",
       "      <td>0.000000</td>\n",
       "      <td>3.000000</td>\n",
       "      <td>7.000000</td>\n",
       "      <td>1190.000000</td>\n",
       "      <td>0.000000</td>\n",
       "      <td>1951.000000</td>\n",
       "      <td>0.000000</td>\n",
       "      <td>98033.000000</td>\n",
       "      <td>47.471100</td>\n",
       "      <td>-122.328000</td>\n",
       "      <td>1490.000000</td>\n",
       "      <td>5100.000000</td>\n",
       "      <td>4.000000</td>\n",
       "      <td>2014.000000</td>\n",
       "    </tr>\n",
       "    <tr>\n",
       "      <th>50%</th>\n",
       "      <td>3.904930e+09</td>\n",
       "      <td>4.500000e+05</td>\n",
       "      <td>3.000000</td>\n",
       "      <td>2.250000</td>\n",
       "      <td>1910.000000</td>\n",
       "      <td>7.618000e+03</td>\n",
       "      <td>1.500000</td>\n",
       "      <td>0.000000</td>\n",
       "      <td>0.000000</td>\n",
       "      <td>3.000000</td>\n",
       "      <td>7.000000</td>\n",
       "      <td>1560.000000</td>\n",
       "      <td>0.000000</td>\n",
       "      <td>1975.000000</td>\n",
       "      <td>0.000000</td>\n",
       "      <td>98065.000000</td>\n",
       "      <td>47.571800</td>\n",
       "      <td>-122.231000</td>\n",
       "      <td>1840.000000</td>\n",
       "      <td>7620.000000</td>\n",
       "      <td>6.000000</td>\n",
       "      <td>2014.000000</td>\n",
       "    </tr>\n",
       "    <tr>\n",
       "      <th>75%</th>\n",
       "      <td>7.308900e+09</td>\n",
       "      <td>6.450000e+05</td>\n",
       "      <td>4.000000</td>\n",
       "      <td>2.500000</td>\n",
       "      <td>2550.000000</td>\n",
       "      <td>1.068500e+04</td>\n",
       "      <td>2.000000</td>\n",
       "      <td>0.000000</td>\n",
       "      <td>0.000000</td>\n",
       "      <td>4.000000</td>\n",
       "      <td>8.000000</td>\n",
       "      <td>2210.000000</td>\n",
       "      <td>550.000000</td>\n",
       "      <td>1997.000000</td>\n",
       "      <td>0.000000</td>\n",
       "      <td>98118.000000</td>\n",
       "      <td>47.678000</td>\n",
       "      <td>-122.125000</td>\n",
       "      <td>2360.000000</td>\n",
       "      <td>10083.000000</td>\n",
       "      <td>9.000000</td>\n",
       "      <td>2015.000000</td>\n",
       "    </tr>\n",
       "    <tr>\n",
       "      <th>max</th>\n",
       "      <td>9.900000e+09</td>\n",
       "      <td>7.700000e+06</td>\n",
       "      <td>33.000000</td>\n",
       "      <td>8.000000</td>\n",
       "      <td>13540.000000</td>\n",
       "      <td>1.651359e+06</td>\n",
       "      <td>3.500000</td>\n",
       "      <td>1.000000</td>\n",
       "      <td>4.000000</td>\n",
       "      <td>5.000000</td>\n",
       "      <td>13.000000</td>\n",
       "      <td>9410.000000</td>\n",
       "      <td>4820.000000</td>\n",
       "      <td>2015.000000</td>\n",
       "      <td>2015.000000</td>\n",
       "      <td>98199.000000</td>\n",
       "      <td>47.777600</td>\n",
       "      <td>-121.315000</td>\n",
       "      <td>6210.000000</td>\n",
       "      <td>871200.000000</td>\n",
       "      <td>12.000000</td>\n",
       "      <td>2015.000000</td>\n",
       "    </tr>\n",
       "  </tbody>\n",
       "</table>\n",
       "</div>"
      ],
      "text/plain": [
       "                 id         price      bedrooms     bathrooms   sqft_living  \\\n",
       "count  2.159700e+04  2.159700e+04  21597.000000  21597.000000  21597.000000   \n",
       "mean   4.580474e+09  5.402966e+05      3.373200      2.115826   2080.321850   \n",
       "std    2.876736e+09  3.673681e+05      0.926299      0.768984    918.106125   \n",
       "min    1.000102e+06  7.800000e+04      1.000000      0.500000    370.000000   \n",
       "25%    2.123049e+09  3.220000e+05      3.000000      1.750000   1430.000000   \n",
       "50%    3.904930e+09  4.500000e+05      3.000000      2.250000   1910.000000   \n",
       "75%    7.308900e+09  6.450000e+05      4.000000      2.500000   2550.000000   \n",
       "max    9.900000e+09  7.700000e+06     33.000000      8.000000  13540.000000   \n",
       "\n",
       "           sqft_lot        floors    waterfront          view     condition  \\\n",
       "count  2.159700e+04  21597.000000  19221.000000  21534.000000  21597.000000   \n",
       "mean   1.509941e+04      1.494096      0.007596      0.233863      3.409825   \n",
       "std    4.141264e+04      0.539683      0.086825      0.765686      0.650546   \n",
       "min    5.200000e+02      1.000000      0.000000      0.000000      1.000000   \n",
       "25%    5.040000e+03      1.000000      0.000000      0.000000      3.000000   \n",
       "50%    7.618000e+03      1.500000      0.000000      0.000000      3.000000   \n",
       "75%    1.068500e+04      2.000000      0.000000      0.000000      4.000000   \n",
       "max    1.651359e+06      3.500000      1.000000      4.000000      5.000000   \n",
       "\n",
       "              grade    sqft_above  sqft_basement      yr_built  yr_renovated  \\\n",
       "count  21597.000000  21597.000000   21597.000000  21597.000000  17755.000000   \n",
       "mean       7.657915   1788.596842     285.716581   1970.999676     83.636778   \n",
       "std        1.173200    827.759761     439.819830     29.375234    399.946414   \n",
       "min        3.000000    370.000000       0.000000   1900.000000      0.000000   \n",
       "25%        7.000000   1190.000000       0.000000   1951.000000      0.000000   \n",
       "50%        7.000000   1560.000000       0.000000   1975.000000      0.000000   \n",
       "75%        8.000000   2210.000000     550.000000   1997.000000      0.000000   \n",
       "max       13.000000   9410.000000    4820.000000   2015.000000   2015.000000   \n",
       "\n",
       "            zipcode           lat          long  sqft_living15     sqft_lot15  \\\n",
       "count  21597.000000  21597.000000  21597.000000   21597.000000   21597.000000   \n",
       "mean   98077.951845     47.560093   -122.213982    1986.620318   12758.283512   \n",
       "std       53.513072      0.138552      0.140724     685.230472   27274.441950   \n",
       "min    98001.000000     47.155900   -122.519000     399.000000     651.000000   \n",
       "25%    98033.000000     47.471100   -122.328000    1490.000000    5100.000000   \n",
       "50%    98065.000000     47.571800   -122.231000    1840.000000    7620.000000   \n",
       "75%    98118.000000     47.678000   -122.125000    2360.000000   10083.000000   \n",
       "max    98199.000000     47.777600   -121.315000    6210.000000  871200.000000   \n",
       "\n",
       "         month_sold     year_sold  \n",
       "count  21597.000000  21597.000000  \n",
       "mean       6.573969   2014.322962  \n",
       "std        3.115061      0.467619  \n",
       "min        1.000000   2014.000000  \n",
       "25%        4.000000   2014.000000  \n",
       "50%        6.000000   2014.000000  \n",
       "75%        9.000000   2015.000000  \n",
       "max       12.000000   2015.000000  "
      ]
     },
     "execution_count": 12,
     "metadata": {},
     "output_type": "execute_result"
    }
   ],
   "source": [
    "df.describe()"
   ]
  },
  {
   "cell_type": "markdown",
   "metadata": {},
   "source": [
    "That house with 33 bedrooms is definitely odd. Let's check it out."
   ]
  },
  {
   "cell_type": "code",
   "execution_count": 13,
   "metadata": {
    "ExecuteTime": {
     "end_time": "2021-01-16T04:09:19.913112Z",
     "start_time": "2021-01-16T04:09:19.907992Z"
    },
    "scrolled": true
   },
   "outputs": [
    {
     "data": {
      "text/plain": [
       "3     9824\n",
       "4     6882\n",
       "2     2760\n",
       "5     1601\n",
       "6      272\n",
       "1      196\n",
       "7       38\n",
       "8       13\n",
       "9        6\n",
       "10       3\n",
       "11       1\n",
       "33       1\n",
       "Name: bedrooms, dtype: int64"
      ]
     },
     "execution_count": 13,
     "metadata": {},
     "output_type": "execute_result"
    }
   ],
   "source": [
    "df.bedrooms.value_counts()"
   ]
  },
  {
   "cell_type": "code",
   "execution_count": 14,
   "metadata": {
    "ExecuteTime": {
     "end_time": "2021-01-16T04:09:19.931050Z",
     "start_time": "2021-01-16T04:09:19.914631Z"
    },
    "scrolled": true
   },
   "outputs": [
    {
     "data": {
      "text/html": [
       "<div>\n",
       "<style scoped>\n",
       "    .dataframe tbody tr th:only-of-type {\n",
       "        vertical-align: middle;\n",
       "    }\n",
       "\n",
       "    .dataframe tbody tr th {\n",
       "        vertical-align: top;\n",
       "    }\n",
       "\n",
       "    .dataframe thead th {\n",
       "        text-align: right;\n",
       "    }\n",
       "</style>\n",
       "<table border=\"1\" class=\"dataframe\">\n",
       "  <thead>\n",
       "    <tr style=\"text-align: right;\">\n",
       "      <th></th>\n",
       "      <th>id</th>\n",
       "      <th>price</th>\n",
       "      <th>bedrooms</th>\n",
       "      <th>bathrooms</th>\n",
       "      <th>sqft_living</th>\n",
       "      <th>sqft_lot</th>\n",
       "      <th>floors</th>\n",
       "      <th>waterfront</th>\n",
       "      <th>view</th>\n",
       "      <th>condition</th>\n",
       "      <th>grade</th>\n",
       "      <th>sqft_above</th>\n",
       "      <th>sqft_basement</th>\n",
       "      <th>yr_built</th>\n",
       "      <th>yr_renovated</th>\n",
       "      <th>zipcode</th>\n",
       "      <th>lat</th>\n",
       "      <th>long</th>\n",
       "      <th>sqft_living15</th>\n",
       "      <th>sqft_lot15</th>\n",
       "      <th>month_sold</th>\n",
       "      <th>year_sold</th>\n",
       "    </tr>\n",
       "  </thead>\n",
       "  <tbody>\n",
       "    <tr>\n",
       "      <th>8748</th>\n",
       "      <td>1773100755</td>\n",
       "      <td>520000.0</td>\n",
       "      <td>11</td>\n",
       "      <td>3.00</td>\n",
       "      <td>3000</td>\n",
       "      <td>4960</td>\n",
       "      <td>2.0</td>\n",
       "      <td>0.0</td>\n",
       "      <td>0.0</td>\n",
       "      <td>3</td>\n",
       "      <td>7</td>\n",
       "      <td>2400</td>\n",
       "      <td>600.0</td>\n",
       "      <td>1918</td>\n",
       "      <td>1999.0</td>\n",
       "      <td>98106</td>\n",
       "      <td>47.5560</td>\n",
       "      <td>-122.363</td>\n",
       "      <td>1420</td>\n",
       "      <td>4960</td>\n",
       "      <td>8</td>\n",
       "      <td>2014</td>\n",
       "    </tr>\n",
       "    <tr>\n",
       "      <th>13301</th>\n",
       "      <td>627300145</td>\n",
       "      <td>1150000.0</td>\n",
       "      <td>10</td>\n",
       "      <td>5.25</td>\n",
       "      <td>4590</td>\n",
       "      <td>10920</td>\n",
       "      <td>1.0</td>\n",
       "      <td>0.0</td>\n",
       "      <td>2.0</td>\n",
       "      <td>3</td>\n",
       "      <td>9</td>\n",
       "      <td>2500</td>\n",
       "      <td>2090.0</td>\n",
       "      <td>2008</td>\n",
       "      <td>0.0</td>\n",
       "      <td>98004</td>\n",
       "      <td>47.5861</td>\n",
       "      <td>-122.113</td>\n",
       "      <td>2730</td>\n",
       "      <td>10400</td>\n",
       "      <td>8</td>\n",
       "      <td>2014</td>\n",
       "    </tr>\n",
       "    <tr>\n",
       "      <th>15147</th>\n",
       "      <td>5566100170</td>\n",
       "      <td>650000.0</td>\n",
       "      <td>10</td>\n",
       "      <td>2.00</td>\n",
       "      <td>3610</td>\n",
       "      <td>11914</td>\n",
       "      <td>2.0</td>\n",
       "      <td>0.0</td>\n",
       "      <td>0.0</td>\n",
       "      <td>4</td>\n",
       "      <td>7</td>\n",
       "      <td>3010</td>\n",
       "      <td>600.0</td>\n",
       "      <td>1958</td>\n",
       "      <td>0.0</td>\n",
       "      <td>98006</td>\n",
       "      <td>47.5705</td>\n",
       "      <td>-122.175</td>\n",
       "      <td>2040</td>\n",
       "      <td>11914</td>\n",
       "      <td>10</td>\n",
       "      <td>2014</td>\n",
       "    </tr>\n",
       "    <tr>\n",
       "      <th>15856</th>\n",
       "      <td>2402100895</td>\n",
       "      <td>640000.0</td>\n",
       "      <td>33</td>\n",
       "      <td>1.75</td>\n",
       "      <td>1620</td>\n",
       "      <td>6000</td>\n",
       "      <td>1.0</td>\n",
       "      <td>0.0</td>\n",
       "      <td>0.0</td>\n",
       "      <td>5</td>\n",
       "      <td>7</td>\n",
       "      <td>1040</td>\n",
       "      <td>580.0</td>\n",
       "      <td>1947</td>\n",
       "      <td>0.0</td>\n",
       "      <td>98103</td>\n",
       "      <td>47.6878</td>\n",
       "      <td>-122.331</td>\n",
       "      <td>1330</td>\n",
       "      <td>4700</td>\n",
       "      <td>6</td>\n",
       "      <td>2014</td>\n",
       "    </tr>\n",
       "    <tr>\n",
       "      <th>19239</th>\n",
       "      <td>8812401450</td>\n",
       "      <td>660000.0</td>\n",
       "      <td>10</td>\n",
       "      <td>3.00</td>\n",
       "      <td>2920</td>\n",
       "      <td>3745</td>\n",
       "      <td>2.0</td>\n",
       "      <td>0.0</td>\n",
       "      <td>0.0</td>\n",
       "      <td>4</td>\n",
       "      <td>7</td>\n",
       "      <td>1860</td>\n",
       "      <td>1060.0</td>\n",
       "      <td>1913</td>\n",
       "      <td>0.0</td>\n",
       "      <td>98105</td>\n",
       "      <td>47.6635</td>\n",
       "      <td>-122.320</td>\n",
       "      <td>1810</td>\n",
       "      <td>3745</td>\n",
       "      <td>12</td>\n",
       "      <td>2014</td>\n",
       "    </tr>\n",
       "  </tbody>\n",
       "</table>\n",
       "</div>"
      ],
      "text/plain": [
       "               id      price  bedrooms  bathrooms  sqft_living  sqft_lot  \\\n",
       "8748   1773100755   520000.0        11       3.00         3000      4960   \n",
       "13301   627300145  1150000.0        10       5.25         4590     10920   \n",
       "15147  5566100170   650000.0        10       2.00         3610     11914   \n",
       "15856  2402100895   640000.0        33       1.75         1620      6000   \n",
       "19239  8812401450   660000.0        10       3.00         2920      3745   \n",
       "\n",
       "       floors  waterfront  view  condition  grade  sqft_above  sqft_basement  \\\n",
       "8748      2.0         0.0   0.0          3      7        2400          600.0   \n",
       "13301     1.0         0.0   2.0          3      9        2500         2090.0   \n",
       "15147     2.0         0.0   0.0          4      7        3010          600.0   \n",
       "15856     1.0         0.0   0.0          5      7        1040          580.0   \n",
       "19239     2.0         0.0   0.0          4      7        1860         1060.0   \n",
       "\n",
       "       yr_built  yr_renovated  zipcode      lat     long  sqft_living15  \\\n",
       "8748       1918        1999.0    98106  47.5560 -122.363           1420   \n",
       "13301      2008           0.0    98004  47.5861 -122.113           2730   \n",
       "15147      1958           0.0    98006  47.5705 -122.175           2040   \n",
       "15856      1947           0.0    98103  47.6878 -122.331           1330   \n",
       "19239      1913           0.0    98105  47.6635 -122.320           1810   \n",
       "\n",
       "       sqft_lot15  month_sold  year_sold  \n",
       "8748         4960           8       2014  \n",
       "13301       10400           8       2014  \n",
       "15147       11914          10       2014  \n",
       "15856        4700           6       2014  \n",
       "19239        3745          12       2014  "
      ]
     },
     "execution_count": 14,
     "metadata": {},
     "output_type": "execute_result"
    }
   ],
   "source": [
    "# Let's look at any house that had 10+ bedrooms and see how the \n",
    "# house with 33 bedrooms compares\n",
    "df[df['bedrooms'] >= 10]"
   ]
  },
  {
   "cell_type": "markdown",
   "metadata": {},
   "source": [
    "Some ways it doesn't differ too much from the other houses:\n",
    "* best condition\n",
    "* similar grade\n",
    "* median in terms of lot size\n",
    "* fairly similar number of bathrooms\n",
    "\n",
    "But, in some ways, it is concerning:\n",
    "* lowest amount of square footage\n",
    "* only 1 story / floor\n",
    "* only 1.75 bathrooms for 33 rooms?\n",
    "* But, mainly, 33 rooms?!? \n",
    "\n",
    "It's too suspicious. Let's just remove it."
   ]
  },
  {
   "cell_type": "code",
   "execution_count": 15,
   "metadata": {
    "ExecuteTime": {
     "end_time": "2021-01-16T04:09:19.946177Z",
     "start_time": "2021-01-16T04:09:19.933144Z"
    }
   },
   "outputs": [],
   "source": [
    "# Drop the 33 bedroom house then verify that it is gone\n",
    "df.drop(index=15856, inplace= True)\n",
    "# df[df['bedrooms'] >= 10]"
   ]
  },
  {
   "cell_type": "markdown",
   "metadata": {},
   "source": [
    "### Null values"
   ]
  },
  {
   "cell_type": "code",
   "execution_count": 16,
   "metadata": {
    "ExecuteTime": {
     "end_time": "2021-01-16T04:09:19.955661Z",
     "start_time": "2021-01-16T04:09:19.948452Z"
    }
   },
   "outputs": [
    {
     "data": {
      "text/plain": [
       "0.0    0.992404\n",
       "1.0    0.007596\n",
       "Name: waterfront, dtype: float64"
      ]
     },
     "execution_count": 16,
     "metadata": {},
     "output_type": "execute_result"
    }
   ],
   "source": [
    "# look at values in waterfront\n",
    "df.waterfront.value_counts(normalize= True)"
   ]
  },
  {
   "cell_type": "code",
   "execution_count": 17,
   "metadata": {
    "ExecuteTime": {
     "end_time": "2021-01-16T04:09:19.966446Z",
     "start_time": "2021-01-16T04:09:19.957944Z"
    }
   },
   "outputs": [
    {
     "data": {
      "text/plain": [
       "0.0    0.901918\n",
       "2.0    0.044443\n",
       "3.0    0.023592\n",
       "1.0    0.015325\n",
       "4.0    0.014722\n",
       "Name: view, dtype: float64"
      ]
     },
     "execution_count": 17,
     "metadata": {},
     "output_type": "execute_result"
    }
   ],
   "source": [
    "# look at values in view\n",
    "df.view.value_counts(normalize= True)"
   ]
  },
  {
   "cell_type": "code",
   "execution_count": 18,
   "metadata": {
    "ExecuteTime": {
     "end_time": "2021-01-16T04:09:19.978570Z",
     "start_time": "2021-01-16T04:09:19.968839Z"
    }
   },
   "outputs": [
    {
     "data": {
      "text/plain": [
       "0.0       0.958094\n",
       "2014.0    0.004112\n",
       "2003.0    0.001746\n",
       "2013.0    0.001746\n",
       "2007.0    0.001690\n",
       "            ...   \n",
       "1946.0    0.000056\n",
       "1959.0    0.000056\n",
       "1971.0    0.000056\n",
       "1951.0    0.000056\n",
       "1954.0    0.000056\n",
       "Name: yr_renovated, Length: 70, dtype: float64"
      ]
     },
     "execution_count": 18,
     "metadata": {},
     "output_type": "execute_result"
    }
   ],
   "source": [
    "# look at values in yr_renovated column\n",
    "df.yr_renovated.value_counts(normalize= True)"
   ]
  },
  {
   "cell_type": "markdown",
   "metadata": {},
   "source": [
    "99.2% of homes are not considered waterfront properties.\n",
    "\n",
    "90% of homes do not have a view. While there are more categories, and replacing the null values with 0 may still be iffy, there are not very many missing values.\n",
    "\n",
    "95.8% of homes have never been renovated. \n",
    "\n",
    "We can feel secure in replacing those all the missing values with zeros."
   ]
  },
  {
   "cell_type": "code",
   "execution_count": 19,
   "metadata": {
    "ExecuteTime": {
     "end_time": "2021-01-16T04:09:19.986855Z",
     "start_time": "2021-01-16T04:09:19.983221Z"
    }
   },
   "outputs": [],
   "source": [
    "df.fillna(0, inplace= True)"
   ]
  },
  {
   "cell_type": "markdown",
   "metadata": {
    "ExecuteTime": {
     "end_time": "2021-01-06T23:57:19.161920Z",
     "start_time": "2021-01-06T23:57:19.152926Z"
    },
    "scrolled": false
   },
   "source": [
    "### Duplicates"
   ]
  },
  {
   "cell_type": "markdown",
   "metadata": {},
   "source": [
    "Most columns will likely have duplicates - especially the categorical columns. But the 'id' should have only one id per entry. Let's check that out."
   ]
  },
  {
   "cell_type": "code",
   "execution_count": 20,
   "metadata": {
    "ExecuteTime": {
     "end_time": "2021-01-16T04:09:19.995890Z",
     "start_time": "2021-01-16T04:09:19.989542Z"
    }
   },
   "outputs": [
    {
     "data": {
      "text/plain": [
       "177"
      ]
     },
     "execution_count": 20,
     "metadata": {},
     "output_type": "execute_result"
    }
   ],
   "source": [
    "# check id column for duplicate entries\n",
    "df.id.duplicated().sum()"
   ]
  },
  {
   "cell_type": "code",
   "execution_count": 21,
   "metadata": {
    "ExecuteTime": {
     "end_time": "2021-01-16T04:09:20.006529Z",
     "start_time": "2021-01-16T04:09:19.999788Z"
    }
   },
   "outputs": [],
   "source": [
    "df_id_dups = df[df.duplicated('id')]"
   ]
  },
  {
   "cell_type": "code",
   "execution_count": 22,
   "metadata": {
    "ExecuteTime": {
     "end_time": "2021-01-16T04:09:20.012777Z",
     "start_time": "2021-01-16T04:09:20.008975Z"
    }
   },
   "outputs": [],
   "source": [
    "df_id_dups.reset_index(drop= True, inplace= True)"
   ]
  },
  {
   "cell_type": "code",
   "execution_count": 23,
   "metadata": {
    "ExecuteTime": {
     "end_time": "2021-01-16T04:09:20.040097Z",
     "start_time": "2021-01-16T04:09:20.021151Z"
    }
   },
   "outputs": [
    {
     "data": {
      "text/html": [
       "<div>\n",
       "<style scoped>\n",
       "    .dataframe tbody tr th:only-of-type {\n",
       "        vertical-align: middle;\n",
       "    }\n",
       "\n",
       "    .dataframe tbody tr th {\n",
       "        vertical-align: top;\n",
       "    }\n",
       "\n",
       "    .dataframe thead th {\n",
       "        text-align: right;\n",
       "    }\n",
       "</style>\n",
       "<table border=\"1\" class=\"dataframe\">\n",
       "  <thead>\n",
       "    <tr style=\"text-align: right;\">\n",
       "      <th></th>\n",
       "      <th>id</th>\n",
       "      <th>price</th>\n",
       "      <th>bedrooms</th>\n",
       "      <th>bathrooms</th>\n",
       "      <th>sqft_living</th>\n",
       "      <th>sqft_lot</th>\n",
       "      <th>floors</th>\n",
       "      <th>waterfront</th>\n",
       "      <th>view</th>\n",
       "      <th>condition</th>\n",
       "      <th>grade</th>\n",
       "      <th>sqft_above</th>\n",
       "      <th>sqft_basement</th>\n",
       "      <th>yr_built</th>\n",
       "      <th>yr_renovated</th>\n",
       "      <th>zipcode</th>\n",
       "      <th>lat</th>\n",
       "      <th>long</th>\n",
       "      <th>sqft_living15</th>\n",
       "      <th>sqft_lot15</th>\n",
       "      <th>month_sold</th>\n",
       "      <th>year_sold</th>\n",
       "    </tr>\n",
       "  </thead>\n",
       "  <tbody>\n",
       "    <tr>\n",
       "      <th>93</th>\n",
       "      <td>6021501535</td>\n",
       "      <td>430000.0</td>\n",
       "      <td>3</td>\n",
       "      <td>1.5</td>\n",
       "      <td>1580</td>\n",
       "      <td>5000</td>\n",
       "      <td>1.0</td>\n",
       "      <td>0.0</td>\n",
       "      <td>0.0</td>\n",
       "      <td>3</td>\n",
       "      <td>8</td>\n",
       "      <td>1290</td>\n",
       "      <td>290.0</td>\n",
       "      <td>1939</td>\n",
       "      <td>0.0</td>\n",
       "      <td>98117</td>\n",
       "      <td>47.687</td>\n",
       "      <td>-122.386</td>\n",
       "      <td>1570</td>\n",
       "      <td>4500</td>\n",
       "      <td>7</td>\n",
       "      <td>2014</td>\n",
       "    </tr>\n",
       "    <tr>\n",
       "      <th>94</th>\n",
       "      <td>6021501535</td>\n",
       "      <td>700000.0</td>\n",
       "      <td>3</td>\n",
       "      <td>1.5</td>\n",
       "      <td>1580</td>\n",
       "      <td>5000</td>\n",
       "      <td>1.0</td>\n",
       "      <td>0.0</td>\n",
       "      <td>0.0</td>\n",
       "      <td>3</td>\n",
       "      <td>8</td>\n",
       "      <td>1290</td>\n",
       "      <td>290.0</td>\n",
       "      <td>1939</td>\n",
       "      <td>0.0</td>\n",
       "      <td>98117</td>\n",
       "      <td>47.687</td>\n",
       "      <td>-122.386</td>\n",
       "      <td>1570</td>\n",
       "      <td>4500</td>\n",
       "      <td>12</td>\n",
       "      <td>2014</td>\n",
       "    </tr>\n",
       "  </tbody>\n",
       "</table>\n",
       "</div>"
      ],
      "text/plain": [
       "            id     price  bedrooms  bathrooms  sqft_living  sqft_lot  floors  \\\n",
       "93  6021501535  430000.0         3        1.5         1580      5000     1.0   \n",
       "94  6021501535  700000.0         3        1.5         1580      5000     1.0   \n",
       "\n",
       "    waterfront  view  condition  grade  sqft_above  sqft_basement  yr_built  \\\n",
       "93         0.0   0.0          3      8        1290          290.0      1939   \n",
       "94         0.0   0.0          3      8        1290          290.0      1939   \n",
       "\n",
       "    yr_renovated  zipcode     lat     long  sqft_living15  sqft_lot15  \\\n",
       "93           0.0    98117  47.687 -122.386           1570        4500   \n",
       "94           0.0    98117  47.687 -122.386           1570        4500   \n",
       "\n",
       "    month_sold  year_sold  \n",
       "93           7       2014  \n",
       "94          12       2014  "
      ]
     },
     "execution_count": 23,
     "metadata": {},
     "output_type": "execute_result"
    }
   ],
   "source": [
    "df.loc[df['id'] == 6021501535]"
   ]
  },
  {
   "cell_type": "code",
   "execution_count": 24,
   "metadata": {
    "ExecuteTime": {
     "end_time": "2021-01-16T04:09:20.057878Z",
     "start_time": "2021-01-16T04:09:20.045617Z"
    },
    "scrolled": true
   },
   "outputs": [
    {
     "data": {
      "text/html": [
       "<div>\n",
       "<style scoped>\n",
       "    .dataframe tbody tr th:only-of-type {\n",
       "        vertical-align: middle;\n",
       "    }\n",
       "\n",
       "    .dataframe tbody tr th {\n",
       "        vertical-align: top;\n",
       "    }\n",
       "\n",
       "    .dataframe thead th {\n",
       "        text-align: right;\n",
       "    }\n",
       "</style>\n",
       "<table border=\"1\" class=\"dataframe\">\n",
       "  <thead>\n",
       "    <tr style=\"text-align: right;\">\n",
       "      <th></th>\n",
       "      <th>id</th>\n",
       "      <th>price</th>\n",
       "      <th>bedrooms</th>\n",
       "      <th>bathrooms</th>\n",
       "      <th>sqft_living</th>\n",
       "      <th>sqft_lot</th>\n",
       "      <th>floors</th>\n",
       "      <th>waterfront</th>\n",
       "      <th>view</th>\n",
       "      <th>condition</th>\n",
       "      <th>grade</th>\n",
       "      <th>sqft_above</th>\n",
       "      <th>sqft_basement</th>\n",
       "      <th>yr_built</th>\n",
       "      <th>yr_renovated</th>\n",
       "      <th>zipcode</th>\n",
       "      <th>lat</th>\n",
       "      <th>long</th>\n",
       "      <th>sqft_living15</th>\n",
       "      <th>sqft_lot15</th>\n",
       "      <th>month_sold</th>\n",
       "      <th>year_sold</th>\n",
       "    </tr>\n",
       "  </thead>\n",
       "  <tbody>\n",
       "    <tr>\n",
       "      <th>313</th>\n",
       "      <td>4139480200</td>\n",
       "      <td>1380000.0</td>\n",
       "      <td>4</td>\n",
       "      <td>3.25</td>\n",
       "      <td>4290</td>\n",
       "      <td>12103</td>\n",
       "      <td>1.0</td>\n",
       "      <td>0.0</td>\n",
       "      <td>3.0</td>\n",
       "      <td>3</td>\n",
       "      <td>11</td>\n",
       "      <td>2690</td>\n",
       "      <td>1600.0</td>\n",
       "      <td>1997</td>\n",
       "      <td>0.0</td>\n",
       "      <td>98006</td>\n",
       "      <td>47.5503</td>\n",
       "      <td>-122.102</td>\n",
       "      <td>3860</td>\n",
       "      <td>11244</td>\n",
       "      <td>6</td>\n",
       "      <td>2014</td>\n",
       "    </tr>\n",
       "    <tr>\n",
       "      <th>314</th>\n",
       "      <td>4139480200</td>\n",
       "      <td>1400000.0</td>\n",
       "      <td>4</td>\n",
       "      <td>3.25</td>\n",
       "      <td>4290</td>\n",
       "      <td>12103</td>\n",
       "      <td>1.0</td>\n",
       "      <td>0.0</td>\n",
       "      <td>3.0</td>\n",
       "      <td>3</td>\n",
       "      <td>11</td>\n",
       "      <td>2690</td>\n",
       "      <td>1600.0</td>\n",
       "      <td>1997</td>\n",
       "      <td>0.0</td>\n",
       "      <td>98006</td>\n",
       "      <td>47.5503</td>\n",
       "      <td>-122.102</td>\n",
       "      <td>3860</td>\n",
       "      <td>11244</td>\n",
       "      <td>12</td>\n",
       "      <td>2014</td>\n",
       "    </tr>\n",
       "  </tbody>\n",
       "</table>\n",
       "</div>"
      ],
      "text/plain": [
       "             id      price  bedrooms  bathrooms  sqft_living  sqft_lot  \\\n",
       "313  4139480200  1380000.0         4       3.25         4290     12103   \n",
       "314  4139480200  1400000.0         4       3.25         4290     12103   \n",
       "\n",
       "     floors  waterfront  view  condition  grade  sqft_above  sqft_basement  \\\n",
       "313     1.0         0.0   3.0          3     11        2690         1600.0   \n",
       "314     1.0         0.0   3.0          3     11        2690         1600.0   \n",
       "\n",
       "     yr_built  yr_renovated  zipcode      lat     long  sqft_living15  \\\n",
       "313      1997           0.0    98006  47.5503 -122.102           3860   \n",
       "314      1997           0.0    98006  47.5503 -122.102           3860   \n",
       "\n",
       "     sqft_lot15  month_sold  year_sold  \n",
       "313       11244           6       2014  \n",
       "314       11244          12       2014  "
      ]
     },
     "execution_count": 24,
     "metadata": {},
     "output_type": "execute_result"
    }
   ],
   "source": [
    "df.loc[df['id'] == 4139480200]"
   ]
  },
  {
   "cell_type": "code",
   "execution_count": 25,
   "metadata": {
    "ExecuteTime": {
     "end_time": "2021-01-16T04:09:20.071350Z",
     "start_time": "2021-01-16T04:09:20.059374Z"
    },
    "scrolled": true
   },
   "outputs": [
    {
     "data": {
      "text/html": [
       "<div>\n",
       "<style scoped>\n",
       "    .dataframe tbody tr th:only-of-type {\n",
       "        vertical-align: middle;\n",
       "    }\n",
       "\n",
       "    .dataframe tbody tr th {\n",
       "        vertical-align: top;\n",
       "    }\n",
       "\n",
       "    .dataframe thead th {\n",
       "        text-align: right;\n",
       "    }\n",
       "</style>\n",
       "<table border=\"1\" class=\"dataframe\">\n",
       "  <thead>\n",
       "    <tr style=\"text-align: right;\">\n",
       "      <th></th>\n",
       "      <th>id</th>\n",
       "      <th>price</th>\n",
       "      <th>bedrooms</th>\n",
       "      <th>bathrooms</th>\n",
       "      <th>sqft_living</th>\n",
       "      <th>sqft_lot</th>\n",
       "      <th>floors</th>\n",
       "      <th>waterfront</th>\n",
       "      <th>view</th>\n",
       "      <th>condition</th>\n",
       "      <th>grade</th>\n",
       "      <th>sqft_above</th>\n",
       "      <th>sqft_basement</th>\n",
       "      <th>yr_built</th>\n",
       "      <th>yr_renovated</th>\n",
       "      <th>zipcode</th>\n",
       "      <th>lat</th>\n",
       "      <th>long</th>\n",
       "      <th>sqft_living15</th>\n",
       "      <th>sqft_lot15</th>\n",
       "      <th>month_sold</th>\n",
       "      <th>year_sold</th>\n",
       "    </tr>\n",
       "  </thead>\n",
       "  <tbody>\n",
       "    <tr>\n",
       "      <th>345</th>\n",
       "      <td>3969300030</td>\n",
       "      <td>165000.0</td>\n",
       "      <td>4</td>\n",
       "      <td>1.0</td>\n",
       "      <td>1000</td>\n",
       "      <td>7134</td>\n",
       "      <td>1.0</td>\n",
       "      <td>0.0</td>\n",
       "      <td>0.0</td>\n",
       "      <td>3</td>\n",
       "      <td>6</td>\n",
       "      <td>1000</td>\n",
       "      <td>0.0</td>\n",
       "      <td>1943</td>\n",
       "      <td>0.0</td>\n",
       "      <td>98178</td>\n",
       "      <td>47.4897</td>\n",
       "      <td>-122.24</td>\n",
       "      <td>1020</td>\n",
       "      <td>7138</td>\n",
       "      <td>7</td>\n",
       "      <td>2014</td>\n",
       "    </tr>\n",
       "    <tr>\n",
       "      <th>346</th>\n",
       "      <td>3969300030</td>\n",
       "      <td>239900.0</td>\n",
       "      <td>4</td>\n",
       "      <td>1.0</td>\n",
       "      <td>1000</td>\n",
       "      <td>7134</td>\n",
       "      <td>1.0</td>\n",
       "      <td>0.0</td>\n",
       "      <td>0.0</td>\n",
       "      <td>3</td>\n",
       "      <td>6</td>\n",
       "      <td>1000</td>\n",
       "      <td>0.0</td>\n",
       "      <td>1943</td>\n",
       "      <td>0.0</td>\n",
       "      <td>98178</td>\n",
       "      <td>47.4897</td>\n",
       "      <td>-122.24</td>\n",
       "      <td>1020</td>\n",
       "      <td>7138</td>\n",
       "      <td>12</td>\n",
       "      <td>2014</td>\n",
       "    </tr>\n",
       "  </tbody>\n",
       "</table>\n",
       "</div>"
      ],
      "text/plain": [
       "             id     price  bedrooms  bathrooms  sqft_living  sqft_lot  floors  \\\n",
       "345  3969300030  165000.0         4        1.0         1000      7134     1.0   \n",
       "346  3969300030  239900.0         4        1.0         1000      7134     1.0   \n",
       "\n",
       "     waterfront  view  condition  grade  sqft_above  sqft_basement  yr_built  \\\n",
       "345         0.0   0.0          3      6        1000            0.0      1943   \n",
       "346         0.0   0.0          3      6        1000            0.0      1943   \n",
       "\n",
       "     yr_renovated  zipcode      lat    long  sqft_living15  sqft_lot15  \\\n",
       "345           0.0    98178  47.4897 -122.24           1020        7138   \n",
       "346           0.0    98178  47.4897 -122.24           1020        7138   \n",
       "\n",
       "     month_sold  year_sold  \n",
       "345           7       2014  \n",
       "346          12       2014  "
      ]
     },
     "execution_count": 25,
     "metadata": {},
     "output_type": "execute_result"
    }
   ],
   "source": [
    "df.loc[df['id'] == 3969300030]"
   ]
  },
  {
   "cell_type": "markdown",
   "metadata": {},
   "source": [
    "It looks like the rows that have identical ID numbers were sold a few months apart. I'm going to drop the older data. (AKA the first entries)"
   ]
  },
  {
   "cell_type": "code",
   "execution_count": 26,
   "metadata": {
    "ExecuteTime": {
     "end_time": "2021-01-16T04:09:20.078602Z",
     "start_time": "2021-01-16T04:09:20.073050Z"
    }
   },
   "outputs": [],
   "source": [
    "df.drop_duplicates(subset= 'id', keep= 'last', inplace= True)"
   ]
  },
  {
   "cell_type": "code",
   "execution_count": 27,
   "metadata": {
    "ExecuteTime": {
     "end_time": "2021-01-16T04:09:20.085704Z",
     "start_time": "2021-01-16T04:09:20.080760Z"
    }
   },
   "outputs": [
    {
     "data": {
      "text/plain": [
       "0"
      ]
     },
     "execution_count": 27,
     "metadata": {},
     "output_type": "execute_result"
    }
   ],
   "source": [
    "df.id.duplicated().sum()"
   ]
  },
  {
   "cell_type": "code",
   "execution_count": 28,
   "metadata": {
    "ExecuteTime": {
     "end_time": "2021-01-16T04:09:20.090481Z",
     "start_time": "2021-01-16T04:09:20.088090Z"
    }
   },
   "outputs": [],
   "source": [
    "df.reset_index(inplace= True, drop= True)"
   ]
  },
  {
   "cell_type": "markdown",
   "metadata": {},
   "source": [
    "Great! We took care of duplicates, null values, odd values, and have correct data types.\n",
    "\n",
    "We can move on to taking a closer look at the data."
   ]
  },
  {
   "cell_type": "markdown",
   "metadata": {},
   "source": [
    "### Baseline Model\n",
    "\n",
    "Let's take a look at a baseline model now that everything is cleaned up."
   ]
  },
  {
   "cell_type": "code",
   "execution_count": 29,
   "metadata": {
    "ExecuteTime": {
     "end_time": "2021-01-16T04:09:20.192877Z",
     "start_time": "2021-01-16T04:09:20.092168Z"
    }
   },
   "outputs": [
    {
     "data": {
      "text/html": [
       "<table class=\"simpletable\">\n",
       "<caption>OLS Regression Results</caption>\n",
       "<tr>\n",
       "  <th>Dep. Variable:</th>          <td>price</td>      <th>  R-squared:         </th>  <td>   0.702</td>  \n",
       "</tr>\n",
       "<tr>\n",
       "  <th>Model:</th>                   <td>OLS</td>       <th>  Adj. R-squared:    </th>  <td>   0.702</td>  \n",
       "</tr>\n",
       "<tr>\n",
       "  <th>Method:</th>             <td>Least Squares</td>  <th>  F-statistic:       </th>  <td>   2399.</td>  \n",
       "</tr>\n",
       "<tr>\n",
       "  <th>Date:</th>             <td>Fri, 15 Jan 2021</td> <th>  Prob (F-statistic):</th>   <td>  0.00</td>   \n",
       "</tr>\n",
       "<tr>\n",
       "  <th>Time:</th>                 <td>22:09:20</td>     <th>  Log-Likelihood:    </th> <td>-2.9191e+05</td>\n",
       "</tr>\n",
       "<tr>\n",
       "  <th>No. Observations:</th>      <td> 21419</td>      <th>  AIC:               </th>  <td>5.839e+05</td> \n",
       "</tr>\n",
       "<tr>\n",
       "  <th>Df Residuals:</th>          <td> 21397</td>      <th>  BIC:               </th>  <td>5.840e+05</td> \n",
       "</tr>\n",
       "<tr>\n",
       "  <th>Df Model:</th>              <td>    21</td>      <th>                     </th>      <td> </td>     \n",
       "</tr>\n",
       "<tr>\n",
       "  <th>Covariance Type:</th>      <td>nonrobust</td>    <th>                     </th>      <td> </td>     \n",
       "</tr>\n",
       "</table>\n",
       "<table class=\"simpletable\">\n",
       "<tr>\n",
       "        <td></td>           <th>coef</th>     <th>std err</th>      <th>t</th>      <th>P>|t|</th>  <th>[0.025</th>    <th>0.975]</th>  \n",
       "</tr>\n",
       "<tr>\n",
       "  <th>Intercept</th>     <td>-6.733e+07</td> <td> 9.97e+06</td> <td>   -6.750</td> <td> 0.000</td> <td>-8.69e+07</td> <td>-4.78e+07</td>\n",
       "</tr>\n",
       "<tr>\n",
       "  <th>id</th>            <td>-1.391e-06</td> <td> 4.84e-07</td> <td>   -2.877</td> <td> 0.004</td> <td>-2.34e-06</td> <td>-4.44e-07</td>\n",
       "</tr>\n",
       "<tr>\n",
       "  <th>bedrooms</th>      <td>-3.957e+04</td> <td> 1988.300</td> <td>  -19.901</td> <td> 0.000</td> <td>-4.35e+04</td> <td>-3.57e+04</td>\n",
       "</tr>\n",
       "<tr>\n",
       "  <th>bathrooms</th>     <td> 4.349e+04</td> <td> 3274.741</td> <td>   13.282</td> <td> 0.000</td> <td> 3.71e+04</td> <td> 4.99e+04</td>\n",
       "</tr>\n",
       "<tr>\n",
       "  <th>sqft_living</th>   <td>  106.3648</td> <td>   18.075</td> <td>    5.885</td> <td> 0.000</td> <td>   70.937</td> <td>  141.792</td>\n",
       "</tr>\n",
       "<tr>\n",
       "  <th>sqft_lot</th>      <td>    0.1127</td> <td>    0.048</td> <td>    2.352</td> <td> 0.019</td> <td>    0.019</td> <td>    0.207</td>\n",
       "</tr>\n",
       "<tr>\n",
       "  <th>floors</th>        <td> 7352.3096</td> <td> 3601.706</td> <td>    2.041</td> <td> 0.041</td> <td>  292.695</td> <td> 1.44e+04</td>\n",
       "</tr>\n",
       "<tr>\n",
       "  <th>waterfront</th>    <td> 6.167e+05</td> <td> 1.81e+04</td> <td>   34.060</td> <td> 0.000</td> <td> 5.81e+05</td> <td> 6.52e+05</td>\n",
       "</tr>\n",
       "<tr>\n",
       "  <th>view</th>          <td> 5.272e+04</td> <td> 2125.472</td> <td>   24.803</td> <td> 0.000</td> <td> 4.86e+04</td> <td> 5.69e+04</td>\n",
       "</tr>\n",
       "<tr>\n",
       "  <th>condition</th>     <td> 2.785e+04</td> <td> 2361.135</td> <td>   11.793</td> <td> 0.000</td> <td> 2.32e+04</td> <td> 3.25e+04</td>\n",
       "</tr>\n",
       "<tr>\n",
       "  <th>grade</th>         <td> 9.688e+04</td> <td> 2166.681</td> <td>   44.714</td> <td> 0.000</td> <td> 9.26e+04</td> <td> 1.01e+05</td>\n",
       "</tr>\n",
       "<tr>\n",
       "  <th>sqft_above</th>    <td>   76.4357</td> <td>   18.061</td> <td>    4.232</td> <td> 0.000</td> <td>   41.035</td> <td>  111.837</td>\n",
       "</tr>\n",
       "<tr>\n",
       "  <th>sqft_basement</th> <td>   46.9246</td> <td>   17.899</td> <td>    2.622</td> <td> 0.009</td> <td>   11.841</td> <td>   82.008</td>\n",
       "</tr>\n",
       "<tr>\n",
       "  <th>yr_built</th>      <td>-2662.7498</td> <td>   72.065</td> <td>  -36.949</td> <td> 0.000</td> <td>-2804.002</td> <td>-2521.497</td>\n",
       "</tr>\n",
       "<tr>\n",
       "  <th>yr_renovated</th>  <td>   24.1930</td> <td>    3.982</td> <td>    6.076</td> <td> 0.000</td> <td>   16.388</td> <td>   31.998</td>\n",
       "</tr>\n",
       "<tr>\n",
       "  <th>zipcode</th>       <td> -586.4237</td> <td>   33.077</td> <td>  -17.729</td> <td> 0.000</td> <td> -651.257</td> <td> -521.590</td>\n",
       "</tr>\n",
       "<tr>\n",
       "  <th>lat</th>           <td> 6.027e+05</td> <td> 1.08e+04</td> <td>   56.036</td> <td> 0.000</td> <td> 5.82e+05</td> <td> 6.24e+05</td>\n",
       "</tr>\n",
       "<tr>\n",
       "  <th>long</th>          <td>-2.153e+05</td> <td> 1.32e+04</td> <td>  -16.312</td> <td> 0.000</td> <td>-2.41e+05</td> <td>-1.89e+05</td>\n",
       "</tr>\n",
       "<tr>\n",
       "  <th>sqft_living15</th> <td>   21.0893</td> <td>    3.452</td> <td>    6.109</td> <td> 0.000</td> <td>   14.323</td> <td>   27.856</td>\n",
       "</tr>\n",
       "<tr>\n",
       "  <th>sqft_lot15</th>    <td>   -0.4052</td> <td>    0.073</td> <td>   -5.518</td> <td> 0.000</td> <td>   -0.549</td> <td>   -0.261</td>\n",
       "</tr>\n",
       "<tr>\n",
       "  <th>month_sold</th>    <td> 1263.5630</td> <td>  708.373</td> <td>    1.784</td> <td> 0.074</td> <td> -124.902</td> <td> 2652.028</td>\n",
       "</tr>\n",
       "<tr>\n",
       "  <th>year_sold</th>     <td> 3.695e+04</td> <td> 4723.947</td> <td>    7.821</td> <td> 0.000</td> <td> 2.77e+04</td> <td> 4.62e+04</td>\n",
       "</tr>\n",
       "</table>\n",
       "<table class=\"simpletable\">\n",
       "<tr>\n",
       "  <th>Omnibus:</th>       <td>18192.380</td> <th>  Durbin-Watson:     </th>  <td>   1.998</td>  \n",
       "</tr>\n",
       "<tr>\n",
       "  <th>Prob(Omnibus):</th>  <td> 0.000</td>   <th>  Jarque-Bera (JB):  </th> <td>1842217.293</td>\n",
       "</tr>\n",
       "<tr>\n",
       "  <th>Skew:</th>           <td> 3.558</td>   <th>  Prob(JB):          </th>  <td>    0.00</td>  \n",
       "</tr>\n",
       "<tr>\n",
       "  <th>Kurtosis:</th>       <td>47.873</td>   <th>  Cond. No.          </th>  <td>3.93e+13</td>  \n",
       "</tr>\n",
       "</table><br/><br/>Notes:<br/>[1] Standard Errors assume that the covariance matrix of the errors is correctly specified.<br/>[2] The condition number is large, 3.93e+13. This might indicate that there are<br/>strong multicollinearity or other numerical problems."
      ],
      "text/plain": [
       "<class 'statsmodels.iolib.summary.Summary'>\n",
       "\"\"\"\n",
       "                            OLS Regression Results                            \n",
       "==============================================================================\n",
       "Dep. Variable:                  price   R-squared:                       0.702\n",
       "Model:                            OLS   Adj. R-squared:                  0.702\n",
       "Method:                 Least Squares   F-statistic:                     2399.\n",
       "Date:                Fri, 15 Jan 2021   Prob (F-statistic):               0.00\n",
       "Time:                        22:09:20   Log-Likelihood:            -2.9191e+05\n",
       "No. Observations:               21419   AIC:                         5.839e+05\n",
       "Df Residuals:                   21397   BIC:                         5.840e+05\n",
       "Df Model:                          21                                         \n",
       "Covariance Type:            nonrobust                                         \n",
       "=================================================================================\n",
       "                    coef    std err          t      P>|t|      [0.025      0.975]\n",
       "---------------------------------------------------------------------------------\n",
       "Intercept     -6.733e+07   9.97e+06     -6.750      0.000   -8.69e+07   -4.78e+07\n",
       "id            -1.391e-06   4.84e-07     -2.877      0.004   -2.34e-06   -4.44e-07\n",
       "bedrooms      -3.957e+04   1988.300    -19.901      0.000   -4.35e+04   -3.57e+04\n",
       "bathrooms      4.349e+04   3274.741     13.282      0.000    3.71e+04    4.99e+04\n",
       "sqft_living     106.3648     18.075      5.885      0.000      70.937     141.792\n",
       "sqft_lot          0.1127      0.048      2.352      0.019       0.019       0.207\n",
       "floors         7352.3096   3601.706      2.041      0.041     292.695    1.44e+04\n",
       "waterfront     6.167e+05   1.81e+04     34.060      0.000    5.81e+05    6.52e+05\n",
       "view           5.272e+04   2125.472     24.803      0.000    4.86e+04    5.69e+04\n",
       "condition      2.785e+04   2361.135     11.793      0.000    2.32e+04    3.25e+04\n",
       "grade          9.688e+04   2166.681     44.714      0.000    9.26e+04    1.01e+05\n",
       "sqft_above       76.4357     18.061      4.232      0.000      41.035     111.837\n",
       "sqft_basement    46.9246     17.899      2.622      0.009      11.841      82.008\n",
       "yr_built      -2662.7498     72.065    -36.949      0.000   -2804.002   -2521.497\n",
       "yr_renovated     24.1930      3.982      6.076      0.000      16.388      31.998\n",
       "zipcode        -586.4237     33.077    -17.729      0.000    -651.257    -521.590\n",
       "lat            6.027e+05   1.08e+04     56.036      0.000    5.82e+05    6.24e+05\n",
       "long          -2.153e+05   1.32e+04    -16.312      0.000   -2.41e+05   -1.89e+05\n",
       "sqft_living15    21.0893      3.452      6.109      0.000      14.323      27.856\n",
       "sqft_lot15       -0.4052      0.073     -5.518      0.000      -0.549      -0.261\n",
       "month_sold     1263.5630    708.373      1.784      0.074    -124.902    2652.028\n",
       "year_sold      3.695e+04   4723.947      7.821      0.000    2.77e+04    4.62e+04\n",
       "==============================================================================\n",
       "Omnibus:                    18192.380   Durbin-Watson:                   1.998\n",
       "Prob(Omnibus):                  0.000   Jarque-Bera (JB):          1842217.293\n",
       "Skew:                           3.558   Prob(JB):                         0.00\n",
       "Kurtosis:                      47.873   Cond. No.                     3.93e+13\n",
       "==============================================================================\n",
       "\n",
       "Notes:\n",
       "[1] Standard Errors assume that the covariance matrix of the errors is correctly specified.\n",
       "[2] The condition number is large, 3.93e+13. This might indicate that there are\n",
       "strong multicollinearity or other numerical problems.\n",
       "\"\"\""
      ]
     },
     "execution_count": 29,
     "metadata": {},
     "output_type": "execute_result"
    }
   ],
   "source": [
    "outcome = 'price'\n",
    "x_cols = df.drop(['price'], axis= 1).columns\n",
    "\n",
    "predictors = '+'.join(x_cols)\n",
    "f = outcome + '~' + predictors\n",
    "model = ols(formula = f, data= df).fit()\n",
    "\n",
    "model.summary()"
   ]
  },
  {
   "cell_type": "code",
   "execution_count": 30,
   "metadata": {
    "ExecuteTime": {
     "end_time": "2021-01-16T04:09:20.368810Z",
     "start_time": "2021-01-16T04:09:20.194599Z"
    }
   },
   "outputs": [
    {
     "data": {
      "image/png": "[encoded data removed]",
      "text/plain": [
       "<Figure size 432x288 with 1 Axes>"
      ]
     },
     "metadata": {
      "needs_background": "light"
     },
     "output_type": "display_data"
    }
   ],
   "source": [
    "# Q-Q plot\n",
    "residuals = model.resid\n",
    "fig = sm.graphics.qqplot(residuals, dist=stats.norm, line='45', fit=True)\n",
    "fig.show()"
   ]
  },
  {
   "cell_type": "markdown",
   "metadata": {},
   "source": [
    "YUCK! That is one ugly Q-Q plot. We can see this data is not normally distributed at all.\n",
    "\n",
    "We can also see on the summary that the Jarque-Bera test resulted in a very high number. Skew is pretty far off and kurtosis of 47.87? We would like kurtosis to be around 3! This data needs some work."
   ]
  },
  {
   "cell_type": "markdown",
   "metadata": {},
   "source": [
    "## Exploratory Data Analysis\n",
    "\n",
    "Exploratory Data Analysis refers to the critical process of performing initial investigations on data so as to discover patterns,to spot anomalies,to test hypothesis and to check assumptions with the help of summary statistics and graphical representations."
   ]
  },
  {
   "cell_type": "code",
   "execution_count": 31,
   "metadata": {
    "ExecuteTime": {
     "end_time": "2021-01-16T04:09:20.379579Z",
     "start_time": "2021-01-16T04:09:20.370990Z"
    }
   },
   "outputs": [
    {
     "name": "stdout",
     "output_type": "stream",
     "text": [
      "<class 'pandas.core.frame.DataFrame'>\n",
      "RangeIndex: 21419 entries, 0 to 21418\n",
      "Data columns (total 22 columns):\n",
      " #   Column         Non-Null Count  Dtype  \n",
      "---  ------         --------------  -----  \n",
      " 0   id             21419 non-null  int64  \n",
      " 1   price          21419 non-null  float64\n",
      " 2   bedrooms       21419 non-null  int64  \n",
      " 3   bathrooms      21419 non-null  float64\n",
      " 4   sqft_living    21419 non-null  int64  \n",
      " 5   sqft_lot       21419 non-null  int64  \n",
      " 6   floors         21419 non-null  float64\n",
      " 7   waterfront     21419 non-null  float64\n",
      " 8   view           21419 non-null  float64\n",
      " 9   condition      21419 non-null  int64  \n",
      " 10  grade          21419 non-null  int64  \n",
      " 11  sqft_above     21419 non-null  int64  \n",
      " 12  sqft_basement  21419 non-null  float64\n",
      " 13  yr_built       21419 non-null  int64  \n",
      " 14  yr_renovated   21419 non-null  float64\n",
      " 15  zipcode        21419 non-null  int64  \n",
      " 16  lat            21419 non-null  float64\n",
      " 17  long           21419 non-null  float64\n",
      " 18  sqft_living15  21419 non-null  int64  \n",
      " 19  sqft_lot15     21419 non-null  int64  \n",
      " 20  month_sold     21419 non-null  int64  \n",
      " 21  year_sold      21419 non-null  int64  \n",
      "dtypes: float64(9), int64(13)\n",
      "memory usage: 3.6 MB\n"
     ]
    }
   ],
   "source": [
    "df.info()"
   ]
  },
  {
   "cell_type": "markdown",
   "metadata": {},
   "source": [
    "### Questions?\n",
    "\n",
    "Given the information we have and that we are looking at data that would be interesting to first time home buyers, let's generate some questions that might conclude some interesting answers.\n",
    "\n",
    "1. Which season is best to buy a house if you want the lowest price?\n",
    "2. Does a waterfront or view matter? Could a first time home buyer afford that?\n",
    "3. Are there some grades or conditions that might be out of reach for a first time home buyer?\n",
    "4. Is there an area that we can focus on or eliminate?"
   ]
  },
  {
   "cell_type": "markdown",
   "metadata": {},
   "source": [
    "#### Criteria assumptions\n",
    "Before we dive into those questions, it would be helpful to get rid of the information that is not pertinent to a first time home buyer. These could be things like:\n",
    "* houses over a certain price\n",
    "* houses with a large square footage\n",
    "* houses with a lot of bedrooms\n",
    "\n",
    "So, let's work on removing the irrelevant data."
   ]
  },
  {
   "cell_type": "code",
   "execution_count": 32,
   "metadata": {
    "ExecuteTime": {
     "end_time": "2021-01-16T04:09:20.500411Z",
     "start_time": "2021-01-16T04:09:20.381259Z"
    }
   },
   "outputs": [
    {
     "data": {
      "text/plain": [
       "<AxesSubplot:xlabel='price'>"
      ]
     },
     "execution_count": 32,
     "metadata": {},
     "output_type": "execute_result"
    },
    {
     "data": {
      "image/png": "[encoded data removed]",
      "text/plain": [
       "<Figure size 432x288 with 1 Axes>"
      ]
     },
     "metadata": {
      "needs_background": "light"
     },
     "output_type": "display_data"
    }
   ],
   "source": [
    "#  Visualize price and outliers\n",
    "#  Assume for first time home buyer - budget is not more than $850,000\n",
    "sns.boxplot(x= df['price'])"
   ]
  },
  {
   "cell_type": "code",
   "execution_count": 33,
   "metadata": {
    "ExecuteTime": {
     "end_time": "2021-01-16T04:09:20.508039Z",
     "start_time": "2021-01-16T04:09:20.502329Z"
    }
   },
   "outputs": [],
   "source": [
    "# remove houses that sold for > $850,000\n",
    "df = df[df['price'] <= 850000]"
   ]
  },
  {
   "cell_type": "code",
   "execution_count": 34,
   "metadata": {
    "ExecuteTime": {
     "end_time": "2021-01-16T04:09:20.615587Z",
     "start_time": "2021-01-16T04:09:20.509789Z"
    }
   },
   "outputs": [
    {
     "data": {
      "text/plain": [
       "<AxesSubplot:xlabel='sqft_living'>"
      ]
     },
     "execution_count": 34,
     "metadata": {},
     "output_type": "execute_result"
    },
    {
     "data": {
      "image/png": "[encoded data removed]",
      "text/plain": [
       "<Figure size 432x288 with 1 Axes>"
      ]
     },
     "metadata": {
      "needs_background": "light"
     },
     "output_type": "display_data"
    }
   ],
   "source": [
    "# Visualize houses with high square footage\n",
    "sns.boxplot(x= df['sqft_living'])"
   ]
  },
  {
   "cell_type": "code",
   "execution_count": 35,
   "metadata": {
    "ExecuteTime": {
     "end_time": "2021-01-16T04:09:20.622723Z",
     "start_time": "2021-01-16T04:09:20.617402Z"
    }
   },
   "outputs": [],
   "source": [
    "# Whoa! Those are some large houses! Let's cut out the outliers\n",
    "df = df[df['sqft_living'] <= 4500]"
   ]
  },
  {
   "cell_type": "code",
   "execution_count": 36,
   "metadata": {
    "ExecuteTime": {
     "end_time": "2021-01-16T04:09:20.728064Z",
     "start_time": "2021-01-16T04:09:20.624509Z"
    }
   },
   "outputs": [
    {
     "data": {
      "text/plain": [
       "<AxesSubplot:xlabel='bedrooms'>"
      ]
     },
     "execution_count": 36,
     "metadata": {},
     "output_type": "execute_result"
    },
    {
     "data": {
      "image/png": "[encoded data removed]",
      "text/plain": [
       "<Figure size 432x288 with 1 Axes>"
      ]
     },
     "metadata": {
      "needs_background": "light"
     },
     "output_type": "display_data"
    }
   ],
   "source": [
    "# Visualize bedrooms after houses with large price tags were removed\n",
    "sns.boxplot(x= df['bedrooms'])"
   ]
  },
  {
   "cell_type": "code",
   "execution_count": 37,
   "metadata": {
    "ExecuteTime": {
     "end_time": "2021-01-16T04:09:20.733361Z",
     "start_time": "2021-01-16T04:09:20.729641Z"
    }
   },
   "outputs": [],
   "source": [
    "# remove houses with more than 6 bedrooms\n",
    "df = df[df['bedrooms'] <= 6]"
   ]
  },
  {
   "cell_type": "code",
   "execution_count": 38,
   "metadata": {
    "ExecuteTime": {
     "end_time": "2021-01-16T04:09:20.902676Z",
     "start_time": "2021-01-16T04:09:20.734660Z"
    }
   },
   "outputs": [
    {
     "data": {
      "text/plain": [
       "<AxesSubplot:xlabel='sqft_lot'>"
      ]
     },
     "execution_count": 38,
     "metadata": {},
     "output_type": "execute_result"
    },
    {
     "data": {
      "image/png": "[encoded data removed]",
      "text/plain": [
       "<Figure size 432x288 with 1 Axes>"
      ]
     },
     "metadata": {
      "needs_background": "light"
     },
     "output_type": "display_data"
    }
   ],
   "source": [
    "#check lot sizes\n",
    "sns.boxplot(x= df['sqft_lot'])"
   ]
  },
  {
   "cell_type": "code",
   "execution_count": 39,
   "metadata": {
    "ExecuteTime": {
     "end_time": "2021-01-16T04:09:20.918176Z",
     "start_time": "2021-01-16T04:09:20.904614Z"
    },
    "scrolled": true
   },
   "outputs": [
    {
     "data": {
      "text/html": [
       "<div>\n",
       "<style scoped>\n",
       "    .dataframe tbody tr th:only-of-type {\n",
       "        vertical-align: middle;\n",
       "    }\n",
       "\n",
       "    .dataframe tbody tr th {\n",
       "        vertical-align: top;\n",
       "    }\n",
       "\n",
       "    .dataframe thead th {\n",
       "        text-align: right;\n",
       "    }\n",
       "</style>\n",
       "<table border=\"1\" class=\"dataframe\">\n",
       "  <thead>\n",
       "    <tr style=\"text-align: right;\">\n",
       "      <th></th>\n",
       "      <th>id</th>\n",
       "      <th>price</th>\n",
       "      <th>bedrooms</th>\n",
       "      <th>bathrooms</th>\n",
       "      <th>sqft_living</th>\n",
       "      <th>sqft_lot</th>\n",
       "      <th>floors</th>\n",
       "      <th>waterfront</th>\n",
       "      <th>view</th>\n",
       "      <th>condition</th>\n",
       "      <th>grade</th>\n",
       "      <th>sqft_above</th>\n",
       "      <th>sqft_basement</th>\n",
       "      <th>yr_built</th>\n",
       "      <th>yr_renovated</th>\n",
       "      <th>zipcode</th>\n",
       "      <th>lat</th>\n",
       "      <th>long</th>\n",
       "      <th>sqft_living15</th>\n",
       "      <th>sqft_lot15</th>\n",
       "      <th>month_sold</th>\n",
       "      <th>year_sold</th>\n",
       "    </tr>\n",
       "  </thead>\n",
       "  <tbody>\n",
       "    <tr>\n",
       "      <th>1702</th>\n",
       "      <td>1020069017</td>\n",
       "      <td>700000.0</td>\n",
       "      <td>4</td>\n",
       "      <td>1.00</td>\n",
       "      <td>1300</td>\n",
       "      <td>1651359</td>\n",
       "      <td>1.0</td>\n",
       "      <td>0.0</td>\n",
       "      <td>3.0</td>\n",
       "      <td>4</td>\n",
       "      <td>6</td>\n",
       "      <td>1300</td>\n",
       "      <td>0.0</td>\n",
       "      <td>1920</td>\n",
       "      <td>0.0</td>\n",
       "      <td>98022</td>\n",
       "      <td>47.2313</td>\n",
       "      <td>-122.023</td>\n",
       "      <td>2560</td>\n",
       "      <td>425581</td>\n",
       "      <td>3</td>\n",
       "      <td>2015</td>\n",
       "    </tr>\n",
       "    <tr>\n",
       "      <th>4401</th>\n",
       "      <td>3626079040</td>\n",
       "      <td>790000.0</td>\n",
       "      <td>2</td>\n",
       "      <td>3.00</td>\n",
       "      <td>2560</td>\n",
       "      <td>982278</td>\n",
       "      <td>1.0</td>\n",
       "      <td>0.0</td>\n",
       "      <td>0.0</td>\n",
       "      <td>3</td>\n",
       "      <td>8</td>\n",
       "      <td>2560</td>\n",
       "      <td>0.0</td>\n",
       "      <td>2004</td>\n",
       "      <td>0.0</td>\n",
       "      <td>98014</td>\n",
       "      <td>47.6955</td>\n",
       "      <td>-121.861</td>\n",
       "      <td>1620</td>\n",
       "      <td>40946</td>\n",
       "      <td>7</td>\n",
       "      <td>2014</td>\n",
       "    </tr>\n",
       "    <tr>\n",
       "      <th>4500</th>\n",
       "      <td>2522029039</td>\n",
       "      <td>550000.0</td>\n",
       "      <td>3</td>\n",
       "      <td>2.00</td>\n",
       "      <td>3650</td>\n",
       "      <td>843309</td>\n",
       "      <td>2.0</td>\n",
       "      <td>0.0</td>\n",
       "      <td>0.0</td>\n",
       "      <td>4</td>\n",
       "      <td>7</td>\n",
       "      <td>3650</td>\n",
       "      <td>0.0</td>\n",
       "      <td>1991</td>\n",
       "      <td>0.0</td>\n",
       "      <td>98070</td>\n",
       "      <td>47.3627</td>\n",
       "      <td>-122.496</td>\n",
       "      <td>1870</td>\n",
       "      <td>273992</td>\n",
       "      <td>9</td>\n",
       "      <td>2014</td>\n",
       "    </tr>\n",
       "    <tr>\n",
       "      <th>7582</th>\n",
       "      <td>2623069031</td>\n",
       "      <td>542500.0</td>\n",
       "      <td>5</td>\n",
       "      <td>3.25</td>\n",
       "      <td>3010</td>\n",
       "      <td>1074218</td>\n",
       "      <td>1.5</td>\n",
       "      <td>0.0</td>\n",
       "      <td>0.0</td>\n",
       "      <td>5</td>\n",
       "      <td>8</td>\n",
       "      <td>2010</td>\n",
       "      <td>1000.0</td>\n",
       "      <td>1931</td>\n",
       "      <td>0.0</td>\n",
       "      <td>98027</td>\n",
       "      <td>47.4564</td>\n",
       "      <td>-122.004</td>\n",
       "      <td>2450</td>\n",
       "      <td>68825</td>\n",
       "      <td>5</td>\n",
       "      <td>2014</td>\n",
       "    </tr>\n",
       "    <tr>\n",
       "      <th>17149</th>\n",
       "      <td>3326079016</td>\n",
       "      <td>190000.0</td>\n",
       "      <td>2</td>\n",
       "      <td>1.00</td>\n",
       "      <td>710</td>\n",
       "      <td>1164794</td>\n",
       "      <td>1.0</td>\n",
       "      <td>0.0</td>\n",
       "      <td>0.0</td>\n",
       "      <td>2</td>\n",
       "      <td>5</td>\n",
       "      <td>710</td>\n",
       "      <td>0.0</td>\n",
       "      <td>1915</td>\n",
       "      <td>0.0</td>\n",
       "      <td>98014</td>\n",
       "      <td>47.6888</td>\n",
       "      <td>-121.909</td>\n",
       "      <td>1680</td>\n",
       "      <td>16730</td>\n",
       "      <td>5</td>\n",
       "      <td>2015</td>\n",
       "    </tr>\n",
       "  </tbody>\n",
       "</table>\n",
       "</div>"
      ],
      "text/plain": [
       "               id     price  bedrooms  bathrooms  sqft_living  sqft_lot  \\\n",
       "1702   1020069017  700000.0         4       1.00         1300   1651359   \n",
       "4401   3626079040  790000.0         2       3.00         2560    982278   \n",
       "4500   2522029039  550000.0         3       2.00         3650    843309   \n",
       "7582   2623069031  542500.0         5       3.25         3010   1074218   \n",
       "17149  3326079016  190000.0         2       1.00          710   1164794   \n",
       "\n",
       "       floors  waterfront  view  condition  grade  sqft_above  sqft_basement  \\\n",
       "1702      1.0         0.0   3.0          4      6        1300            0.0   \n",
       "4401      1.0         0.0   0.0          3      8        2560            0.0   \n",
       "4500      2.0         0.0   0.0          4      7        3650            0.0   \n",
       "7582      1.5         0.0   0.0          5      8        2010         1000.0   \n",
       "17149     1.0         0.0   0.0          2      5         710            0.0   \n",
       "\n",
       "       yr_built  yr_renovated  zipcode      lat     long  sqft_living15  \\\n",
       "1702       1920           0.0    98022  47.2313 -122.023           2560   \n",
       "4401       2004           0.0    98014  47.6955 -121.861           1620   \n",
       "4500       1991           0.0    98070  47.3627 -122.496           1870   \n",
       "7582       1931           0.0    98027  47.4564 -122.004           2450   \n",
       "17149      1915           0.0    98014  47.6888 -121.909           1680   \n",
       "\n",
       "       sqft_lot15  month_sold  year_sold  \n",
       "1702       425581           3       2015  \n",
       "4401        40946           7       2014  \n",
       "4500       273992           9       2014  \n",
       "7582        68825           5       2014  \n",
       "17149       16730           5       2015  "
      ]
     },
     "execution_count": 39,
     "metadata": {},
     "output_type": "execute_result"
    }
   ],
   "source": [
    "df.loc[df['sqft_lot'] > 750000]"
   ]
  },
  {
   "cell_type": "markdown",
   "metadata": {},
   "source": [
    "Only 5 lots have more than 750,000 square feet (which equals about 17.2 acres). That is still plenty of land for those first time home buyers. Let's remove those 5 houses with very large lots."
   ]
  },
  {
   "cell_type": "code",
   "execution_count": 40,
   "metadata": {
    "ExecuteTime": {
     "end_time": "2021-01-16T04:09:21.033101Z",
     "start_time": "2021-01-16T04:09:20.920012Z"
    }
   },
   "outputs": [
    {
     "data": {
      "text/plain": [
       "<AxesSubplot:xlabel='sqft_lot'>"
      ]
     },
     "execution_count": 40,
     "metadata": {},
     "output_type": "execute_result"
    },
    {
     "data": {
      "image/png": "[encoded data removed]",
      "text/plain": [
       "<Figure size 432x288 with 1 Axes>"
      ]
     },
     "metadata": {
      "needs_background": "light"
     },
     "output_type": "display_data"
    }
   ],
   "source": [
    "df = df[df['sqft_lot'] < 750000]\n",
    "sns.boxplot(x= df['sqft_lot'])"
   ]
  },
  {
   "cell_type": "code",
   "execution_count": 47,
   "metadata": {
    "ExecuteTime": {
     "end_time": "2021-01-16T04:12:34.570766Z",
     "start_time": "2021-01-16T04:12:34.566815Z"
    }
   },
   "outputs": [
    {
     "data": {
      "text/plain": [
       "7463.0"
      ]
     },
     "execution_count": 47,
     "metadata": {},
     "output_type": "execute_result"
    }
   ],
   "source": [
    "# Calculate to use in presentation\n",
    "df.sqft_lot.median()"
   ]
  },
  {
   "cell_type": "markdown",
   "metadata": {},
   "source": [
    "#### 1. Which season is best to buy a house if you want the lowest price?\n",
    "\n",
    "To answer this question, we will have to break the months up into seasons. Then we will find which season has the lowest average sale price."
   ]
  },
  {
   "cell_type": "code",
   "execution_count": null,
   "metadata": {
    "ExecuteTime": {
     "end_time": "2021-01-16T04:09:21.345278Z",
     "start_time": "2021-01-16T04:09:18.282Z"
    },
    "scrolled": false
   },
   "outputs": [],
   "source": [
    "# First, let's look at the months and see if there appears to be a trend\n",
    "g1 = sns.lmplot(x= 'sqft_living', y= 'price', data= df, col= 'month_sold', \n",
    "               col_wrap= 4, scatter_kws = {'color': 'gray'})"
   ]
  },
  {
   "cell_type": "markdown",
   "metadata": {},
   "source": [
    "A Google search of the seasons in King County (Seattle area) shows most locals think winter is separated into two different kinds - December (winter1) was classified as cold and rainy with a chance of snow while January - March (winter2) is classified as very rainy and windy and cold. "
   ]
  },
  {
   "cell_type": "code",
   "execution_count": null,
   "metadata": {
    "ExecuteTime": {
     "end_time": "2021-01-16T04:09:21.346674Z",
     "start_time": "2021-01-16T04:09:18.285Z"
    }
   },
   "outputs": [],
   "source": [
    "# set columns for months sold\n",
    "df.loc[(df['month_sold'] >= 4) & (df['month_sold'] <= 6), 'season'] = 'spring'\n",
    "df.loc[(df['month_sold'] >= 7) & (df['month_sold'] <= 9), 'season'] = 'summer'\n",
    "df.loc[(df['month_sold'] == 10) | (df['month_sold'] == 11), 'season'] = 'fall'\n",
    "df.loc[(df['month_sold'] == 12), 'season'] = 'winter1'\n",
    "df.loc[(df['month_sold'] <= 3), 'season'] = 'winter2'"
   ]
  },
  {
   "cell_type": "code",
   "execution_count": null,
   "metadata": {
    "ExecuteTime": {
     "end_time": "2021-01-16T04:09:21.347588Z",
     "start_time": "2021-01-16T04:09:18.288Z"
    },
    "scrolled": true
   },
   "outputs": [],
   "source": [
    "plt.plot(df.groupby('season')['price'].mean().round(2))\n",
    "plt.title('Average Home Sale Price by Season')\n",
    "plt.ylabel('Average Sale Price')\n",
    "plt.xlabel('Season')"
   ]
  },
  {
   "cell_type": "code",
   "execution_count": null,
   "metadata": {
    "ExecuteTime": {
     "end_time": "2021-01-16T04:09:21.348628Z",
     "start_time": "2021-01-16T04:09:18.290Z"
    },
    "scrolled": true
   },
   "outputs": [],
   "source": [
    "sns.boxplot(x= 'season', y= 'price', data= df, palette= 'RdBu')\n",
    "plt.title('Average Home Sale Price by Season')\n",
    "plt.ylabel('Sale Price')\n",
    "plt.xlabel('Season')"
   ]
  },
  {
   "cell_type": "code",
   "execution_count": null,
   "metadata": {
    "ExecuteTime": {
     "end_time": "2021-01-16T04:09:21.349756Z",
     "start_time": "2021-01-16T04:09:18.293Z"
    }
   },
   "outputs": [],
   "source": [
    "df_s = df.groupby('season')['price'].mean().round(2)\n",
    "df_s"
   ]
  },
  {
   "cell_type": "markdown",
   "metadata": {},
   "source": [
    "The most expensive season to buy a house is in spring - April through June - with the average sale price with our criteria being \\\\$453,768.93\n",
    "\n",
    "The least expensive season to buy a house is in \"winter1\" or the month of December.\n",
    "The average home with our search criteria sold for \\\\$434,043.71\n",
    "\n",
    "It is important to note here that \"winter1\" was only one month, where \"winter2\" is three months. Having more data in \"winter2\" may have adjusted the results."
   ]
  },
  {
   "cell_type": "markdown",
   "metadata": {},
   "source": [
    "When comparing the line graph to the boxplot, you can now see that the amount you would be saving is difficult to see in some seasons. The savings would be about $19,000-20,000 between the least expensive time of year (December) and the most expensive (April - June). \n",
    "\n",
    "However, it is interesting to see that fall, winter1, and winter2 don't vary that much from each other. During October through March, one might expect to pay only +/-\\\\$4,000 for a home."
   ]
  },
  {
   "cell_type": "markdown",
   "metadata": {},
   "source": [
    "#### 2. Does a waterfront make that much difference in the price?"
   ]
  },
  {
   "cell_type": "markdown",
   "metadata": {},
   "source": [
    "Let's see how many waterfront properties we have. When we took out higher priced homes, it may not have left much data with that criteria."
   ]
  },
  {
   "cell_type": "code",
   "execution_count": null,
   "metadata": {
    "ExecuteTime": {
     "end_time": "2021-01-16T04:09:21.350782Z",
     "start_time": "2021-01-16T04:09:18.297Z"
    },
    "scrolled": false
   },
   "outputs": [],
   "source": [
    "print(len(df[df['waterfront'] == 1]))"
   ]
  },
  {
   "cell_type": "code",
   "execution_count": null,
   "metadata": {
    "ExecuteTime": {
     "end_time": "2021-01-16T04:09:21.351673Z",
     "start_time": "2021-01-16T04:09:18.300Z"
    }
   },
   "outputs": [],
   "source": [
    "len(df[df['waterfront'] == 1]) / len(df)"
   ]
  },
  {
   "cell_type": "markdown",
   "metadata": {
    "ExecuteTime": {
     "end_time": "2021-01-07T20:11:25.870271Z",
     "start_time": "2021-01-07T20:11:25.849326Z"
    }
   },
   "source": [
    "There were only 39 properties (or .2% of properties) that were sold in the first time home buyer's criteria. If they really want a waterfront property, they may have to wait a while."
   ]
  },
  {
   "cell_type": "code",
   "execution_count": null,
   "metadata": {
    "ExecuteTime": {
     "end_time": "2021-01-16T04:09:21.352870Z",
     "start_time": "2021-01-16T04:09:18.303Z"
    },
    "scrolled": true
   },
   "outputs": [],
   "source": [
    "sns.scatterplot(x= 'long', y= 'lat', hue= 'waterfront', data= df, \n",
    "                palette= 'tab10')\n",
    "plt.title('Waterfront Properties by Price')\n",
    "plt.ylabel('Latitude')\n",
    "plt.xlabel('Longitude')"
   ]
  },
  {
   "cell_type": "markdown",
   "metadata": {},
   "source": [
    "Now, let's see how much more a home with a waterfront would cost."
   ]
  },
  {
   "cell_type": "code",
   "execution_count": null,
   "metadata": {
    "ExecuteTime": {
     "end_time": "2021-01-16T04:09:21.353896Z",
     "start_time": "2021-01-16T04:09:18.306Z"
    }
   },
   "outputs": [],
   "source": [
    "df.groupby('waterfront')['price'].mean().round(2)"
   ]
  },
  {
   "cell_type": "code",
   "execution_count": null,
   "metadata": {
    "ExecuteTime": {
     "end_time": "2021-01-16T04:09:21.355302Z",
     "start_time": "2021-01-16T04:09:18.308Z"
    }
   },
   "outputs": [],
   "source": [
    "# df[df['waterfront']==1]"
   ]
  },
  {
   "cell_type": "code",
   "execution_count": null,
   "metadata": {
    "ExecuteTime": {
     "end_time": "2021-01-16T04:09:21.356711Z",
     "start_time": "2021-01-16T04:09:18.310Z"
    }
   },
   "outputs": [],
   "source": [
    "labels = ['0: No waterfront', '1: Waterfront']\n",
    "sns.catplot(x=\"waterfront\", y=\"price\", kind=\"point\", data=df, color= 'darkblue')\n",
    "plt.title('Average Price of Properties Not Having vs. Having Waterfront')\n",
    "plt.xlabel('Waterfront Property?')\n",
    "plt.ylabel('Average Sale Price')\n",
    "plt.legend(labels= labels)"
   ]
  },
  {
   "cell_type": "code",
   "execution_count": null,
   "metadata": {
    "ExecuteTime": {
     "end_time": "2021-01-16T04:09:21.357903Z",
     "start_time": "2021-01-16T04:09:18.313Z"
    }
   },
   "outputs": [],
   "source": [
    "# Difference in average price of homes with and without being on the water\n",
    "df.groupby('waterfront')['price'].mean().round(2).diff()"
   ]
  },
  {
   "cell_type": "markdown",
   "metadata": {},
   "source": [
    "Getting a house on the water is possible, but there are not a lot of them out there. Plus, if the first time home buyer does want that feature, they'll have to pay!<br>\n",
    "\n",
    "**Waterfront:** A house or property on the water will run the buyer an extra \\\\$143,636 more than a house that is inland."
   ]
  },
  {
   "cell_type": "markdown",
   "metadata": {},
   "source": [
    "#### 3. Are there some grades or conditions that might be out of reach for a first time home buyer?"
   ]
  },
  {
   "cell_type": "code",
   "execution_count": null,
   "metadata": {
    "ExecuteTime": {
     "end_time": "2021-01-16T04:09:21.359375Z",
     "start_time": "2021-01-16T04:09:18.316Z"
    }
   },
   "outputs": [],
   "source": [
    "sns.scatterplot(x= 'sqft_living', y= 'price', hue= 'grade', data= df, \n",
    "                palette= 'afmhot_r')"
   ]
  },
  {
   "cell_type": "markdown",
   "metadata": {},
   "source": [
    "Grades do seem to improve with price, but there are some smaller and less expensive homes that have higher grades."
   ]
  },
  {
   "cell_type": "code",
   "execution_count": null,
   "metadata": {
    "ExecuteTime": {
     "end_time": "2021-01-16T04:09:21.361281Z",
     "start_time": "2021-01-16T04:09:18.319Z"
    },
    "scrolled": false
   },
   "outputs": [],
   "source": [
    "# #Looking at grades of the houses\n",
    "sns.histplot(x= 'grade', y= 'price', data= df)\n",
    "\n",
    "# percent of houses sold with a grade \"4\"\n",
    "len(df[df['grade'] <= 4]) / len(df)"
   ]
  },
  {
   "cell_type": "code",
   "execution_count": null,
   "metadata": {
    "ExecuteTime": {
     "end_time": "2021-01-16T04:09:21.362677Z",
     "start_time": "2021-01-16T04:09:18.322Z"
    },
    "scrolled": true
   },
   "outputs": [],
   "source": [
    "# Looking at conditions of houses\n",
    "sns.histplot(x= 'condition', y= 'price', data= df)\n",
    "\n",
    "# percent of houses with a condition of \"1 or \"2\" \n",
    "len(df[df['condition'] <= 2]) / len(df)"
   ]
  },
  {
   "cell_type": "code",
   "execution_count": null,
   "metadata": {
    "ExecuteTime": {
     "end_time": "2021-01-16T04:09:21.363712Z",
     "start_time": "2021-01-16T04:09:18.324Z"
    }
   },
   "outputs": [],
   "source": [
    "df.condition.unique()"
   ]
  },
  {
   "cell_type": "code",
   "execution_count": null,
   "metadata": {
    "ExecuteTime": {
     "end_time": "2021-01-16T04:09:21.364595Z",
     "start_time": "2021-01-16T04:09:18.326Z"
    }
   },
   "outputs": [],
   "source": [
    "df_pairplot = df[['price', 'sqft_living', 'grade','condition', 'zipcode']]"
   ]
  },
  {
   "cell_type": "code",
   "execution_count": null,
   "metadata": {
    "ExecuteTime": {
     "end_time": "2021-01-16T04:09:21.365656Z",
     "start_time": "2021-01-16T04:09:18.328Z"
    }
   },
   "outputs": [],
   "source": [
    "g = sns.pairplot(df_pairplot, hue= 'condition', palette= 'coolwarm', \n",
    "                 height= 3)\n",
    "plt.title('Interactions between Features')"
   ]
  },
  {
   "cell_type": "markdown",
   "metadata": {},
   "source": [
    "While we may not want a first time home buyer to buy a house in poor condition, there are not many houses that would qualify. Most likely, the house will have a condition of 3 or 4. \n",
    "\n",
    "Since condition and grade can be subjective, we can leave them in and let the potential new home owner decide."
   ]
  },
  {
   "cell_type": "markdown",
   "metadata": {},
   "source": [
    "#### 4. Is there an area that we can focus on or eliminate?"
   ]
  },
  {
   "cell_type": "code",
   "execution_count": null,
   "metadata": {
    "ExecuteTime": {
     "end_time": "2021-01-16T04:09:21.366637Z",
     "start_time": "2021-01-16T04:09:18.332Z"
    }
   },
   "outputs": [],
   "source": [
    "# View house prices on latitude and longitude\n",
    "plt.figure(figsize=(10,10))\n",
    "sns.scatterplot(x='long', y='lat', hue='price', data=df, palette= 'cubehelix')\n",
    "plt.title('Houses Sold in First Time Home Buyer Parameters')\n",
    "plt.legend(loc= 'lower right');"
   ]
  },
  {
   "cell_type": "markdown",
   "metadata": {},
   "source": [
    "Appears that the houses that sold for more are on the Northern side. We can separate the areas to see if we are correct."
   ]
  },
  {
   "cell_type": "code",
   "execution_count": null,
   "metadata": {
    "ExecuteTime": {
     "end_time": "2021-01-16T04:09:21.367469Z",
     "start_time": "2021-01-16T04:09:18.335Z"
    }
   },
   "outputs": [],
   "source": [
    "# Add lines where we may want to separate areas based on home sale price\n",
    "plt.figure(figsize=(10,10))\n",
    "sns.scatterplot(x='long', y='lat', hue='price', data=df, palette= 'cubehelix')\n",
    "plt.hlines(y=47.55, xmin=-122.6, xmax=-121.4, colors='black', linestyle='--')\n",
    "plt.vlines(x=-122.2, ymin=47.1, ymax=47.8, colors='black', linestyle='--')\n",
    "plt.title('Houses Sold in First Time Home Buyer Parameters')\n",
    "plt.legend(loc= 'lower right');"
   ]
  },
  {
   "cell_type": "markdown",
   "metadata": {},
   "source": [
    "That appears to separate the areas fairly evenly. Let's turn the latitude and longitude into quadrants and use the quadrants instead of zipcodes as locators."
   ]
  },
  {
   "cell_type": "code",
   "execution_count": null,
   "metadata": {
    "ExecuteTime": {
     "end_time": "2021-01-16T04:09:21.368485Z",
     "start_time": "2021-01-16T04:09:18.338Z"
    }
   },
   "outputs": [],
   "source": [
    "# Separate areas into quadrants by latitude and longitude\n",
    "df.loc[(df['lat'] >= 47.5) & (df['long'] >= -122.2), 'quadrant' ] = 'NW'\n",
    "df.loc[(df['lat'] > 47.5) & (df['long'] < -122.2), 'quadrant' ] = 'NE'\n",
    "df.loc[(df['lat'] <= 47.5) & (df['long'] <= -122.2), 'quadrant' ] = 'SW'\n",
    "df.loc[(df['lat'] < 47.5) & (df['long'] > -122.2), 'quadrant' ] = 'SE'"
   ]
  },
  {
   "cell_type": "code",
   "execution_count": null,
   "metadata": {
    "ExecuteTime": {
     "end_time": "2021-01-16T04:09:21.369508Z",
     "start_time": "2021-01-16T04:09:18.340Z"
    }
   },
   "outputs": [],
   "source": [
    "# did it work?\n",
    "# df_q3 = df[df['quadrant'] == 3]\n",
    "# sns.scatterplot(x='long', y='lat', hue='price', data=df_q3, \n",
    "#                 palette= 'cubehelix')"
   ]
  },
  {
   "cell_type": "markdown",
   "metadata": {
    "ExecuteTime": {
     "end_time": "2021-01-07T21:25:38.152957Z",
     "start_time": "2021-01-07T21:25:37.804291Z"
    }
   },
   "source": [
    "The theory is that houses in the Southern quadrants (SW and SE) will be more affordable than those in the NW and NE."
   ]
  },
  {
   "cell_type": "code",
   "execution_count": null,
   "metadata": {
    "ExecuteTime": {
     "end_time": "2021-01-16T04:09:21.370495Z",
     "start_time": "2021-01-16T04:09:18.342Z"
    }
   },
   "outputs": [],
   "source": [
    "# Create boxplots to show sale prices for each quadrant/sector\n",
    "plt.figure(figsize= (8,5))\n",
    "sns.boxplot(x= 'quadrant', y= 'price', data= df, palette= 'RdGy_r')\n",
    "plt.title('Average Home Sale Price by Area')\n",
    "plt.ylabel('Sale Price')\n",
    "plt.xlabel('Area in King County')"
   ]
  },
  {
   "cell_type": "markdown",
   "metadata": {},
   "source": [
    "Looks like we were right. If we are only looking at homes that are less than $850,000, then houses in the Southern quadrants would, generally, be the least expensive."
   ]
  },
  {
   "cell_type": "code",
   "execution_count": null,
   "metadata": {
    "ExecuteTime": {
     "end_time": "2021-01-16T04:09:21.371412Z",
     "start_time": "2021-01-16T04:09:18.345Z"
    }
   },
   "outputs": [],
   "source": [
    "df.reset_index(drop= True, inplace= True)"
   ]
  },
  {
   "cell_type": "code",
   "execution_count": null,
   "metadata": {
    "ExecuteTime": {
     "end_time": "2021-01-16T04:09:21.372403Z",
     "start_time": "2021-01-16T04:09:18.347Z"
    }
   },
   "outputs": [],
   "source": [
    "# Save a copy of cleaned and organized data before one-hot encoding or \n",
    "# dropping columns\n",
    "\n",
    "df.to_csv('data/clean_df.csv')"
   ]
  },
  {
   "cell_type": "markdown",
   "metadata": {},
   "source": [
    "## Feature Engineering\n",
    "\n",
    "Feature Selection is the process where you automatically or manually select those features which contribute most to your prediction variable or output in which you are interested in. Having irrelevant features in your data can decrease the accuracy of the models and make your model learn based on irrelevant features."
   ]
  },
  {
   "cell_type": "markdown",
   "metadata": {},
   "source": [
    "### Multicollinearity"
   ]
  },
  {
   "cell_type": "markdown",
   "metadata": {},
   "source": [
    "Check for interactions between other features."
   ]
  },
  {
   "cell_type": "code",
   "execution_count": null,
   "metadata": {
    "ExecuteTime": {
     "end_time": "2021-01-16T04:09:21.373258Z",
     "start_time": "2021-01-16T04:09:18.353Z"
    }
   },
   "outputs": [],
   "source": [
    "corr = df.corr()\n",
    "corr"
   ]
  },
  {
   "cell_type": "code",
   "execution_count": null,
   "metadata": {
    "ExecuteTime": {
     "end_time": "2021-01-16T04:09:21.374178Z",
     "start_time": "2021-01-16T04:09:18.355Z"
    }
   },
   "outputs": [],
   "source": [
    "plt.figure(figsize=(7,6))\n",
    "mask = np.triu(np.ones_like(corr, dtype=bool))\n",
    "sns.heatmap(df.corr(), cmap= 'coolwarm', mask= mask, linewidth= 1)\n",
    "plt.title(\"Correlation between features\",weight='bold',fontsize=18)\n",
    "plt.show()"
   ]
  },
  {
   "cell_type": "markdown",
   "metadata": {},
   "source": [
    "There are some areas of high correlation. The highest is where \"sqft_above\" meets \"sqft_living\". \"sqft_living15\" also correlates highly across other features. Those will be columns we look forward to removing."
   ]
  },
  {
   "cell_type": "code",
   "execution_count": null,
   "metadata": {
    "ExecuteTime": {
     "end_time": "2021-01-16T04:09:21.375180Z",
     "start_time": "2021-01-16T04:09:18.358Z"
    }
   },
   "outputs": [],
   "source": [
    "df.drop(columns= ['sqft_above', 'sqft_living15','sqft_lot15', 'month_sold', \n",
    "                  'id'], inplace= True)\n",
    "# df.info()"
   ]
  },
  {
   "cell_type": "code",
   "execution_count": null,
   "metadata": {
    "ExecuteTime": {
     "end_time": "2021-01-16T04:09:21.376208Z",
     "start_time": "2021-01-16T04:09:18.360Z"
    }
   },
   "outputs": [],
   "source": [
    "corr1 = df.corr()\n",
    "\n",
    "plt.figure(figsize=(7,6))\n",
    "mask = np.triu(np.ones_like(corr1, dtype=bool))\n",
    "sns.heatmap(df.corr(), cmap= 'coolwarm', mask= mask)\n",
    "plt.title(\"Correlation between features\",weight='bold',fontsize=18)\n",
    "plt.show()"
   ]
  },
  {
   "cell_type": "markdown",
   "metadata": {},
   "source": [
    "### One-hot encoding and binning"
   ]
  },
  {
   "cell_type": "markdown",
   "metadata": {},
   "source": [
    "Time to work with the data within some of these features to clean it up.\n",
    "Features we'll focus on are:\n",
    "* bathrooms\n",
    "* floors\n",
    "* grades\n",
    "* sqft_basement\n",
    "* view\n",
    "* yr_renovated"
   ]
  },
  {
   "cell_type": "markdown",
   "metadata": {},
   "source": [
    "#### Bathrooms and Floors"
   ]
  },
  {
   "cell_type": "code",
   "execution_count": null,
   "metadata": {
    "ExecuteTime": {
     "end_time": "2021-01-16T04:09:21.377366Z",
     "start_time": "2021-01-16T04:09:18.364Z"
    }
   },
   "outputs": [],
   "source": [
    "# make changes to new df\n",
    "df1 = df.copy()"
   ]
  },
  {
   "cell_type": "code",
   "execution_count": null,
   "metadata": {
    "ExecuteTime": {
     "end_time": "2021-01-16T04:09:21.378327Z",
     "start_time": "2021-01-16T04:09:18.366Z"
    }
   },
   "outputs": [],
   "source": [
    "# look at bathroom data\n",
    "df1.bathrooms.unique()"
   ]
  },
  {
   "cell_type": "code",
   "execution_count": null,
   "metadata": {
    "ExecuteTime": {
     "end_time": "2021-01-16T04:09:21.379533Z",
     "start_time": "2021-01-16T04:09:18.368Z"
    }
   },
   "outputs": [],
   "source": [
    "# Only count whole bathrooms\n",
    "df1['bathrooms'] = df1.bathrooms.astype(int)\n",
    "df1.bathrooms.unique()"
   ]
  },
  {
   "cell_type": "code",
   "execution_count": null,
   "metadata": {
    "ExecuteTime": {
     "end_time": "2021-01-16T04:09:21.380722Z",
     "start_time": "2021-01-16T04:09:18.371Z"
    }
   },
   "outputs": [],
   "source": [
    "# A house shouldn't have 0 bathrooms. Let's change the zeros to ones.\n",
    "df1['bathrooms'] = df1['bathrooms'].map(lambda x: 1 if x == 0 else x)"
   ]
  },
  {
   "cell_type": "code",
   "execution_count": null,
   "metadata": {
    "ExecuteTime": {
     "end_time": "2021-01-16T04:09:21.381929Z",
     "start_time": "2021-01-16T04:09:18.373Z"
    }
   },
   "outputs": [],
   "source": [
    "# check out the values of floors\n",
    "df1.floors.unique()"
   ]
  },
  {
   "cell_type": "code",
   "execution_count": null,
   "metadata": {
    "ExecuteTime": {
     "end_time": "2021-01-16T04:09:21.382863Z",
     "start_time": "2021-01-16T04:09:18.375Z"
    }
   },
   "outputs": [],
   "source": [
    "# Change floors to whole numbers\n",
    "# If a house has 1.5 floors, that is more than 1 floor \n",
    "df1['floors'] = df1['floors'].map(lambda x: x + 0.5)\n",
    "df1['floors'] = df1.floors.astype(int)\n",
    "df1.floors.unique()"
   ]
  },
  {
   "cell_type": "markdown",
   "metadata": {},
   "source": [
    "#### Grade Binning"
   ]
  },
  {
   "cell_type": "code",
   "execution_count": null,
   "metadata": {
    "ExecuteTime": {
     "end_time": "2021-01-16T04:09:21.383766Z",
     "start_time": "2021-01-16T04:09:18.378Z"
    },
    "scrolled": true
   },
   "outputs": [],
   "source": [
    "print ('waterfront: ', df1.waterfront.unique())\n",
    "print ('condition: ', df.condition.unique())"
   ]
  },
  {
   "cell_type": "code",
   "execution_count": null,
   "metadata": {
    "ExecuteTime": {
     "end_time": "2021-01-16T04:09:21.384687Z",
     "start_time": "2021-01-16T04:09:18.381Z"
    }
   },
   "outputs": [],
   "source": [
    "print ('grade values: ', df1['grade'].unique())"
   ]
  },
  {
   "cell_type": "code",
   "execution_count": null,
   "metadata": {
    "ExecuteTime": {
     "end_time": "2021-01-16T04:09:21.385545Z",
     "start_time": "2021-01-16T04:09:18.383Z"
    },
    "scrolled": false
   },
   "outputs": [],
   "source": [
    "# Let's change waterfront to integers and bin some grades\n",
    "df1['waterfront'] = df1.waterfront.astype(int)\n",
    "\n",
    "grade_binned = pd.cut(df['grade'], bins= 4, right= False, \n",
    "                      labels = ['3_4', '5_6', '7_8','9_11'])\n",
    "print(grade_binned.value_counts())\n",
    "print ('Sum: ', grade_binned.value_counts().sum())\n",
    "sns.countplot(x= grade_binned, palette= 'rocket')\n",
    "plt.title('Grades Binned')\n",
    "plt.ylabel('# of Homes in Grade Bin')\n",
    "plt.xlabel('Grades Binned')"
   ]
  },
  {
   "cell_type": "code",
   "execution_count": null,
   "metadata": {
    "ExecuteTime": {
     "end_time": "2021-01-16T04:09:21.386522Z",
     "start_time": "2021-01-16T04:09:18.385Z"
    }
   },
   "outputs": [],
   "source": [
    "df2 = df1.copy()"
   ]
  },
  {
   "cell_type": "code",
   "execution_count": null,
   "metadata": {
    "ExecuteTime": {
     "end_time": "2021-01-16T04:09:21.387496Z",
     "start_time": "2021-01-16T04:09:18.388Z"
    }
   },
   "outputs": [],
   "source": [
    "df2.drop(columns= ['grade'], axis= 1, inplace= True)"
   ]
  },
  {
   "cell_type": "code",
   "execution_count": null,
   "metadata": {
    "ExecuteTime": {
     "end_time": "2021-01-16T04:09:21.388298Z",
     "start_time": "2021-01-16T04:09:18.390Z"
    }
   },
   "outputs": [],
   "source": [
    "df2 = pd.concat([df2, grade_binned], names= ['grade_bin'], axis= 1)"
   ]
  },
  {
   "cell_type": "code",
   "execution_count": null,
   "metadata": {
    "ExecuteTime": {
     "end_time": "2021-01-16T04:09:21.389310Z",
     "start_time": "2021-01-16T04:09:18.392Z"
    }
   },
   "outputs": [],
   "source": [
    "df2.rename(columns={'grade': 'grade_binned'}, inplace= True)"
   ]
  },
  {
   "cell_type": "code",
   "execution_count": null,
   "metadata": {
    "ExecuteTime": {
     "end_time": "2021-01-16T04:09:21.390221Z",
     "start_time": "2021-01-16T04:09:18.394Z"
    }
   },
   "outputs": [],
   "source": [
    "grade_dummies = pd.get_dummies(df2['grade_binned'], prefix= 'grade', \n",
    "                               drop_first= True)"
   ]
  },
  {
   "cell_type": "code",
   "execution_count": null,
   "metadata": {
    "ExecuteTime": {
     "end_time": "2021-01-16T04:09:21.391241Z",
     "start_time": "2021-01-16T04:09:18.397Z"
    }
   },
   "outputs": [],
   "source": [
    "df2.drop(['grade_binned'], axis= 1, inplace= True)"
   ]
  },
  {
   "cell_type": "code",
   "execution_count": null,
   "metadata": {
    "ExecuteTime": {
     "end_time": "2021-01-16T04:09:21.392227Z",
     "start_time": "2021-01-16T04:09:18.399Z"
    }
   },
   "outputs": [],
   "source": [
    "df2 = pd.concat([df2, grade_dummies], axis= 1)\n",
    "# df2.head()"
   ]
  },
  {
   "cell_type": "code",
   "execution_count": null,
   "metadata": {
    "ExecuteTime": {
     "end_time": "2021-01-16T04:09:21.393313Z",
     "start_time": "2021-01-16T04:09:18.402Z"
    }
   },
   "outputs": [],
   "source": [
    "corr2 = df2.corr()\n",
    "\n",
    "plt.figure(figsize=(7,6))\n",
    "mask = np.triu(np.ones_like(corr2, dtype=bool))\n",
    "sns.heatmap(df2.corr(), cmap= 'coolwarm', mask= mask)"
   ]
  },
  {
   "cell_type": "markdown",
   "metadata": {
    "ExecuteTime": {
     "end_time": "2021-01-09T19:19:34.235173Z",
     "start_time": "2021-01-09T19:19:34.227954Z"
    }
   },
   "source": [
    "#### Basement, views, and renovations\n",
    "\n",
    "Let's turn sqft_basement, yr_renovated, and view into either has or doesn't have."
   ]
  },
  {
   "cell_type": "code",
   "execution_count": null,
   "metadata": {
    "ExecuteTime": {
     "end_time": "2021-01-16T04:09:21.394210Z",
     "start_time": "2021-01-16T04:09:18.406Z"
    }
   },
   "outputs": [],
   "source": [
    "df3 = df2.copy()"
   ]
  },
  {
   "cell_type": "code",
   "execution_count": null,
   "metadata": {
    "ExecuteTime": {
     "end_time": "2021-01-16T04:09:21.395258Z",
     "start_time": "2021-01-16T04:09:18.409Z"
    }
   },
   "outputs": [],
   "source": [
    "print ('Num of basement values: ', df.sqft_basement.nunique())\n",
    "df3['has_basement'] = df3['sqft_basement'].map(lambda x: 1 if x > 0 else 0)"
   ]
  },
  {
   "cell_type": "code",
   "execution_count": null,
   "metadata": {
    "ExecuteTime": {
     "end_time": "2021-01-16T04:09:21.396285Z",
     "start_time": "2021-01-16T04:09:18.411Z"
    }
   },
   "outputs": [],
   "source": [
    "print ('View values: ', df.view.unique())\n",
    "df3['viewed'] = df3['view'].map(lambda x: 1 if x > 0 else 0)"
   ]
  },
  {
   "cell_type": "code",
   "execution_count": null,
   "metadata": {
    "ExecuteTime": {
     "end_time": "2021-01-16T04:09:21.397374Z",
     "start_time": "2021-01-16T04:09:18.414Z"
    }
   },
   "outputs": [],
   "source": [
    "print ('Num of renovation values: ', df3.yr_renovated.nunique())\n",
    "df3['had_renovation'] = df['yr_renovated'].map(lambda x: 1 if x > 0 else 0)"
   ]
  },
  {
   "cell_type": "code",
   "execution_count": null,
   "metadata": {
    "ExecuteTime": {
     "end_time": "2021-01-16T04:09:21.398444Z",
     "start_time": "2021-01-16T04:09:18.416Z"
    }
   },
   "outputs": [],
   "source": [
    "df3.drop(columns= ['yr_renovated', 'view', 'sqft_basement'], axis= 1, \n",
    "         inplace= True)"
   ]
  },
  {
   "cell_type": "code",
   "execution_count": null,
   "metadata": {
    "ExecuteTime": {
     "end_time": "2021-01-16T04:09:21.399388Z",
     "start_time": "2021-01-16T04:09:18.418Z"
    },
    "scrolled": false
   },
   "outputs": [],
   "source": [
    "df3.info()"
   ]
  },
  {
   "cell_type": "markdown",
   "metadata": {},
   "source": [
    "### Look at Continuous and Categorical Data"
   ]
  },
  {
   "cell_type": "code",
   "execution_count": null,
   "metadata": {
    "ExecuteTime": {
     "end_time": "2021-01-16T04:09:21.400487Z",
     "start_time": "2021-01-16T04:09:18.421Z"
    }
   },
   "outputs": [],
   "source": [
    "# Continuous data\n",
    "con = ['price', 'sqft_living', 'sqft_lot', 'yr_built', \n",
    "       'zipcode','lat','long']"
   ]
  },
  {
   "cell_type": "code",
   "execution_count": null,
   "metadata": {
    "ExecuteTime": {
     "end_time": "2021-01-16T04:09:21.401489Z",
     "start_time": "2021-01-16T04:09:18.423Z"
    }
   },
   "outputs": [],
   "source": [
    "# Categorical data\n",
    "cat = ['waterfront','condition','grade','year_sold', \n",
    "       'season','quadrant', 'bedrooms','bathrooms','floors', 'yr_renovated']"
   ]
  },
  {
   "cell_type": "code",
   "execution_count": null,
   "metadata": {
    "ExecuteTime": {
     "end_time": "2021-01-16T04:09:21.402479Z",
     "start_time": "2021-01-16T04:09:18.426Z"
    },
    "scrolled": false
   },
   "outputs": [],
   "source": [
    "# Look at continuous variables\n",
    "df_continuous = df.loc[:, con]\n",
    "df_continuous.hist(figsize= (12, 12))"
   ]
  },
  {
   "cell_type": "markdown",
   "metadata": {},
   "source": [
    "With the exception of \"sqft_lot\", these indeed look like they are continuous."
   ]
  },
  {
   "cell_type": "code",
   "execution_count": null,
   "metadata": {
    "ExecuteTime": {
     "end_time": "2021-01-16T04:09:21.403446Z",
     "start_time": "2021-01-16T04:09:18.429Z"
    }
   },
   "outputs": [],
   "source": [
    "df_categorical = df.loc[:, cat]\n",
    "df_categorical.hist(figsize= (12, 12))"
   ]
  },
  {
   "cell_type": "markdown",
   "metadata": {},
   "source": [
    "#### Use Dummy Variables"
   ]
  },
  {
   "cell_type": "code",
   "execution_count": null,
   "metadata": {
    "ExecuteTime": {
     "end_time": "2021-01-16T04:09:21.404556Z",
     "start_time": "2021-01-16T04:09:18.432Z"
    }
   },
   "outputs": [],
   "source": [
    "df4 = df3.copy()"
   ]
  },
  {
   "cell_type": "code",
   "execution_count": null,
   "metadata": {
    "ExecuteTime": {
     "end_time": "2021-01-16T04:09:21.405645Z",
     "start_time": "2021-01-16T04:09:18.434Z"
    }
   },
   "outputs": [],
   "source": [
    "#OHE bedrooms, bathrooms, and floors\n",
    "bed_dum = pd.get_dummies(df4['bedrooms'], prefix= 'bed', drop_first= True)\n",
    "bath_dum = pd.get_dummies(df4['bathrooms'], prefix= 'bath', drop_first= True)"
   ]
  },
  {
   "cell_type": "code",
   "execution_count": null,
   "metadata": {
    "ExecuteTime": {
     "end_time": "2021-01-16T04:09:21.406699Z",
     "start_time": "2021-01-16T04:09:18.436Z"
    }
   },
   "outputs": [],
   "source": [
    "# Change type to 'category' rather than OHE\n",
    "df4['condition'] = df4.condition.astype('category')\n",
    "df4['floors'] = df4.floors.astype('category')"
   ]
  },
  {
   "cell_type": "code",
   "execution_count": null,
   "metadata": {
    "ExecuteTime": {
     "end_time": "2021-01-16T04:09:21.407711Z",
     "start_time": "2021-01-16T04:09:18.439Z"
    }
   },
   "outputs": [],
   "source": [
    "# Fix seasons and quadrants\n",
    "season_dum = pd.get_dummies(df4['season'], prefix= 'season', drop_first= True)\n",
    "quad_dum = pd.get_dummies(df4['quadrant'], prefix= 'quad', drop_first= True)"
   ]
  },
  {
   "cell_type": "code",
   "execution_count": null,
   "metadata": {
    "ExecuteTime": {
     "end_time": "2021-01-16T04:09:21.408744Z",
     "start_time": "2021-01-16T04:09:18.441Z"
    },
    "scrolled": true
   },
   "outputs": [],
   "source": [
    "df4 = pd.concat([df4, bed_dum, bath_dum, season_dum, quad_dum], axis= 1)"
   ]
  },
  {
   "cell_type": "code",
   "execution_count": null,
   "metadata": {
    "ExecuteTime": {
     "end_time": "2021-01-16T04:09:21.409834Z",
     "start_time": "2021-01-16T04:09:18.444Z"
    }
   },
   "outputs": [],
   "source": [
    "df4 = df4.drop(columns= ['bedrooms', 'bathrooms', 'season', 'quadrant'], \n",
    "               axis= 1)"
   ]
  },
  {
   "cell_type": "code",
   "execution_count": null,
   "metadata": {
    "ExecuteTime": {
     "end_time": "2021-01-16T04:09:21.410852Z",
     "start_time": "2021-01-16T04:09:18.446Z"
    }
   },
   "outputs": [],
   "source": [
    "df4 = df4.drop(columns = ['lat', 'long', 'zipcode'], axis= 1)"
   ]
  },
  {
   "cell_type": "code",
   "execution_count": null,
   "metadata": {
    "ExecuteTime": {
     "end_time": "2021-01-16T04:09:21.411776Z",
     "start_time": "2021-01-16T04:09:18.450Z"
    }
   },
   "outputs": [],
   "source": [
    "df4.info()"
   ]
  },
  {
   "cell_type": "markdown",
   "metadata": {},
   "source": [
    "Now that we are done transforming some features, let's save this so we can use it later if needed."
   ]
  },
  {
   "cell_type": "code",
   "execution_count": null,
   "metadata": {
    "ExecuteTime": {
     "end_time": "2021-01-16T04:09:21.412723Z",
     "start_time": "2021-01-16T04:09:18.453Z"
    }
   },
   "outputs": [],
   "source": [
    "# Save all changes to a csv file\n",
    "df4.to_csv('data/df_features_clean')"
   ]
  },
  {
   "cell_type": "markdown",
   "metadata": {},
   "source": [
    "## Modeling and Prediction"
   ]
  },
  {
   "cell_type": "markdown",
   "metadata": {},
   "source": [
    "Please see other notebook for Model and Prediction using Linear Regression"
   ]
  }
 ],
 "metadata": {
  "kernelspec": {
   "display_name": "Python 3",
   "language": "python",
   "name": "python3"
  },
  "language_info": {
   "codemirror_mode": {
    "name": "ipython",
    "version": 3
   },
   "file_extension": ".py",
   "mimetype": "text/x-python",
   "name": "python",
   "nbconvert_exporter": "python",
   "pygments_lexer": "ipython3",
   "version": "3.8.5"
  },
  "toc": {
   "base_numbering": 1,
   "nav_menu": {},
   "number_sections": true,
   "sideBar": true,
   "skip_h1_title": true,
   "title_cell": "Table of Contents",
   "title_sidebar": "Contents",
   "toc_cell": false,
   "toc_position": {
    "height": "calc(100% - 180px)",
    "left": "10px",
    "top": "150px",
    "width": "204.8px"
   },
   "toc_section_display": true,
   "toc_window_display": true
  },
  "varInspector": {
   "cols": {
    "lenName": 16,
    "lenType": 16,
    "lenVar": 40
   },
   "kernels_config": {
    "python": {
     "delete_cmd_postfix": "",
     "delete_cmd_prefix": "del ",
     "library": "var_list.py",
     "varRefreshCmd": "print(var_dic_list())"
    },
    "r": {
     "delete_cmd_postfix": ") ",
     "delete_cmd_prefix": "rm(",
     "library": "var_list.r",
     "varRefreshCmd": "cat(var_dic_list()) "
    }
   },
   "types_to_exclude": [
    "module",
    "function",
    "builtin_function_or_method",
    "instance",
    "_Feature"
   ],
   "window_display": false
  }
 },
 "nbformat": 4,
 "nbformat_minor": 4
}
