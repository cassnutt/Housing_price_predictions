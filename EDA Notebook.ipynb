{
 "cells": [
  {
   "cell_type": "markdown",
   "metadata": {},
   "source": [
    "# Data Cleaning and Exploration"
   ]
  },
  {
   "cell_type": "code",
   "execution_count": 1,
   "metadata": {
    "ExecuteTime": {
     "end_time": "2021-01-05T22:39:13.104675Z",
     "start_time": "2021-01-05T22:39:11.843148Z"
    }
   },
   "outputs": [],
   "source": [
    "import pandas as pd\n",
    "import numpy as np\n",
    "import matplotlib.pyplot as plt\n",
    "import seaborn as sns\n",
    "%matplotlib inline\n",
    "\n",
    "#code to display all the columns without truncation\n",
    "pd.set_option('display.max_columns', None)"
   ]
  },
  {
   "cell_type": "code",
   "execution_count": 2,
   "metadata": {
    "ExecuteTime": {
     "end_time": "2021-01-05T22:39:13.154578Z",
     "start_time": "2021-01-05T22:39:13.106919Z"
    }
   },
   "outputs": [],
   "source": [
    "df = pd.read_csv('data/kc_house_data.csv')"
   ]
  },
  {
   "cell_type": "code",
   "execution_count": 3,
   "metadata": {
    "ExecuteTime": {
     "end_time": "2021-01-05T22:39:13.174156Z",
     "start_time": "2021-01-05T22:39:13.156523Z"
    }
   },
   "outputs": [
    {
     "data": {
      "text/html": [
       "<div>\n",
       "<style scoped>\n",
       "    .dataframe tbody tr th:only-of-type {\n",
       "        vertical-align: middle;\n",
       "    }\n",
       "\n",
       "    .dataframe tbody tr th {\n",
       "        vertical-align: top;\n",
       "    }\n",
       "\n",
       "    .dataframe thead th {\n",
       "        text-align: right;\n",
       "    }\n",
       "</style>\n",
       "<table border=\"1\" class=\"dataframe\">\n",
       "  <thead>\n",
       "    <tr style=\"text-align: right;\">\n",
       "      <th></th>\n",
       "      <th>id</th>\n",
       "      <th>date</th>\n",
       "      <th>price</th>\n",
       "      <th>bedrooms</th>\n",
       "      <th>bathrooms</th>\n",
       "      <th>sqft_living</th>\n",
       "      <th>sqft_lot</th>\n",
       "      <th>floors</th>\n",
       "      <th>waterfront</th>\n",
       "      <th>view</th>\n",
       "      <th>condition</th>\n",
       "      <th>grade</th>\n",
       "      <th>sqft_above</th>\n",
       "      <th>sqft_basement</th>\n",
       "      <th>yr_built</th>\n",
       "      <th>yr_renovated</th>\n",
       "      <th>zipcode</th>\n",
       "      <th>lat</th>\n",
       "      <th>long</th>\n",
       "      <th>sqft_living15</th>\n",
       "      <th>sqft_lot15</th>\n",
       "    </tr>\n",
       "  </thead>\n",
       "  <tbody>\n",
       "    <tr>\n",
       "      <th>0</th>\n",
       "      <td>7129300520</td>\n",
       "      <td>10/13/2014</td>\n",
       "      <td>221900.0</td>\n",
       "      <td>3</td>\n",
       "      <td>1.00</td>\n",
       "      <td>1180</td>\n",
       "      <td>5650</td>\n",
       "      <td>1.0</td>\n",
       "      <td>NaN</td>\n",
       "      <td>0.0</td>\n",
       "      <td>3</td>\n",
       "      <td>7</td>\n",
       "      <td>1180</td>\n",
       "      <td>0.0</td>\n",
       "      <td>1955</td>\n",
       "      <td>0.0</td>\n",
       "      <td>98178</td>\n",
       "      <td>47.5112</td>\n",
       "      <td>-122.257</td>\n",
       "      <td>1340</td>\n",
       "      <td>5650</td>\n",
       "    </tr>\n",
       "    <tr>\n",
       "      <th>1</th>\n",
       "      <td>6414100192</td>\n",
       "      <td>12/9/2014</td>\n",
       "      <td>538000.0</td>\n",
       "      <td>3</td>\n",
       "      <td>2.25</td>\n",
       "      <td>2570</td>\n",
       "      <td>7242</td>\n",
       "      <td>2.0</td>\n",
       "      <td>0.0</td>\n",
       "      <td>0.0</td>\n",
       "      <td>3</td>\n",
       "      <td>7</td>\n",
       "      <td>2170</td>\n",
       "      <td>400.0</td>\n",
       "      <td>1951</td>\n",
       "      <td>1991.0</td>\n",
       "      <td>98125</td>\n",
       "      <td>47.7210</td>\n",
       "      <td>-122.319</td>\n",
       "      <td>1690</td>\n",
       "      <td>7639</td>\n",
       "    </tr>\n",
       "    <tr>\n",
       "      <th>2</th>\n",
       "      <td>5631500400</td>\n",
       "      <td>2/25/2015</td>\n",
       "      <td>180000.0</td>\n",
       "      <td>2</td>\n",
       "      <td>1.00</td>\n",
       "      <td>770</td>\n",
       "      <td>10000</td>\n",
       "      <td>1.0</td>\n",
       "      <td>0.0</td>\n",
       "      <td>0.0</td>\n",
       "      <td>3</td>\n",
       "      <td>6</td>\n",
       "      <td>770</td>\n",
       "      <td>0.0</td>\n",
       "      <td>1933</td>\n",
       "      <td>NaN</td>\n",
       "      <td>98028</td>\n",
       "      <td>47.7379</td>\n",
       "      <td>-122.233</td>\n",
       "      <td>2720</td>\n",
       "      <td>8062</td>\n",
       "    </tr>\n",
       "    <tr>\n",
       "      <th>3</th>\n",
       "      <td>2487200875</td>\n",
       "      <td>12/9/2014</td>\n",
       "      <td>604000.0</td>\n",
       "      <td>4</td>\n",
       "      <td>3.00</td>\n",
       "      <td>1960</td>\n",
       "      <td>5000</td>\n",
       "      <td>1.0</td>\n",
       "      <td>0.0</td>\n",
       "      <td>0.0</td>\n",
       "      <td>5</td>\n",
       "      <td>7</td>\n",
       "      <td>1050</td>\n",
       "      <td>910.0</td>\n",
       "      <td>1965</td>\n",
       "      <td>0.0</td>\n",
       "      <td>98136</td>\n",
       "      <td>47.5208</td>\n",
       "      <td>-122.393</td>\n",
       "      <td>1360</td>\n",
       "      <td>5000</td>\n",
       "    </tr>\n",
       "    <tr>\n",
       "      <th>4</th>\n",
       "      <td>1954400510</td>\n",
       "      <td>2/18/2015</td>\n",
       "      <td>510000.0</td>\n",
       "      <td>3</td>\n",
       "      <td>2.00</td>\n",
       "      <td>1680</td>\n",
       "      <td>8080</td>\n",
       "      <td>1.0</td>\n",
       "      <td>0.0</td>\n",
       "      <td>0.0</td>\n",
       "      <td>3</td>\n",
       "      <td>8</td>\n",
       "      <td>1680</td>\n",
       "      <td>0.0</td>\n",
       "      <td>1987</td>\n",
       "      <td>0.0</td>\n",
       "      <td>98074</td>\n",
       "      <td>47.6168</td>\n",
       "      <td>-122.045</td>\n",
       "      <td>1800</td>\n",
       "      <td>7503</td>\n",
       "    </tr>\n",
       "  </tbody>\n",
       "</table>\n",
       "</div>"
      ],
      "text/plain": [
       "           id        date     price  bedrooms  bathrooms  sqft_living  \\\n",
       "0  7129300520  10/13/2014  221900.0         3       1.00         1180   \n",
       "1  6414100192   12/9/2014  538000.0         3       2.25         2570   \n",
       "2  5631500400   2/25/2015  180000.0         2       1.00          770   \n",
       "3  2487200875   12/9/2014  604000.0         4       3.00         1960   \n",
       "4  1954400510   2/18/2015  510000.0         3       2.00         1680   \n",
       "\n",
       "   sqft_lot  floors  waterfront  view  condition  grade  sqft_above  \\\n",
       "0      5650     1.0         NaN   0.0          3      7        1180   \n",
       "1      7242     2.0         0.0   0.0          3      7        2170   \n",
       "2     10000     1.0         0.0   0.0          3      6         770   \n",
       "3      5000     1.0         0.0   0.0          5      7        1050   \n",
       "4      8080     1.0         0.0   0.0          3      8        1680   \n",
       "\n",
       "  sqft_basement  yr_built  yr_renovated  zipcode      lat     long  \\\n",
       "0           0.0      1955           0.0    98178  47.5112 -122.257   \n",
       "1         400.0      1951        1991.0    98125  47.7210 -122.319   \n",
       "2           0.0      1933           NaN    98028  47.7379 -122.233   \n",
       "3         910.0      1965           0.0    98136  47.5208 -122.393   \n",
       "4           0.0      1987           0.0    98074  47.6168 -122.045   \n",
       "\n",
       "   sqft_living15  sqft_lot15  \n",
       "0           1340        5650  \n",
       "1           1690        7639  \n",
       "2           2720        8062  \n",
       "3           1360        5000  \n",
       "4           1800        7503  "
      ]
     },
     "execution_count": 3,
     "metadata": {},
     "output_type": "execute_result"
    }
   ],
   "source": [
    "df.head()"
   ]
  },
  {
   "cell_type": "code",
   "execution_count": 4,
   "metadata": {
    "ExecuteTime": {
     "end_time": "2021-01-05T22:39:13.185182Z",
     "start_time": "2021-01-05T22:39:13.176266Z"
    }
   },
   "outputs": [
    {
     "name": "stdout",
     "output_type": "stream",
     "text": [
      "<class 'pandas.core.frame.DataFrame'>\n",
      "RangeIndex: 21597 entries, 0 to 21596\n",
      "Data columns (total 21 columns):\n",
      " #   Column         Non-Null Count  Dtype  \n",
      "---  ------         --------------  -----  \n",
      " 0   id             21597 non-null  int64  \n",
      " 1   date           21597 non-null  object \n",
      " 2   price          21597 non-null  float64\n",
      " 3   bedrooms       21597 non-null  int64  \n",
      " 4   bathrooms      21597 non-null  float64\n",
      " 5   sqft_living    21597 non-null  int64  \n",
      " 6   sqft_lot       21597 non-null  int64  \n",
      " 7   floors         21597 non-null  float64\n",
      " 8   waterfront     19221 non-null  float64\n",
      " 9   view           21534 non-null  float64\n",
      " 10  condition      21597 non-null  int64  \n",
      " 11  grade          21597 non-null  int64  \n",
      " 12  sqft_above     21597 non-null  int64  \n",
      " 13  sqft_basement  21597 non-null  object \n",
      " 14  yr_built       21597 non-null  int64  \n",
      " 15  yr_renovated   17755 non-null  float64\n",
      " 16  zipcode        21597 non-null  int64  \n",
      " 17  lat            21597 non-null  float64\n",
      " 18  long           21597 non-null  float64\n",
      " 19  sqft_living15  21597 non-null  int64  \n",
      " 20  sqft_lot15     21597 non-null  int64  \n",
      "dtypes: float64(8), int64(11), object(2)\n",
      "memory usage: 3.5+ MB\n"
     ]
    }
   ],
   "source": [
    "df.info()"
   ]
  },
  {
   "cell_type": "markdown",
   "metadata": {},
   "source": [
    "## What are all these columns?\n",
    "Column Names and descriptions for Kings County Data Set\n",
    "* **id** - unique identified for a house\n",
    "* **date** - date house was sold\n",
    "* **price** - price is prediction target\n",
    "* **bedrooms** - number of Bedrooms/House\n",
    "* **bathrooms** - number of bathrooms/bedrooms\n",
    "* **sqft_living** - square footage of the home\n",
    "* **sqft_lot** -  square footage of the lot\n",
    "* **floors** - total floors (levels) in house\n",
    "* **waterfront** - House which has a view to a waterfront\n",
    "* **view** - Has a view\n",
    "* **condition** - How good the condition is ( Overall )\n",
    "* **grade** - overall grade given to the housing unit, based on King County grading system\n",
    "* **sqft_above** - square footage of house apart from basement\n",
    "* **sqft_basement** - square footage of the basement\n",
    "* **yr_built** - Built Year\n",
    "* **yr_renovated** - Year when house was renovated\n",
    "* **zipcode** - zip code\n",
    "* **lat** - Latitude coordinate\n",
    "* **long** - Longitude coordinate\n",
    "* **sqft_living15** - The square footage of interior housing living space for the nearest 15 neighbors\n",
    "* **sqft_lot15** - The square footage of the land lots of the nearest 15 neighbors\n"
   ]
  },
  {
   "cell_type": "code",
   "execution_count": 5,
   "metadata": {
    "ExecuteTime": {
     "end_time": "2021-01-05T22:39:13.211666Z",
     "start_time": "2021-01-05T22:39:13.186762Z"
    }
   },
   "outputs": [],
   "source": [
    "df['date'] = pd.to_datetime(df['date'])"
   ]
  },
  {
   "cell_type": "code",
   "execution_count": 6,
   "metadata": {
    "ExecuteTime": {
     "end_time": "2021-01-05T22:39:13.224710Z",
     "start_time": "2021-01-05T22:39:13.214029Z"
    }
   },
   "outputs": [
    {
     "data": {
      "text/plain": [
       "0.0       0.593879\n",
       "?         0.021021\n",
       "600.0     0.010048\n",
       "500.0     0.009677\n",
       "700.0     0.009631\n",
       "            ...   \n",
       "556.0     0.000046\n",
       "704.0     0.000046\n",
       "2810.0    0.000046\n",
       "1880.0    0.000046\n",
       "1920.0    0.000046\n",
       "Name: sqft_basement, Length: 304, dtype: float64"
      ]
     },
     "execution_count": 6,
     "metadata": {},
     "output_type": "execute_result"
    }
   ],
   "source": [
    "df.sqft_basement.value_counts(normalize= True)"
   ]
  },
  {
   "cell_type": "markdown",
   "metadata": {},
   "source": [
    "0.2% of the data is marked as '?' while 59.3% is marked as '0.0'. "
   ]
  },
  {
   "cell_type": "code",
   "execution_count": 7,
   "metadata": {
    "ExecuteTime": {
     "end_time": "2021-01-05T22:39:13.230568Z",
     "start_time": "2021-01-05T22:39:13.226644Z"
    }
   },
   "outputs": [],
   "source": [
    "# change ? in column to 0 - most commonly seen value\n",
    "df['sqft_basement'] = df['sqft_basement'].replace('?', '0.0')"
   ]
  },
  {
   "cell_type": "code",
   "execution_count": 8,
   "metadata": {
    "ExecuteTime": {
     "end_time": "2021-01-05T22:39:13.257948Z",
     "start_time": "2021-01-05T22:39:13.235653Z"
    }
   },
   "outputs": [
    {
     "data": {
      "text/plain": [
       "0.0       13280\n",
       "600.0       217\n",
       "500.0       209\n",
       "700.0       208\n",
       "800.0       201\n",
       "          ...  \n",
       "2250.0        1\n",
       "704.0         1\n",
       "2810.0        1\n",
       "1880.0        1\n",
       "1920.0        1\n",
       "Name: sqft_basement, Length: 303, dtype: int64"
      ]
     },
     "execution_count": 8,
     "metadata": {},
     "output_type": "execute_result"
    }
   ],
   "source": [
    "df.sqft_basement.value_counts()"
   ]
  },
  {
   "cell_type": "code",
   "execution_count": 9,
   "metadata": {
    "ExecuteTime": {
     "end_time": "2021-01-05T22:39:13.265159Z",
     "start_time": "2021-01-05T22:39:13.260874Z"
    }
   },
   "outputs": [],
   "source": [
    "# change data type of basement to float instead of object\n",
    "df['sqft_basement'] = df.sqft_basement.astype('float64')"
   ]
  },
  {
   "cell_type": "code",
   "execution_count": 10,
   "metadata": {
    "ExecuteTime": {
     "end_time": "2021-01-05T22:39:13.275300Z",
     "start_time": "2021-01-05T22:39:13.267134Z"
    }
   },
   "outputs": [
    {
     "data": {
      "text/plain": [
       "8317"
      ]
     },
     "execution_count": 10,
     "metadata": {},
     "output_type": "execute_result"
    }
   ],
   "source": [
    "# see how many rows have a value for sqft_basement\n",
    "len (df.loc[df['sqft_basement'] > 0])"
   ]
  },
  {
   "cell_type": "code",
   "execution_count": 11,
   "metadata": {
    "ExecuteTime": {
     "end_time": "2021-01-05T22:39:13.286518Z",
     "start_time": "2021-01-05T22:39:13.277151Z"
    }
   },
   "outputs": [
    {
     "name": "stdout",
     "output_type": "stream",
     "text": [
      "<class 'pandas.core.frame.DataFrame'>\n",
      "RangeIndex: 21597 entries, 0 to 21596\n",
      "Data columns (total 21 columns):\n",
      " #   Column         Non-Null Count  Dtype         \n",
      "---  ------         --------------  -----         \n",
      " 0   id             21597 non-null  int64         \n",
      " 1   date           21597 non-null  datetime64[ns]\n",
      " 2   price          21597 non-null  float64       \n",
      " 3   bedrooms       21597 non-null  int64         \n",
      " 4   bathrooms      21597 non-null  float64       \n",
      " 5   sqft_living    21597 non-null  int64         \n",
      " 6   sqft_lot       21597 non-null  int64         \n",
      " 7   floors         21597 non-null  float64       \n",
      " 8   waterfront     19221 non-null  float64       \n",
      " 9   view           21534 non-null  float64       \n",
      " 10  condition      21597 non-null  int64         \n",
      " 11  grade          21597 non-null  int64         \n",
      " 12  sqft_above     21597 non-null  int64         \n",
      " 13  sqft_basement  21597 non-null  float64       \n",
      " 14  yr_built       21597 non-null  int64         \n",
      " 15  yr_renovated   17755 non-null  float64       \n",
      " 16  zipcode        21597 non-null  int64         \n",
      " 17  lat            21597 non-null  float64       \n",
      " 18  long           21597 non-null  float64       \n",
      " 19  sqft_living15  21597 non-null  int64         \n",
      " 20  sqft_lot15     21597 non-null  int64         \n",
      "dtypes: datetime64[ns](1), float64(9), int64(11)\n",
      "memory usage: 3.5 MB\n"
     ]
    }
   ],
   "source": [
    "df.info()"
   ]
  },
  {
   "cell_type": "code",
   "execution_count": 12,
   "metadata": {
    "ExecuteTime": {
     "end_time": "2021-01-05T22:39:13.295165Z",
     "start_time": "2021-01-05T22:39:13.288513Z"
    }
   },
   "outputs": [
    {
     "data": {
      "text/plain": [
       "0.0    0.992404\n",
       "1.0    0.007596\n",
       "Name: waterfront, dtype: float64"
      ]
     },
     "execution_count": 12,
     "metadata": {},
     "output_type": "execute_result"
    }
   ],
   "source": [
    "# look at null values in waterfront\n",
    "df.waterfront.value_counts(normalize= True)"
   ]
  },
  {
   "cell_type": "code",
   "execution_count": 13,
   "metadata": {
    "ExecuteTime": {
     "end_time": "2021-01-05T22:39:13.303935Z",
     "start_time": "2021-01-05T22:39:13.297209Z"
    }
   },
   "outputs": [
    {
     "data": {
      "text/plain": [
       "0.0    0.901923\n",
       "2.0    0.044441\n",
       "3.0    0.023591\n",
       "1.0    0.015325\n",
       "4.0    0.014721\n",
       "Name: view, dtype: float64"
      ]
     },
     "execution_count": 13,
     "metadata": {},
     "output_type": "execute_result"
    }
   ],
   "source": [
    "# look at null values in view\n",
    "df.view.value_counts(normalize= True)"
   ]
  },
  {
   "cell_type": "code",
   "execution_count": 14,
   "metadata": {
    "ExecuteTime": {
     "end_time": "2021-01-05T22:39:13.311881Z",
     "start_time": "2021-01-05T22:39:13.305569Z"
    }
   },
   "outputs": [
    {
     "data": {
      "text/plain": [
       "0.0       0.958096\n",
       "2014.0    0.004112\n",
       "2003.0    0.001746\n",
       "2013.0    0.001746\n",
       "2007.0    0.001690\n",
       "            ...   \n",
       "1946.0    0.000056\n",
       "1959.0    0.000056\n",
       "1971.0    0.000056\n",
       "1951.0    0.000056\n",
       "1954.0    0.000056\n",
       "Name: yr_renovated, Length: 70, dtype: float64"
      ]
     },
     "execution_count": 14,
     "metadata": {},
     "output_type": "execute_result"
    }
   ],
   "source": [
    "# look at null values in yr_renovated column\n",
    "df.yr_renovated.value_counts(normalize= True)"
   ]
  },
  {
   "cell_type": "markdown",
   "metadata": {},
   "source": [
    "99.2% of homes are not considered waterfront properties.\n",
    "\n",
    "90% of homes do not have a view. While there are more categories, and replacing the null values with 0 may still be iffy, there are not very many missing values.\n",
    "\n",
    "95.8% of homes have never been renovated. \n",
    "\n",
    "We can feel secure in replacing those all the missing values with zeros."
   ]
  },
  {
   "cell_type": "code",
   "execution_count": 15,
   "metadata": {
    "ExecuteTime": {
     "end_time": "2021-01-05T22:39:13.317863Z",
     "start_time": "2021-01-05T22:39:13.313913Z"
    }
   },
   "outputs": [],
   "source": [
    "df.fillna(0, inplace= True)"
   ]
  },
  {
   "cell_type": "code",
   "execution_count": 16,
   "metadata": {
    "ExecuteTime": {
     "end_time": "2021-01-05T22:39:13.330163Z",
     "start_time": "2021-01-05T22:39:13.319947Z"
    },
    "scrolled": true
   },
   "outputs": [
    {
     "name": "stdout",
     "output_type": "stream",
     "text": [
      "<class 'pandas.core.frame.DataFrame'>\n",
      "RangeIndex: 21597 entries, 0 to 21596\n",
      "Data columns (total 21 columns):\n",
      " #   Column         Non-Null Count  Dtype         \n",
      "---  ------         --------------  -----         \n",
      " 0   id             21597 non-null  int64         \n",
      " 1   date           21597 non-null  datetime64[ns]\n",
      " 2   price          21597 non-null  float64       \n",
      " 3   bedrooms       21597 non-null  int64         \n",
      " 4   bathrooms      21597 non-null  float64       \n",
      " 5   sqft_living    21597 non-null  int64         \n",
      " 6   sqft_lot       21597 non-null  int64         \n",
      " 7   floors         21597 non-null  float64       \n",
      " 8   waterfront     21597 non-null  float64       \n",
      " 9   view           21597 non-null  float64       \n",
      " 10  condition      21597 non-null  int64         \n",
      " 11  grade          21597 non-null  int64         \n",
      " 12  sqft_above     21597 non-null  int64         \n",
      " 13  sqft_basement  21597 non-null  float64       \n",
      " 14  yr_built       21597 non-null  int64         \n",
      " 15  yr_renovated   21597 non-null  float64       \n",
      " 16  zipcode        21597 non-null  int64         \n",
      " 17  lat            21597 non-null  float64       \n",
      " 18  long           21597 non-null  float64       \n",
      " 19  sqft_living15  21597 non-null  int64         \n",
      " 20  sqft_lot15     21597 non-null  int64         \n",
      "dtypes: datetime64[ns](1), float64(9), int64(11)\n",
      "memory usage: 3.5 MB\n"
     ]
    }
   ],
   "source": [
    "df.info()"
   ]
  },
  {
   "cell_type": "markdown",
   "metadata": {},
   "source": [
    "Most columns will likely have duplicates - especially the categorical columns. But the 'id' should have only one id per entry. Let's check that out."
   ]
  },
  {
   "cell_type": "code",
   "execution_count": 17,
   "metadata": {
    "ExecuteTime": {
     "end_time": "2021-01-05T22:39:13.336671Z",
     "start_time": "2021-01-05T22:39:13.332237Z"
    }
   },
   "outputs": [
    {
     "data": {
      "text/plain": [
       "177"
      ]
     },
     "execution_count": 17,
     "metadata": {},
     "output_type": "execute_result"
    }
   ],
   "source": [
    "# check id column for duplicate entries\n",
    "df.id.duplicated().sum()"
   ]
  },
  {
   "cell_type": "code",
   "execution_count": 18,
   "metadata": {
    "ExecuteTime": {
     "end_time": "2021-01-05T22:39:13.343970Z",
     "start_time": "2021-01-05T22:39:13.338949Z"
    }
   },
   "outputs": [],
   "source": [
    "df_id_dups = df[df.duplicated('id')]"
   ]
  },
  {
   "cell_type": "code",
   "execution_count": 19,
   "metadata": {
    "ExecuteTime": {
     "end_time": "2021-01-05T22:39:13.348983Z",
     "start_time": "2021-01-05T22:39:13.346401Z"
    }
   },
   "outputs": [],
   "source": [
    "df_id_dups.reset_index(drop= True, inplace= True)"
   ]
  },
  {
   "cell_type": "code",
   "execution_count": 20,
   "metadata": {
    "ExecuteTime": {
     "end_time": "2021-01-05T22:39:13.353635Z",
     "start_time": "2021-01-05T22:39:13.351829Z"
    }
   },
   "outputs": [],
   "source": [
    "# for reference - delete when finished\n",
    "# df_id_dups.groupby('date')['id'].count()\n",
    "# df_id_dups= df_id_dups.groupby(['id']).unique().count()"
   ]
  },
  {
   "cell_type": "code",
   "execution_count": 21,
   "metadata": {
    "ExecuteTime": {
     "end_time": "2021-01-05T22:39:13.371434Z",
     "start_time": "2021-01-05T22:39:13.355785Z"
    }
   },
   "outputs": [
    {
     "data": {
      "text/html": [
       "<div>\n",
       "<style scoped>\n",
       "    .dataframe tbody tr th:only-of-type {\n",
       "        vertical-align: middle;\n",
       "    }\n",
       "\n",
       "    .dataframe tbody tr th {\n",
       "        vertical-align: top;\n",
       "    }\n",
       "\n",
       "    .dataframe thead th {\n",
       "        text-align: right;\n",
       "    }\n",
       "</style>\n",
       "<table border=\"1\" class=\"dataframe\">\n",
       "  <thead>\n",
       "    <tr style=\"text-align: right;\">\n",
       "      <th></th>\n",
       "      <th>id</th>\n",
       "      <th>date</th>\n",
       "      <th>price</th>\n",
       "      <th>bedrooms</th>\n",
       "      <th>bathrooms</th>\n",
       "      <th>sqft_living</th>\n",
       "      <th>sqft_lot</th>\n",
       "      <th>floors</th>\n",
       "      <th>waterfront</th>\n",
       "      <th>view</th>\n",
       "      <th>condition</th>\n",
       "      <th>grade</th>\n",
       "      <th>sqft_above</th>\n",
       "      <th>sqft_basement</th>\n",
       "      <th>yr_built</th>\n",
       "      <th>yr_renovated</th>\n",
       "      <th>zipcode</th>\n",
       "      <th>lat</th>\n",
       "      <th>long</th>\n",
       "      <th>sqft_living15</th>\n",
       "      <th>sqft_lot15</th>\n",
       "    </tr>\n",
       "  </thead>\n",
       "  <tbody>\n",
       "    <tr>\n",
       "      <th>93</th>\n",
       "      <td>6021501535</td>\n",
       "      <td>2014-07-25</td>\n",
       "      <td>430000.0</td>\n",
       "      <td>3</td>\n",
       "      <td>1.5</td>\n",
       "      <td>1580</td>\n",
       "      <td>5000</td>\n",
       "      <td>1.0</td>\n",
       "      <td>0.0</td>\n",
       "      <td>0.0</td>\n",
       "      <td>3</td>\n",
       "      <td>8</td>\n",
       "      <td>1290</td>\n",
       "      <td>290.0</td>\n",
       "      <td>1939</td>\n",
       "      <td>0.0</td>\n",
       "      <td>98117</td>\n",
       "      <td>47.687</td>\n",
       "      <td>-122.386</td>\n",
       "      <td>1570</td>\n",
       "      <td>4500</td>\n",
       "    </tr>\n",
       "    <tr>\n",
       "      <th>94</th>\n",
       "      <td>6021501535</td>\n",
       "      <td>2014-12-23</td>\n",
       "      <td>700000.0</td>\n",
       "      <td>3</td>\n",
       "      <td>1.5</td>\n",
       "      <td>1580</td>\n",
       "      <td>5000</td>\n",
       "      <td>1.0</td>\n",
       "      <td>0.0</td>\n",
       "      <td>0.0</td>\n",
       "      <td>3</td>\n",
       "      <td>8</td>\n",
       "      <td>1290</td>\n",
       "      <td>290.0</td>\n",
       "      <td>1939</td>\n",
       "      <td>0.0</td>\n",
       "      <td>98117</td>\n",
       "      <td>47.687</td>\n",
       "      <td>-122.386</td>\n",
       "      <td>1570</td>\n",
       "      <td>4500</td>\n",
       "    </tr>\n",
       "  </tbody>\n",
       "</table>\n",
       "</div>"
      ],
      "text/plain": [
       "            id       date     price  bedrooms  bathrooms  sqft_living  \\\n",
       "93  6021501535 2014-07-25  430000.0         3        1.5         1580   \n",
       "94  6021501535 2014-12-23  700000.0         3        1.5         1580   \n",
       "\n",
       "    sqft_lot  floors  waterfront  view  condition  grade  sqft_above  \\\n",
       "93      5000     1.0         0.0   0.0          3      8        1290   \n",
       "94      5000     1.0         0.0   0.0          3      8        1290   \n",
       "\n",
       "    sqft_basement  yr_built  yr_renovated  zipcode     lat     long  \\\n",
       "93          290.0      1939           0.0    98117  47.687 -122.386   \n",
       "94          290.0      1939           0.0    98117  47.687 -122.386   \n",
       "\n",
       "    sqft_living15  sqft_lot15  \n",
       "93           1570        4500  \n",
       "94           1570        4500  "
      ]
     },
     "execution_count": 21,
     "metadata": {},
     "output_type": "execute_result"
    }
   ],
   "source": [
    "df.loc[df['id'] == 6021501535]"
   ]
  },
  {
   "cell_type": "code",
   "execution_count": 22,
   "metadata": {
    "ExecuteTime": {
     "end_time": "2021-01-05T22:39:13.387894Z",
     "start_time": "2021-01-05T22:39:13.373490Z"
    },
    "scrolled": true
   },
   "outputs": [
    {
     "data": {
      "text/html": [
       "<div>\n",
       "<style scoped>\n",
       "    .dataframe tbody tr th:only-of-type {\n",
       "        vertical-align: middle;\n",
       "    }\n",
       "\n",
       "    .dataframe tbody tr th {\n",
       "        vertical-align: top;\n",
       "    }\n",
       "\n",
       "    .dataframe thead th {\n",
       "        text-align: right;\n",
       "    }\n",
       "</style>\n",
       "<table border=\"1\" class=\"dataframe\">\n",
       "  <thead>\n",
       "    <tr style=\"text-align: right;\">\n",
       "      <th></th>\n",
       "      <th>id</th>\n",
       "      <th>date</th>\n",
       "      <th>price</th>\n",
       "      <th>bedrooms</th>\n",
       "      <th>bathrooms</th>\n",
       "      <th>sqft_living</th>\n",
       "      <th>sqft_lot</th>\n",
       "      <th>floors</th>\n",
       "      <th>waterfront</th>\n",
       "      <th>view</th>\n",
       "      <th>condition</th>\n",
       "      <th>grade</th>\n",
       "      <th>sqft_above</th>\n",
       "      <th>sqft_basement</th>\n",
       "      <th>yr_built</th>\n",
       "      <th>yr_renovated</th>\n",
       "      <th>zipcode</th>\n",
       "      <th>lat</th>\n",
       "      <th>long</th>\n",
       "      <th>sqft_living15</th>\n",
       "      <th>sqft_lot15</th>\n",
       "    </tr>\n",
       "  </thead>\n",
       "  <tbody>\n",
       "    <tr>\n",
       "      <th>313</th>\n",
       "      <td>4139480200</td>\n",
       "      <td>2014-06-18</td>\n",
       "      <td>1380000.0</td>\n",
       "      <td>4</td>\n",
       "      <td>3.25</td>\n",
       "      <td>4290</td>\n",
       "      <td>12103</td>\n",
       "      <td>1.0</td>\n",
       "      <td>0.0</td>\n",
       "      <td>3.0</td>\n",
       "      <td>3</td>\n",
       "      <td>11</td>\n",
       "      <td>2690</td>\n",
       "      <td>1600.0</td>\n",
       "      <td>1997</td>\n",
       "      <td>0.0</td>\n",
       "      <td>98006</td>\n",
       "      <td>47.5503</td>\n",
       "      <td>-122.102</td>\n",
       "      <td>3860</td>\n",
       "      <td>11244</td>\n",
       "    </tr>\n",
       "    <tr>\n",
       "      <th>314</th>\n",
       "      <td>4139480200</td>\n",
       "      <td>2014-12-09</td>\n",
       "      <td>1400000.0</td>\n",
       "      <td>4</td>\n",
       "      <td>3.25</td>\n",
       "      <td>4290</td>\n",
       "      <td>12103</td>\n",
       "      <td>1.0</td>\n",
       "      <td>0.0</td>\n",
       "      <td>3.0</td>\n",
       "      <td>3</td>\n",
       "      <td>11</td>\n",
       "      <td>2690</td>\n",
       "      <td>1600.0</td>\n",
       "      <td>1997</td>\n",
       "      <td>0.0</td>\n",
       "      <td>98006</td>\n",
       "      <td>47.5503</td>\n",
       "      <td>-122.102</td>\n",
       "      <td>3860</td>\n",
       "      <td>11244</td>\n",
       "    </tr>\n",
       "  </tbody>\n",
       "</table>\n",
       "</div>"
      ],
      "text/plain": [
       "             id       date      price  bedrooms  bathrooms  sqft_living  \\\n",
       "313  4139480200 2014-06-18  1380000.0         4       3.25         4290   \n",
       "314  4139480200 2014-12-09  1400000.0         4       3.25         4290   \n",
       "\n",
       "     sqft_lot  floors  waterfront  view  condition  grade  sqft_above  \\\n",
       "313     12103     1.0         0.0   3.0          3     11        2690   \n",
       "314     12103     1.0         0.0   3.0          3     11        2690   \n",
       "\n",
       "     sqft_basement  yr_built  yr_renovated  zipcode      lat     long  \\\n",
       "313         1600.0      1997           0.0    98006  47.5503 -122.102   \n",
       "314         1600.0      1997           0.0    98006  47.5503 -122.102   \n",
       "\n",
       "     sqft_living15  sqft_lot15  \n",
       "313           3860       11244  \n",
       "314           3860       11244  "
      ]
     },
     "execution_count": 22,
     "metadata": {},
     "output_type": "execute_result"
    }
   ],
   "source": [
    "df.loc[df['id'] == 4139480200]"
   ]
  },
  {
   "cell_type": "code",
   "execution_count": 23,
   "metadata": {
    "ExecuteTime": {
     "end_time": "2021-01-05T22:39:13.411382Z",
     "start_time": "2021-01-05T22:39:13.396454Z"
    },
    "scrolled": true
   },
   "outputs": [
    {
     "data": {
      "text/html": [
       "<div>\n",
       "<style scoped>\n",
       "    .dataframe tbody tr th:only-of-type {\n",
       "        vertical-align: middle;\n",
       "    }\n",
       "\n",
       "    .dataframe tbody tr th {\n",
       "        vertical-align: top;\n",
       "    }\n",
       "\n",
       "    .dataframe thead th {\n",
       "        text-align: right;\n",
       "    }\n",
       "</style>\n",
       "<table border=\"1\" class=\"dataframe\">\n",
       "  <thead>\n",
       "    <tr style=\"text-align: right;\">\n",
       "      <th></th>\n",
       "      <th>id</th>\n",
       "      <th>date</th>\n",
       "      <th>price</th>\n",
       "      <th>bedrooms</th>\n",
       "      <th>bathrooms</th>\n",
       "      <th>sqft_living</th>\n",
       "      <th>sqft_lot</th>\n",
       "      <th>floors</th>\n",
       "      <th>waterfront</th>\n",
       "      <th>view</th>\n",
       "      <th>condition</th>\n",
       "      <th>grade</th>\n",
       "      <th>sqft_above</th>\n",
       "      <th>sqft_basement</th>\n",
       "      <th>yr_built</th>\n",
       "      <th>yr_renovated</th>\n",
       "      <th>zipcode</th>\n",
       "      <th>lat</th>\n",
       "      <th>long</th>\n",
       "      <th>sqft_living15</th>\n",
       "      <th>sqft_lot15</th>\n",
       "    </tr>\n",
       "  </thead>\n",
       "  <tbody>\n",
       "    <tr>\n",
       "      <th>345</th>\n",
       "      <td>3969300030</td>\n",
       "      <td>2014-07-23</td>\n",
       "      <td>165000.0</td>\n",
       "      <td>4</td>\n",
       "      <td>1.0</td>\n",
       "      <td>1000</td>\n",
       "      <td>7134</td>\n",
       "      <td>1.0</td>\n",
       "      <td>0.0</td>\n",
       "      <td>0.0</td>\n",
       "      <td>3</td>\n",
       "      <td>6</td>\n",
       "      <td>1000</td>\n",
       "      <td>0.0</td>\n",
       "      <td>1943</td>\n",
       "      <td>0.0</td>\n",
       "      <td>98178</td>\n",
       "      <td>47.4897</td>\n",
       "      <td>-122.24</td>\n",
       "      <td>1020</td>\n",
       "      <td>7138</td>\n",
       "    </tr>\n",
       "    <tr>\n",
       "      <th>346</th>\n",
       "      <td>3969300030</td>\n",
       "      <td>2014-12-29</td>\n",
       "      <td>239900.0</td>\n",
       "      <td>4</td>\n",
       "      <td>1.0</td>\n",
       "      <td>1000</td>\n",
       "      <td>7134</td>\n",
       "      <td>1.0</td>\n",
       "      <td>0.0</td>\n",
       "      <td>0.0</td>\n",
       "      <td>3</td>\n",
       "      <td>6</td>\n",
       "      <td>1000</td>\n",
       "      <td>0.0</td>\n",
       "      <td>1943</td>\n",
       "      <td>0.0</td>\n",
       "      <td>98178</td>\n",
       "      <td>47.4897</td>\n",
       "      <td>-122.24</td>\n",
       "      <td>1020</td>\n",
       "      <td>7138</td>\n",
       "    </tr>\n",
       "  </tbody>\n",
       "</table>\n",
       "</div>"
      ],
      "text/plain": [
       "             id       date     price  bedrooms  bathrooms  sqft_living  \\\n",
       "345  3969300030 2014-07-23  165000.0         4        1.0         1000   \n",
       "346  3969300030 2014-12-29  239900.0         4        1.0         1000   \n",
       "\n",
       "     sqft_lot  floors  waterfront  view  condition  grade  sqft_above  \\\n",
       "345      7134     1.0         0.0   0.0          3      6        1000   \n",
       "346      7134     1.0         0.0   0.0          3      6        1000   \n",
       "\n",
       "     sqft_basement  yr_built  yr_renovated  zipcode      lat    long  \\\n",
       "345            0.0      1943           0.0    98178  47.4897 -122.24   \n",
       "346            0.0      1943           0.0    98178  47.4897 -122.24   \n",
       "\n",
       "     sqft_living15  sqft_lot15  \n",
       "345           1020        7138  \n",
       "346           1020        7138  "
      ]
     },
     "execution_count": 23,
     "metadata": {},
     "output_type": "execute_result"
    }
   ],
   "source": [
    "df.loc[df['id'] == 3969300030]"
   ]
  },
  {
   "cell_type": "markdown",
   "metadata": {},
   "source": [
    "It looks like the rows that have identical id numbers were sold a few months apart. I'm going to drop the older data. (AKA the first entries)"
   ]
  },
  {
   "cell_type": "code",
   "execution_count": 24,
   "metadata": {
    "ExecuteTime": {
     "end_time": "2021-01-05T22:39:13.422436Z",
     "start_time": "2021-01-05T22:39:13.415835Z"
    }
   },
   "outputs": [],
   "source": [
    "df.drop_duplicates(subset= 'id', keep= 'last', inplace= True)"
   ]
  },
  {
   "cell_type": "code",
   "execution_count": 25,
   "metadata": {
    "ExecuteTime": {
     "end_time": "2021-01-05T22:39:13.428592Z",
     "start_time": "2021-01-05T22:39:13.424082Z"
    }
   },
   "outputs": [
    {
     "data": {
      "text/plain": [
       "0"
      ]
     },
     "execution_count": 25,
     "metadata": {},
     "output_type": "execute_result"
    }
   ],
   "source": [
    "df.id.duplicated().sum()"
   ]
  },
  {
   "cell_type": "code",
   "execution_count": 26,
   "metadata": {
    "ExecuteTime": {
     "end_time": "2021-01-05T22:39:13.434299Z",
     "start_time": "2021-01-05T22:39:13.431223Z"
    }
   },
   "outputs": [],
   "source": [
    "df.reset_index(inplace= True, drop= True)"
   ]
  },
  {
   "cell_type": "markdown",
   "metadata": {},
   "source": [
    "Nice and clean!\n",
    "\n",
    "Now, let's take a a closer look."
   ]
  },
  {
   "cell_type": "code",
   "execution_count": 27,
   "metadata": {
    "ExecuteTime": {
     "end_time": "2021-01-05T22:39:13.500662Z",
     "start_time": "2021-01-05T22:39:13.436191Z"
    },
    "scrolled": true
   },
   "outputs": [
    {
     "data": {
      "text/html": [
       "<div>\n",
       "<style scoped>\n",
       "    .dataframe tbody tr th:only-of-type {\n",
       "        vertical-align: middle;\n",
       "    }\n",
       "\n",
       "    .dataframe tbody tr th {\n",
       "        vertical-align: top;\n",
       "    }\n",
       "\n",
       "    .dataframe thead th {\n",
       "        text-align: right;\n",
       "    }\n",
       "</style>\n",
       "<table border=\"1\" class=\"dataframe\">\n",
       "  <thead>\n",
       "    <tr style=\"text-align: right;\">\n",
       "      <th></th>\n",
       "      <th>id</th>\n",
       "      <th>price</th>\n",
       "      <th>bedrooms</th>\n",
       "      <th>bathrooms</th>\n",
       "      <th>sqft_living</th>\n",
       "      <th>sqft_lot</th>\n",
       "      <th>floors</th>\n",
       "      <th>waterfront</th>\n",
       "      <th>view</th>\n",
       "      <th>condition</th>\n",
       "      <th>grade</th>\n",
       "      <th>sqft_above</th>\n",
       "      <th>sqft_basement</th>\n",
       "      <th>yr_built</th>\n",
       "      <th>yr_renovated</th>\n",
       "      <th>zipcode</th>\n",
       "      <th>lat</th>\n",
       "      <th>long</th>\n",
       "      <th>sqft_living15</th>\n",
       "      <th>sqft_lot15</th>\n",
       "    </tr>\n",
       "  </thead>\n",
       "  <tbody>\n",
       "    <tr>\n",
       "      <th>count</th>\n",
       "      <td>2.142000e+04</td>\n",
       "      <td>2.142000e+04</td>\n",
       "      <td>21420.000000</td>\n",
       "      <td>21420.000000</td>\n",
       "      <td>21420.000000</td>\n",
       "      <td>2.142000e+04</td>\n",
       "      <td>21420.000000</td>\n",
       "      <td>21420.000000</td>\n",
       "      <td>21420.000000</td>\n",
       "      <td>21420.000000</td>\n",
       "      <td>21420.000000</td>\n",
       "      <td>21420.000000</td>\n",
       "      <td>21420.000000</td>\n",
       "      <td>21420.000000</td>\n",
       "      <td>21420.000000</td>\n",
       "      <td>21420.00000</td>\n",
       "      <td>21420.000000</td>\n",
       "      <td>21420.000000</td>\n",
       "      <td>21420.000000</td>\n",
       "      <td>21420.000000</td>\n",
       "    </tr>\n",
       "    <tr>\n",
       "      <th>mean</th>\n",
       "      <td>4.580940e+09</td>\n",
       "      <td>5.418614e+05</td>\n",
       "      <td>3.373950</td>\n",
       "      <td>2.118429</td>\n",
       "      <td>2083.132633</td>\n",
       "      <td>1.512804e+04</td>\n",
       "      <td>1.495985</td>\n",
       "      <td>0.006816</td>\n",
       "      <td>0.233987</td>\n",
       "      <td>3.410784</td>\n",
       "      <td>7.662792</td>\n",
       "      <td>1791.170215</td>\n",
       "      <td>285.937021</td>\n",
       "      <td>1971.092997</td>\n",
       "      <td>68.956723</td>\n",
       "      <td>98077.87437</td>\n",
       "      <td>47.560197</td>\n",
       "      <td>-122.213784</td>\n",
       "      <td>1988.384080</td>\n",
       "      <td>12775.718161</td>\n",
       "    </tr>\n",
       "    <tr>\n",
       "      <th>std</th>\n",
       "      <td>2.876761e+09</td>\n",
       "      <td>3.675569e+05</td>\n",
       "      <td>0.925405</td>\n",
       "      <td>0.768720</td>\n",
       "      <td>918.808412</td>\n",
       "      <td>4.153080e+04</td>\n",
       "      <td>0.540081</td>\n",
       "      <td>0.082280</td>\n",
       "      <td>0.765437</td>\n",
       "      <td>0.650035</td>\n",
       "      <td>1.171971</td>\n",
       "      <td>828.692965</td>\n",
       "      <td>440.012962</td>\n",
       "      <td>29.387141</td>\n",
       "      <td>364.552298</td>\n",
       "      <td>53.47748</td>\n",
       "      <td>0.138589</td>\n",
       "      <td>0.140791</td>\n",
       "      <td>685.537057</td>\n",
       "      <td>27345.621867</td>\n",
       "    </tr>\n",
       "    <tr>\n",
       "      <th>min</th>\n",
       "      <td>1.000102e+06</td>\n",
       "      <td>7.800000e+04</td>\n",
       "      <td>1.000000</td>\n",
       "      <td>0.500000</td>\n",
       "      <td>370.000000</td>\n",
       "      <td>5.200000e+02</td>\n",
       "      <td>1.000000</td>\n",
       "      <td>0.000000</td>\n",
       "      <td>0.000000</td>\n",
       "      <td>1.000000</td>\n",
       "      <td>3.000000</td>\n",
       "      <td>370.000000</td>\n",
       "      <td>0.000000</td>\n",
       "      <td>1900.000000</td>\n",
       "      <td>0.000000</td>\n",
       "      <td>98001.00000</td>\n",
       "      <td>47.155900</td>\n",
       "      <td>-122.519000</td>\n",
       "      <td>399.000000</td>\n",
       "      <td>651.000000</td>\n",
       "    </tr>\n",
       "    <tr>\n",
       "      <th>25%</th>\n",
       "      <td>2.123537e+09</td>\n",
       "      <td>3.249500e+05</td>\n",
       "      <td>3.000000</td>\n",
       "      <td>1.750000</td>\n",
       "      <td>1430.000000</td>\n",
       "      <td>5.040000e+03</td>\n",
       "      <td>1.000000</td>\n",
       "      <td>0.000000</td>\n",
       "      <td>0.000000</td>\n",
       "      <td>3.000000</td>\n",
       "      <td>7.000000</td>\n",
       "      <td>1200.000000</td>\n",
       "      <td>0.000000</td>\n",
       "      <td>1952.000000</td>\n",
       "      <td>0.000000</td>\n",
       "      <td>98033.00000</td>\n",
       "      <td>47.471200</td>\n",
       "      <td>-122.328000</td>\n",
       "      <td>1490.000000</td>\n",
       "      <td>5100.000000</td>\n",
       "    </tr>\n",
       "    <tr>\n",
       "      <th>50%</th>\n",
       "      <td>3.904921e+09</td>\n",
       "      <td>4.505500e+05</td>\n",
       "      <td>3.000000</td>\n",
       "      <td>2.250000</td>\n",
       "      <td>1920.000000</td>\n",
       "      <td>7.614000e+03</td>\n",
       "      <td>1.500000</td>\n",
       "      <td>0.000000</td>\n",
       "      <td>0.000000</td>\n",
       "      <td>3.000000</td>\n",
       "      <td>7.000000</td>\n",
       "      <td>1560.000000</td>\n",
       "      <td>0.000000</td>\n",
       "      <td>1975.000000</td>\n",
       "      <td>0.000000</td>\n",
       "      <td>98065.00000</td>\n",
       "      <td>47.572100</td>\n",
       "      <td>-122.230000</td>\n",
       "      <td>1840.000000</td>\n",
       "      <td>7620.000000</td>\n",
       "    </tr>\n",
       "    <tr>\n",
       "      <th>75%</th>\n",
       "      <td>7.308900e+09</td>\n",
       "      <td>6.450000e+05</td>\n",
       "      <td>4.000000</td>\n",
       "      <td>2.500000</td>\n",
       "      <td>2550.000000</td>\n",
       "      <td>1.069050e+04</td>\n",
       "      <td>2.000000</td>\n",
       "      <td>0.000000</td>\n",
       "      <td>0.000000</td>\n",
       "      <td>4.000000</td>\n",
       "      <td>8.000000</td>\n",
       "      <td>2220.000000</td>\n",
       "      <td>550.000000</td>\n",
       "      <td>1997.000000</td>\n",
       "      <td>0.000000</td>\n",
       "      <td>98117.00000</td>\n",
       "      <td>47.678100</td>\n",
       "      <td>-122.125000</td>\n",
       "      <td>2370.000000</td>\n",
       "      <td>10086.250000</td>\n",
       "    </tr>\n",
       "    <tr>\n",
       "      <th>max</th>\n",
       "      <td>9.900000e+09</td>\n",
       "      <td>7.700000e+06</td>\n",
       "      <td>33.000000</td>\n",
       "      <td>8.000000</td>\n",
       "      <td>13540.000000</td>\n",
       "      <td>1.651359e+06</td>\n",
       "      <td>3.500000</td>\n",
       "      <td>1.000000</td>\n",
       "      <td>4.000000</td>\n",
       "      <td>5.000000</td>\n",
       "      <td>13.000000</td>\n",
       "      <td>9410.000000</td>\n",
       "      <td>4820.000000</td>\n",
       "      <td>2015.000000</td>\n",
       "      <td>2015.000000</td>\n",
       "      <td>98199.00000</td>\n",
       "      <td>47.777600</td>\n",
       "      <td>-121.315000</td>\n",
       "      <td>6210.000000</td>\n",
       "      <td>871200.000000</td>\n",
       "    </tr>\n",
       "  </tbody>\n",
       "</table>\n",
       "</div>"
      ],
      "text/plain": [
       "                 id         price      bedrooms     bathrooms   sqft_living  \\\n",
       "count  2.142000e+04  2.142000e+04  21420.000000  21420.000000  21420.000000   \n",
       "mean   4.580940e+09  5.418614e+05      3.373950      2.118429   2083.132633   \n",
       "std    2.876761e+09  3.675569e+05      0.925405      0.768720    918.808412   \n",
       "min    1.000102e+06  7.800000e+04      1.000000      0.500000    370.000000   \n",
       "25%    2.123537e+09  3.249500e+05      3.000000      1.750000   1430.000000   \n",
       "50%    3.904921e+09  4.505500e+05      3.000000      2.250000   1920.000000   \n",
       "75%    7.308900e+09  6.450000e+05      4.000000      2.500000   2550.000000   \n",
       "max    9.900000e+09  7.700000e+06     33.000000      8.000000  13540.000000   \n",
       "\n",
       "           sqft_lot        floors    waterfront          view     condition  \\\n",
       "count  2.142000e+04  21420.000000  21420.000000  21420.000000  21420.000000   \n",
       "mean   1.512804e+04      1.495985      0.006816      0.233987      3.410784   \n",
       "std    4.153080e+04      0.540081      0.082280      0.765437      0.650035   \n",
       "min    5.200000e+02      1.000000      0.000000      0.000000      1.000000   \n",
       "25%    5.040000e+03      1.000000      0.000000      0.000000      3.000000   \n",
       "50%    7.614000e+03      1.500000      0.000000      0.000000      3.000000   \n",
       "75%    1.069050e+04      2.000000      0.000000      0.000000      4.000000   \n",
       "max    1.651359e+06      3.500000      1.000000      4.000000      5.000000   \n",
       "\n",
       "              grade    sqft_above  sqft_basement      yr_built  yr_renovated  \\\n",
       "count  21420.000000  21420.000000   21420.000000  21420.000000  21420.000000   \n",
       "mean       7.662792   1791.170215     285.937021   1971.092997     68.956723   \n",
       "std        1.171971    828.692965     440.012962     29.387141    364.552298   \n",
       "min        3.000000    370.000000       0.000000   1900.000000      0.000000   \n",
       "25%        7.000000   1200.000000       0.000000   1952.000000      0.000000   \n",
       "50%        7.000000   1560.000000       0.000000   1975.000000      0.000000   \n",
       "75%        8.000000   2220.000000     550.000000   1997.000000      0.000000   \n",
       "max       13.000000   9410.000000    4820.000000   2015.000000   2015.000000   \n",
       "\n",
       "           zipcode           lat          long  sqft_living15     sqft_lot15  \n",
       "count  21420.00000  21420.000000  21420.000000   21420.000000   21420.000000  \n",
       "mean   98077.87437     47.560197   -122.213784    1988.384080   12775.718161  \n",
       "std       53.47748      0.138589      0.140791     685.537057   27345.621867  \n",
       "min    98001.00000     47.155900   -122.519000     399.000000     651.000000  \n",
       "25%    98033.00000     47.471200   -122.328000    1490.000000    5100.000000  \n",
       "50%    98065.00000     47.572100   -122.230000    1840.000000    7620.000000  \n",
       "75%    98117.00000     47.678100   -122.125000    2370.000000   10086.250000  \n",
       "max    98199.00000     47.777600   -121.315000    6210.000000  871200.000000  "
      ]
     },
     "execution_count": 27,
     "metadata": {},
     "output_type": "execute_result"
    }
   ],
   "source": [
    "df.describe()"
   ]
  },
  {
   "cell_type": "markdown",
   "metadata": {},
   "source": [
    "That house with 33 bedrooms is odd. Let's take a closer look at it."
   ]
  },
  {
   "cell_type": "code",
   "execution_count": 28,
   "metadata": {
    "ExecuteTime": {
     "end_time": "2021-01-05T22:39:13.508814Z",
     "start_time": "2021-01-05T22:39:13.503342Z"
    }
   },
   "outputs": [
    {
     "data": {
      "text/plain": [
       "3     9731\n",
       "4     6849\n",
       "2     2736\n",
       "5     1586\n",
       "6      265\n",
       "1      191\n",
       "7       38\n",
       "8       13\n",
       "9        6\n",
       "10       3\n",
       "11       1\n",
       "33       1\n",
       "Name: bedrooms, dtype: int64"
      ]
     },
     "execution_count": 28,
     "metadata": {},
     "output_type": "execute_result"
    }
   ],
   "source": [
    "df.bedrooms.value_counts()"
   ]
  },
  {
   "cell_type": "code",
   "execution_count": 29,
   "metadata": {
    "ExecuteTime": {
     "end_time": "2021-01-05T22:39:13.528846Z",
     "start_time": "2021-01-05T22:39:13.511265Z"
    }
   },
   "outputs": [
    {
     "data": {
      "text/html": [
       "<div>\n",
       "<style scoped>\n",
       "    .dataframe tbody tr th:only-of-type {\n",
       "        vertical-align: middle;\n",
       "    }\n",
       "\n",
       "    .dataframe tbody tr th {\n",
       "        vertical-align: top;\n",
       "    }\n",
       "\n",
       "    .dataframe thead th {\n",
       "        text-align: right;\n",
       "    }\n",
       "</style>\n",
       "<table border=\"1\" class=\"dataframe\">\n",
       "  <thead>\n",
       "    <tr style=\"text-align: right;\">\n",
       "      <th></th>\n",
       "      <th>id</th>\n",
       "      <th>date</th>\n",
       "      <th>price</th>\n",
       "      <th>bedrooms</th>\n",
       "      <th>bathrooms</th>\n",
       "      <th>sqft_living</th>\n",
       "      <th>sqft_lot</th>\n",
       "      <th>floors</th>\n",
       "      <th>waterfront</th>\n",
       "      <th>view</th>\n",
       "      <th>condition</th>\n",
       "      <th>grade</th>\n",
       "      <th>sqft_above</th>\n",
       "      <th>sqft_basement</th>\n",
       "      <th>yr_built</th>\n",
       "      <th>yr_renovated</th>\n",
       "      <th>zipcode</th>\n",
       "      <th>lat</th>\n",
       "      <th>long</th>\n",
       "      <th>sqft_living15</th>\n",
       "      <th>sqft_lot15</th>\n",
       "    </tr>\n",
       "  </thead>\n",
       "  <tbody>\n",
       "    <tr>\n",
       "      <th>8679</th>\n",
       "      <td>1773100755</td>\n",
       "      <td>2014-08-21</td>\n",
       "      <td>520000.0</td>\n",
       "      <td>11</td>\n",
       "      <td>3.00</td>\n",
       "      <td>3000</td>\n",
       "      <td>4960</td>\n",
       "      <td>2.0</td>\n",
       "      <td>0.0</td>\n",
       "      <td>0.0</td>\n",
       "      <td>3</td>\n",
       "      <td>7</td>\n",
       "      <td>2400</td>\n",
       "      <td>600.0</td>\n",
       "      <td>1918</td>\n",
       "      <td>1999.0</td>\n",
       "      <td>98106</td>\n",
       "      <td>47.5560</td>\n",
       "      <td>-122.363</td>\n",
       "      <td>1420</td>\n",
       "      <td>4960</td>\n",
       "    </tr>\n",
       "    <tr>\n",
       "      <th>13182</th>\n",
       "      <td>627300145</td>\n",
       "      <td>2014-08-14</td>\n",
       "      <td>1150000.0</td>\n",
       "      <td>10</td>\n",
       "      <td>5.25</td>\n",
       "      <td>4590</td>\n",
       "      <td>10920</td>\n",
       "      <td>1.0</td>\n",
       "      <td>0.0</td>\n",
       "      <td>2.0</td>\n",
       "      <td>3</td>\n",
       "      <td>9</td>\n",
       "      <td>2500</td>\n",
       "      <td>2090.0</td>\n",
       "      <td>2008</td>\n",
       "      <td>0.0</td>\n",
       "      <td>98004</td>\n",
       "      <td>47.5861</td>\n",
       "      <td>-122.113</td>\n",
       "      <td>2730</td>\n",
       "      <td>10400</td>\n",
       "    </tr>\n",
       "    <tr>\n",
       "      <th>15011</th>\n",
       "      <td>5566100170</td>\n",
       "      <td>2014-10-29</td>\n",
       "      <td>650000.0</td>\n",
       "      <td>10</td>\n",
       "      <td>2.00</td>\n",
       "      <td>3610</td>\n",
       "      <td>11914</td>\n",
       "      <td>2.0</td>\n",
       "      <td>0.0</td>\n",
       "      <td>0.0</td>\n",
       "      <td>4</td>\n",
       "      <td>7</td>\n",
       "      <td>3010</td>\n",
       "      <td>600.0</td>\n",
       "      <td>1958</td>\n",
       "      <td>0.0</td>\n",
       "      <td>98006</td>\n",
       "      <td>47.5705</td>\n",
       "      <td>-122.175</td>\n",
       "      <td>2040</td>\n",
       "      <td>11914</td>\n",
       "    </tr>\n",
       "    <tr>\n",
       "      <th>15710</th>\n",
       "      <td>2402100895</td>\n",
       "      <td>2014-06-25</td>\n",
       "      <td>640000.0</td>\n",
       "      <td>33</td>\n",
       "      <td>1.75</td>\n",
       "      <td>1620</td>\n",
       "      <td>6000</td>\n",
       "      <td>1.0</td>\n",
       "      <td>0.0</td>\n",
       "      <td>0.0</td>\n",
       "      <td>5</td>\n",
       "      <td>7</td>\n",
       "      <td>1040</td>\n",
       "      <td>580.0</td>\n",
       "      <td>1947</td>\n",
       "      <td>0.0</td>\n",
       "      <td>98103</td>\n",
       "      <td>47.6878</td>\n",
       "      <td>-122.331</td>\n",
       "      <td>1330</td>\n",
       "      <td>4700</td>\n",
       "    </tr>\n",
       "    <tr>\n",
       "      <th>19070</th>\n",
       "      <td>8812401450</td>\n",
       "      <td>2014-12-29</td>\n",
       "      <td>660000.0</td>\n",
       "      <td>10</td>\n",
       "      <td>3.00</td>\n",
       "      <td>2920</td>\n",
       "      <td>3745</td>\n",
       "      <td>2.0</td>\n",
       "      <td>0.0</td>\n",
       "      <td>0.0</td>\n",
       "      <td>4</td>\n",
       "      <td>7</td>\n",
       "      <td>1860</td>\n",
       "      <td>1060.0</td>\n",
       "      <td>1913</td>\n",
       "      <td>0.0</td>\n",
       "      <td>98105</td>\n",
       "      <td>47.6635</td>\n",
       "      <td>-122.320</td>\n",
       "      <td>1810</td>\n",
       "      <td>3745</td>\n",
       "    </tr>\n",
       "  </tbody>\n",
       "</table>\n",
       "</div>"
      ],
      "text/plain": [
       "               id       date      price  bedrooms  bathrooms  sqft_living  \\\n",
       "8679   1773100755 2014-08-21   520000.0        11       3.00         3000   \n",
       "13182   627300145 2014-08-14  1150000.0        10       5.25         4590   \n",
       "15011  5566100170 2014-10-29   650000.0        10       2.00         3610   \n",
       "15710  2402100895 2014-06-25   640000.0        33       1.75         1620   \n",
       "19070  8812401450 2014-12-29   660000.0        10       3.00         2920   \n",
       "\n",
       "       sqft_lot  floors  waterfront  view  condition  grade  sqft_above  \\\n",
       "8679       4960     2.0         0.0   0.0          3      7        2400   \n",
       "13182     10920     1.0         0.0   2.0          3      9        2500   \n",
       "15011     11914     2.0         0.0   0.0          4      7        3010   \n",
       "15710      6000     1.0         0.0   0.0          5      7        1040   \n",
       "19070      3745     2.0         0.0   0.0          4      7        1860   \n",
       "\n",
       "       sqft_basement  yr_built  yr_renovated  zipcode      lat     long  \\\n",
       "8679           600.0      1918        1999.0    98106  47.5560 -122.363   \n",
       "13182         2090.0      2008           0.0    98004  47.5861 -122.113   \n",
       "15011          600.0      1958           0.0    98006  47.5705 -122.175   \n",
       "15710          580.0      1947           0.0    98103  47.6878 -122.331   \n",
       "19070         1060.0      1913           0.0    98105  47.6635 -122.320   \n",
       "\n",
       "       sqft_living15  sqft_lot15  \n",
       "8679            1420        4960  \n",
       "13182           2730       10400  \n",
       "15011           2040       11914  \n",
       "15710           1330        4700  \n",
       "19070           1810        3745  "
      ]
     },
     "execution_count": 29,
     "metadata": {},
     "output_type": "execute_result"
    }
   ],
   "source": [
    "# Let's look at any house that had 10+ bedrooms and see how the \n",
    "# house with 33 bedrooms compares\n",
    "df[df['bedrooms'] >= 10]"
   ]
  },
  {
   "cell_type": "markdown",
   "metadata": {},
   "source": [
    "Some ways it doesn't differ too much from the other houses:\n",
    "* best condition\n",
    "* similar grade\n",
    "* median in terms of lot size\n",
    "* fairly similar number of bathrooms\n",
    "\n",
    "But, in some ways, it is concerning:\n",
    "* lowest amount of square footage\n",
    "* only 1 story / floor\n",
    "* only 1.75 bathrooms for 33 rooms?\n",
    "* But, mainly, 33 rooms?!? \n",
    "\n",
    "It's too suspicious. Let's just remove it."
   ]
  },
  {
   "cell_type": "code",
   "execution_count": 30,
   "metadata": {
    "ExecuteTime": {
     "end_time": "2021-01-05T22:39:13.537932Z",
     "start_time": "2021-01-05T22:39:13.531047Z"
    }
   },
   "outputs": [],
   "source": [
    "df.drop(index=15710, inplace= True)"
   ]
  },
  {
   "cell_type": "code",
   "execution_count": 31,
   "metadata": {
    "ExecuteTime": {
     "end_time": "2021-01-05T22:39:13.557315Z",
     "start_time": "2021-01-05T22:39:13.540072Z"
    }
   },
   "outputs": [
    {
     "data": {
      "text/html": [
       "<div>\n",
       "<style scoped>\n",
       "    .dataframe tbody tr th:only-of-type {\n",
       "        vertical-align: middle;\n",
       "    }\n",
       "\n",
       "    .dataframe tbody tr th {\n",
       "        vertical-align: top;\n",
       "    }\n",
       "\n",
       "    .dataframe thead th {\n",
       "        text-align: right;\n",
       "    }\n",
       "</style>\n",
       "<table border=\"1\" class=\"dataframe\">\n",
       "  <thead>\n",
       "    <tr style=\"text-align: right;\">\n",
       "      <th></th>\n",
       "      <th>id</th>\n",
       "      <th>date</th>\n",
       "      <th>price</th>\n",
       "      <th>bedrooms</th>\n",
       "      <th>bathrooms</th>\n",
       "      <th>sqft_living</th>\n",
       "      <th>sqft_lot</th>\n",
       "      <th>floors</th>\n",
       "      <th>waterfront</th>\n",
       "      <th>view</th>\n",
       "      <th>condition</th>\n",
       "      <th>grade</th>\n",
       "      <th>sqft_above</th>\n",
       "      <th>sqft_basement</th>\n",
       "      <th>yr_built</th>\n",
       "      <th>yr_renovated</th>\n",
       "      <th>zipcode</th>\n",
       "      <th>lat</th>\n",
       "      <th>long</th>\n",
       "      <th>sqft_living15</th>\n",
       "      <th>sqft_lot15</th>\n",
       "    </tr>\n",
       "  </thead>\n",
       "  <tbody>\n",
       "    <tr>\n",
       "      <th>8679</th>\n",
       "      <td>1773100755</td>\n",
       "      <td>2014-08-21</td>\n",
       "      <td>520000.0</td>\n",
       "      <td>11</td>\n",
       "      <td>3.00</td>\n",
       "      <td>3000</td>\n",
       "      <td>4960</td>\n",
       "      <td>2.0</td>\n",
       "      <td>0.0</td>\n",
       "      <td>0.0</td>\n",
       "      <td>3</td>\n",
       "      <td>7</td>\n",
       "      <td>2400</td>\n",
       "      <td>600.0</td>\n",
       "      <td>1918</td>\n",
       "      <td>1999.0</td>\n",
       "      <td>98106</td>\n",
       "      <td>47.5560</td>\n",
       "      <td>-122.363</td>\n",
       "      <td>1420</td>\n",
       "      <td>4960</td>\n",
       "    </tr>\n",
       "    <tr>\n",
       "      <th>13182</th>\n",
       "      <td>627300145</td>\n",
       "      <td>2014-08-14</td>\n",
       "      <td>1150000.0</td>\n",
       "      <td>10</td>\n",
       "      <td>5.25</td>\n",
       "      <td>4590</td>\n",
       "      <td>10920</td>\n",
       "      <td>1.0</td>\n",
       "      <td>0.0</td>\n",
       "      <td>2.0</td>\n",
       "      <td>3</td>\n",
       "      <td>9</td>\n",
       "      <td>2500</td>\n",
       "      <td>2090.0</td>\n",
       "      <td>2008</td>\n",
       "      <td>0.0</td>\n",
       "      <td>98004</td>\n",
       "      <td>47.5861</td>\n",
       "      <td>-122.113</td>\n",
       "      <td>2730</td>\n",
       "      <td>10400</td>\n",
       "    </tr>\n",
       "    <tr>\n",
       "      <th>15011</th>\n",
       "      <td>5566100170</td>\n",
       "      <td>2014-10-29</td>\n",
       "      <td>650000.0</td>\n",
       "      <td>10</td>\n",
       "      <td>2.00</td>\n",
       "      <td>3610</td>\n",
       "      <td>11914</td>\n",
       "      <td>2.0</td>\n",
       "      <td>0.0</td>\n",
       "      <td>0.0</td>\n",
       "      <td>4</td>\n",
       "      <td>7</td>\n",
       "      <td>3010</td>\n",
       "      <td>600.0</td>\n",
       "      <td>1958</td>\n",
       "      <td>0.0</td>\n",
       "      <td>98006</td>\n",
       "      <td>47.5705</td>\n",
       "      <td>-122.175</td>\n",
       "      <td>2040</td>\n",
       "      <td>11914</td>\n",
       "    </tr>\n",
       "    <tr>\n",
       "      <th>19070</th>\n",
       "      <td>8812401450</td>\n",
       "      <td>2014-12-29</td>\n",
       "      <td>660000.0</td>\n",
       "      <td>10</td>\n",
       "      <td>3.00</td>\n",
       "      <td>2920</td>\n",
       "      <td>3745</td>\n",
       "      <td>2.0</td>\n",
       "      <td>0.0</td>\n",
       "      <td>0.0</td>\n",
       "      <td>4</td>\n",
       "      <td>7</td>\n",
       "      <td>1860</td>\n",
       "      <td>1060.0</td>\n",
       "      <td>1913</td>\n",
       "      <td>0.0</td>\n",
       "      <td>98105</td>\n",
       "      <td>47.6635</td>\n",
       "      <td>-122.320</td>\n",
       "      <td>1810</td>\n",
       "      <td>3745</td>\n",
       "    </tr>\n",
       "  </tbody>\n",
       "</table>\n",
       "</div>"
      ],
      "text/plain": [
       "               id       date      price  bedrooms  bathrooms  sqft_living  \\\n",
       "8679   1773100755 2014-08-21   520000.0        11       3.00         3000   \n",
       "13182   627300145 2014-08-14  1150000.0        10       5.25         4590   \n",
       "15011  5566100170 2014-10-29   650000.0        10       2.00         3610   \n",
       "19070  8812401450 2014-12-29   660000.0        10       3.00         2920   \n",
       "\n",
       "       sqft_lot  floors  waterfront  view  condition  grade  sqft_above  \\\n",
       "8679       4960     2.0         0.0   0.0          3      7        2400   \n",
       "13182     10920     1.0         0.0   2.0          3      9        2500   \n",
       "15011     11914     2.0         0.0   0.0          4      7        3010   \n",
       "19070      3745     2.0         0.0   0.0          4      7        1860   \n",
       "\n",
       "       sqft_basement  yr_built  yr_renovated  zipcode      lat     long  \\\n",
       "8679           600.0      1918        1999.0    98106  47.5560 -122.363   \n",
       "13182         2090.0      2008           0.0    98004  47.5861 -122.113   \n",
       "15011          600.0      1958           0.0    98006  47.5705 -122.175   \n",
       "19070         1060.0      1913           0.0    98105  47.6635 -122.320   \n",
       "\n",
       "       sqft_living15  sqft_lot15  \n",
       "8679            1420        4960  \n",
       "13182           2730       10400  \n",
       "15011           2040       11914  \n",
       "19070           1810        3745  "
      ]
     },
     "execution_count": 31,
     "metadata": {},
     "output_type": "execute_result"
    }
   ],
   "source": [
    "df[df['bedrooms'] >= 10]"
   ]
  },
  {
   "cell_type": "code",
   "execution_count": 32,
   "metadata": {
    "ExecuteTime": {
     "end_time": "2021-01-05T22:39:13.599627Z",
     "start_time": "2021-01-05T22:39:13.558888Z"
    }
   },
   "outputs": [
    {
     "data": {
      "text/html": [
       "<div>\n",
       "<style scoped>\n",
       "    .dataframe tbody tr th:only-of-type {\n",
       "        vertical-align: middle;\n",
       "    }\n",
       "\n",
       "    .dataframe tbody tr th {\n",
       "        vertical-align: top;\n",
       "    }\n",
       "\n",
       "    .dataframe thead th {\n",
       "        text-align: right;\n",
       "    }\n",
       "</style>\n",
       "<table border=\"1\" class=\"dataframe\">\n",
       "  <thead>\n",
       "    <tr style=\"text-align: right;\">\n",
       "      <th></th>\n",
       "      <th>id</th>\n",
       "      <th>price</th>\n",
       "      <th>bedrooms</th>\n",
       "      <th>bathrooms</th>\n",
       "      <th>sqft_living</th>\n",
       "      <th>sqft_lot</th>\n",
       "      <th>floors</th>\n",
       "      <th>waterfront</th>\n",
       "      <th>view</th>\n",
       "      <th>condition</th>\n",
       "      <th>grade</th>\n",
       "      <th>sqft_above</th>\n",
       "      <th>sqft_basement</th>\n",
       "      <th>yr_built</th>\n",
       "      <th>yr_renovated</th>\n",
       "      <th>zipcode</th>\n",
       "      <th>lat</th>\n",
       "      <th>long</th>\n",
       "      <th>sqft_living15</th>\n",
       "      <th>sqft_lot15</th>\n",
       "    </tr>\n",
       "  </thead>\n",
       "  <tbody>\n",
       "    <tr>\n",
       "      <th>id</th>\n",
       "      <td>1.000000</td>\n",
       "      <td>-0.018440</td>\n",
       "      <td>0.001868</td>\n",
       "      <td>0.004326</td>\n",
       "      <td>-0.013469</td>\n",
       "      <td>-0.132657</td>\n",
       "      <td>0.018108</td>\n",
       "      <td>-0.003631</td>\n",
       "      <td>0.011098</td>\n",
       "      <td>-0.024217</td>\n",
       "      <td>0.006450</td>\n",
       "      <td>-0.011827</td>\n",
       "      <td>-0.004840</td>\n",
       "      <td>0.021143</td>\n",
       "      <td>-0.010864</td>\n",
       "      <td>-0.007918</td>\n",
       "      <td>-0.002733</td>\n",
       "      <td>0.019307</td>\n",
       "      <td>-0.003917</td>\n",
       "      <td>-0.139442</td>\n",
       "    </tr>\n",
       "    <tr>\n",
       "      <th>price</th>\n",
       "      <td>-0.018440</td>\n",
       "      <td>1.000000</td>\n",
       "      <td>0.316917</td>\n",
       "      <td>0.525225</td>\n",
       "      <td>0.701306</td>\n",
       "      <td>0.088792</td>\n",
       "      <td>0.254989</td>\n",
       "      <td>0.264916</td>\n",
       "      <td>0.392793</td>\n",
       "      <td>0.034194</td>\n",
       "      <td>0.666848</td>\n",
       "      <td>0.604448</td>\n",
       "      <td>0.321260</td>\n",
       "      <td>0.051023</td>\n",
       "      <td>0.118281</td>\n",
       "      <td>-0.051175</td>\n",
       "      <td>0.306434</td>\n",
       "      <td>0.019836</td>\n",
       "      <td>0.583817</td>\n",
       "      <td>0.082049</td>\n",
       "    </tr>\n",
       "    <tr>\n",
       "      <th>bedrooms</th>\n",
       "      <td>0.001868</td>\n",
       "      <td>0.316917</td>\n",
       "      <td>1.000000</td>\n",
       "      <td>0.528912</td>\n",
       "      <td>0.594217</td>\n",
       "      <td>0.033634</td>\n",
       "      <td>0.183556</td>\n",
       "      <td>-0.002133</td>\n",
       "      <td>0.080766</td>\n",
       "      <td>0.022794</td>\n",
       "      <td>0.367743</td>\n",
       "      <td>0.493560</td>\n",
       "      <td>0.303446</td>\n",
       "      <td>0.160352</td>\n",
       "      <td>0.018193</td>\n",
       "      <td>-0.159630</td>\n",
       "      <td>-0.012957</td>\n",
       "      <td>0.137004</td>\n",
       "      <td>0.406232</td>\n",
       "      <td>0.031782</td>\n",
       "    </tr>\n",
       "    <tr>\n",
       "      <th>bathrooms</th>\n",
       "      <td>0.004326</td>\n",
       "      <td>0.525225</td>\n",
       "      <td>0.528912</td>\n",
       "      <td>1.000000</td>\n",
       "      <td>0.755519</td>\n",
       "      <td>0.087775</td>\n",
       "      <td>0.501795</td>\n",
       "      <td>0.063633</td>\n",
       "      <td>0.184944</td>\n",
       "      <td>-0.129326</td>\n",
       "      <td>0.665583</td>\n",
       "      <td>0.686325</td>\n",
       "      <td>0.278159</td>\n",
       "      <td>0.506244</td>\n",
       "      <td>0.047682</td>\n",
       "      <td>-0.203876</td>\n",
       "      <td>0.023165</td>\n",
       "      <td>0.223795</td>\n",
       "      <td>0.569446</td>\n",
       "      <td>0.087754</td>\n",
       "    </tr>\n",
       "    <tr>\n",
       "      <th>sqft_living</th>\n",
       "      <td>-0.013469</td>\n",
       "      <td>0.701306</td>\n",
       "      <td>0.594217</td>\n",
       "      <td>0.755519</td>\n",
       "      <td>1.000000</td>\n",
       "      <td>0.172582</td>\n",
       "      <td>0.352856</td>\n",
       "      <td>0.104736</td>\n",
       "      <td>0.280834</td>\n",
       "      <td>-0.061628</td>\n",
       "      <td>0.762474</td>\n",
       "      <td>0.876534</td>\n",
       "      <td>0.428020</td>\n",
       "      <td>0.316633</td>\n",
       "      <td>0.050847</td>\n",
       "      <td>-0.198986</td>\n",
       "      <td>0.050762</td>\n",
       "      <td>0.240197</td>\n",
       "      <td>0.756184</td>\n",
       "      <td>0.183832</td>\n",
       "    </tr>\n",
       "    <tr>\n",
       "      <th>sqft_lot</th>\n",
       "      <td>-0.132657</td>\n",
       "      <td>0.088792</td>\n",
       "      <td>0.033634</td>\n",
       "      <td>0.087775</td>\n",
       "      <td>0.172582</td>\n",
       "      <td>1.000000</td>\n",
       "      <td>-0.005571</td>\n",
       "      <td>0.021429</td>\n",
       "      <td>0.075357</td>\n",
       "      <td>-0.009145</td>\n",
       "      <td>0.113651</td>\n",
       "      <td>0.183204</td>\n",
       "      <td>0.014846</td>\n",
       "      <td>0.052305</td>\n",
       "      <td>0.004989</td>\n",
       "      <td>-0.129418</td>\n",
       "      <td>-0.085815</td>\n",
       "      <td>0.230261</td>\n",
       "      <td>0.143798</td>\n",
       "      <td>0.717742</td>\n",
       "    </tr>\n",
       "    <tr>\n",
       "      <th>floors</th>\n",
       "      <td>0.018108</td>\n",
       "      <td>0.254989</td>\n",
       "      <td>0.183556</td>\n",
       "      <td>0.501795</td>\n",
       "      <td>0.352856</td>\n",
       "      <td>-0.005571</td>\n",
       "      <td>1.000000</td>\n",
       "      <td>0.020575</td>\n",
       "      <td>0.027162</td>\n",
       "      <td>-0.266796</td>\n",
       "      <td>0.458079</td>\n",
       "      <td>0.522733</td>\n",
       "      <td>-0.242130</td>\n",
       "      <td>0.488917</td>\n",
       "      <td>0.003133</td>\n",
       "      <td>-0.058513</td>\n",
       "      <td>0.048941</td>\n",
       "      <td>0.124781</td>\n",
       "      <td>0.279041</td>\n",
       "      <td>-0.011380</td>\n",
       "    </tr>\n",
       "    <tr>\n",
       "      <th>waterfront</th>\n",
       "      <td>-0.003631</td>\n",
       "      <td>0.264916</td>\n",
       "      <td>-0.002133</td>\n",
       "      <td>0.063633</td>\n",
       "      <td>0.104736</td>\n",
       "      <td>0.021429</td>\n",
       "      <td>0.020575</td>\n",
       "      <td>1.000000</td>\n",
       "      <td>0.381654</td>\n",
       "      <td>0.016619</td>\n",
       "      <td>0.082903</td>\n",
       "      <td>0.071735</td>\n",
       "      <td>0.083320</td>\n",
       "      <td>-0.024846</td>\n",
       "      <td>0.074095</td>\n",
       "      <td>0.029185</td>\n",
       "      <td>-0.012263</td>\n",
       "      <td>-0.037887</td>\n",
       "      <td>0.083919</td>\n",
       "      <td>0.030652</td>\n",
       "    </tr>\n",
       "    <tr>\n",
       "      <th>view</th>\n",
       "      <td>0.011098</td>\n",
       "      <td>0.392793</td>\n",
       "      <td>0.080766</td>\n",
       "      <td>0.184944</td>\n",
       "      <td>0.280834</td>\n",
       "      <td>0.075357</td>\n",
       "      <td>0.027162</td>\n",
       "      <td>0.381654</td>\n",
       "      <td>1.000000</td>\n",
       "      <td>0.044720</td>\n",
       "      <td>0.247626</td>\n",
       "      <td>0.165280</td>\n",
       "      <td>0.270117</td>\n",
       "      <td>-0.056184</td>\n",
       "      <td>0.089979</td>\n",
       "      <td>0.087341</td>\n",
       "      <td>0.005849</td>\n",
       "      <td>-0.079032</td>\n",
       "      <td>0.277548</td>\n",
       "      <td>0.073377</td>\n",
       "    </tr>\n",
       "    <tr>\n",
       "      <th>condition</th>\n",
       "      <td>-0.024217</td>\n",
       "      <td>0.034194</td>\n",
       "      <td>0.022794</td>\n",
       "      <td>-0.129326</td>\n",
       "      <td>-0.061628</td>\n",
       "      <td>-0.009145</td>\n",
       "      <td>-0.266796</td>\n",
       "      <td>0.016619</td>\n",
       "      <td>0.044720</td>\n",
       "      <td>1.000000</td>\n",
       "      <td>-0.150465</td>\n",
       "      <td>-0.161406</td>\n",
       "      <td>0.168940</td>\n",
       "      <td>-0.365092</td>\n",
       "      <td>-0.056250</td>\n",
       "      <td>0.004319</td>\n",
       "      <td>-0.015673</td>\n",
       "      <td>-0.107076</td>\n",
       "      <td>-0.095162</td>\n",
       "      <td>-0.003417</td>\n",
       "    </tr>\n",
       "    <tr>\n",
       "      <th>grade</th>\n",
       "      <td>0.006450</td>\n",
       "      <td>0.666848</td>\n",
       "      <td>0.367743</td>\n",
       "      <td>0.665583</td>\n",
       "      <td>0.762474</td>\n",
       "      <td>0.113651</td>\n",
       "      <td>0.458079</td>\n",
       "      <td>0.082903</td>\n",
       "      <td>0.247626</td>\n",
       "      <td>-0.150465</td>\n",
       "      <td>1.000000</td>\n",
       "      <td>0.756217</td>\n",
       "      <td>0.164478</td>\n",
       "      <td>0.446224</td>\n",
       "      <td>0.015739</td>\n",
       "      <td>-0.183578</td>\n",
       "      <td>0.112842</td>\n",
       "      <td>0.198537</td>\n",
       "      <td>0.713173</td>\n",
       "      <td>0.120049</td>\n",
       "    </tr>\n",
       "    <tr>\n",
       "      <th>sqft_above</th>\n",
       "      <td>-0.011827</td>\n",
       "      <td>0.604448</td>\n",
       "      <td>0.493560</td>\n",
       "      <td>0.686325</td>\n",
       "      <td>0.876534</td>\n",
       "      <td>0.183204</td>\n",
       "      <td>0.522733</td>\n",
       "      <td>0.071735</td>\n",
       "      <td>0.165280</td>\n",
       "      <td>-0.161406</td>\n",
       "      <td>0.756217</td>\n",
       "      <td>1.000000</td>\n",
       "      <td>-0.051680</td>\n",
       "      <td>0.422957</td>\n",
       "      <td>0.020070</td>\n",
       "      <td>-0.260789</td>\n",
       "      <td>-0.002001</td>\n",
       "      <td>0.344138</td>\n",
       "      <td>0.731877</td>\n",
       "      <td>0.194436</td>\n",
       "    </tr>\n",
       "    <tr>\n",
       "      <th>sqft_basement</th>\n",
       "      <td>-0.004840</td>\n",
       "      <td>0.321260</td>\n",
       "      <td>0.303446</td>\n",
       "      <td>0.278159</td>\n",
       "      <td>0.428020</td>\n",
       "      <td>0.014846</td>\n",
       "      <td>-0.242130</td>\n",
       "      <td>0.083320</td>\n",
       "      <td>0.270117</td>\n",
       "      <td>0.168940</td>\n",
       "      <td>0.164478</td>\n",
       "      <td>-0.051680</td>\n",
       "      <td>1.000000</td>\n",
       "      <td>-0.131641</td>\n",
       "      <td>0.065631</td>\n",
       "      <td>0.073756</td>\n",
       "      <td>0.108498</td>\n",
       "      <td>-0.143437</td>\n",
       "      <td>0.198163</td>\n",
       "      <td>0.015879</td>\n",
       "    </tr>\n",
       "    <tr>\n",
       "      <th>yr_built</th>\n",
       "      <td>0.021143</td>\n",
       "      <td>0.051023</td>\n",
       "      <td>0.160352</td>\n",
       "      <td>0.506244</td>\n",
       "      <td>0.316633</td>\n",
       "      <td>0.052305</td>\n",
       "      <td>0.488917</td>\n",
       "      <td>-0.024846</td>\n",
       "      <td>-0.056184</td>\n",
       "      <td>-0.365092</td>\n",
       "      <td>0.446224</td>\n",
       "      <td>0.422957</td>\n",
       "      <td>-0.131641</td>\n",
       "      <td>1.000000</td>\n",
       "      <td>-0.203157</td>\n",
       "      <td>-0.346151</td>\n",
       "      <td>-0.148827</td>\n",
       "      <td>0.409154</td>\n",
       "      <td>0.324691</td>\n",
       "      <td>0.070115</td>\n",
       "    </tr>\n",
       "    <tr>\n",
       "      <th>yr_renovated</th>\n",
       "      <td>-0.010864</td>\n",
       "      <td>0.118281</td>\n",
       "      <td>0.018193</td>\n",
       "      <td>0.047682</td>\n",
       "      <td>0.050847</td>\n",
       "      <td>0.004989</td>\n",
       "      <td>0.003133</td>\n",
       "      <td>0.074095</td>\n",
       "      <td>0.089979</td>\n",
       "      <td>-0.056250</td>\n",
       "      <td>0.015739</td>\n",
       "      <td>0.020070</td>\n",
       "      <td>0.065631</td>\n",
       "      <td>-0.203157</td>\n",
       "      <td>1.000000</td>\n",
       "      <td>0.062295</td>\n",
       "      <td>0.027785</td>\n",
       "      <td>-0.064857</td>\n",
       "      <td>0.000804</td>\n",
       "      <td>0.004314</td>\n",
       "    </tr>\n",
       "    <tr>\n",
       "      <th>zipcode</th>\n",
       "      <td>-0.007918</td>\n",
       "      <td>-0.051175</td>\n",
       "      <td>-0.159630</td>\n",
       "      <td>-0.203876</td>\n",
       "      <td>-0.198986</td>\n",
       "      <td>-0.129418</td>\n",
       "      <td>-0.058513</td>\n",
       "      <td>0.029185</td>\n",
       "      <td>0.087341</td>\n",
       "      <td>0.004319</td>\n",
       "      <td>-0.183578</td>\n",
       "      <td>-0.260789</td>\n",
       "      <td>0.073756</td>\n",
       "      <td>-0.346151</td>\n",
       "      <td>0.062295</td>\n",
       "      <td>1.000000</td>\n",
       "      <td>0.266698</td>\n",
       "      <td>-0.564772</td>\n",
       "      <td>-0.278415</td>\n",
       "      <td>-0.147058</td>\n",
       "    </tr>\n",
       "    <tr>\n",
       "      <th>lat</th>\n",
       "      <td>-0.002733</td>\n",
       "      <td>0.306434</td>\n",
       "      <td>-0.012957</td>\n",
       "      <td>0.023165</td>\n",
       "      <td>0.050762</td>\n",
       "      <td>-0.085815</td>\n",
       "      <td>0.048941</td>\n",
       "      <td>-0.012263</td>\n",
       "      <td>0.005849</td>\n",
       "      <td>-0.015673</td>\n",
       "      <td>0.112842</td>\n",
       "      <td>-0.002001</td>\n",
       "      <td>0.108498</td>\n",
       "      <td>-0.148827</td>\n",
       "      <td>0.027785</td>\n",
       "      <td>0.266698</td>\n",
       "      <td>1.000000</td>\n",
       "      <td>-0.136197</td>\n",
       "      <td>0.047528</td>\n",
       "      <td>-0.086213</td>\n",
       "    </tr>\n",
       "    <tr>\n",
       "      <th>long</th>\n",
       "      <td>0.019307</td>\n",
       "      <td>0.019836</td>\n",
       "      <td>0.137004</td>\n",
       "      <td>0.223795</td>\n",
       "      <td>0.240197</td>\n",
       "      <td>0.230261</td>\n",
       "      <td>0.124781</td>\n",
       "      <td>-0.037887</td>\n",
       "      <td>-0.079032</td>\n",
       "      <td>-0.107076</td>\n",
       "      <td>0.198537</td>\n",
       "      <td>0.344138</td>\n",
       "      <td>-0.143437</td>\n",
       "      <td>0.409154</td>\n",
       "      <td>-0.064857</td>\n",
       "      <td>-0.564772</td>\n",
       "      <td>-0.136197</td>\n",
       "      <td>1.000000</td>\n",
       "      <td>0.334655</td>\n",
       "      <td>0.255413</td>\n",
       "    </tr>\n",
       "    <tr>\n",
       "      <th>sqft_living15</th>\n",
       "      <td>-0.003917</td>\n",
       "      <td>0.583817</td>\n",
       "      <td>0.406232</td>\n",
       "      <td>0.569446</td>\n",
       "      <td>0.756184</td>\n",
       "      <td>0.143798</td>\n",
       "      <td>0.279041</td>\n",
       "      <td>0.083919</td>\n",
       "      <td>0.277548</td>\n",
       "      <td>-0.095162</td>\n",
       "      <td>0.713173</td>\n",
       "      <td>0.731877</td>\n",
       "      <td>0.198163</td>\n",
       "      <td>0.324691</td>\n",
       "      <td>0.000804</td>\n",
       "      <td>-0.278415</td>\n",
       "      <td>0.047528</td>\n",
       "      <td>0.334655</td>\n",
       "      <td>1.000000</td>\n",
       "      <td>0.182756</td>\n",
       "    </tr>\n",
       "    <tr>\n",
       "      <th>sqft_lot15</th>\n",
       "      <td>-0.139442</td>\n",
       "      <td>0.082049</td>\n",
       "      <td>0.031782</td>\n",
       "      <td>0.087754</td>\n",
       "      <td>0.183832</td>\n",
       "      <td>0.717742</td>\n",
       "      <td>-0.011380</td>\n",
       "      <td>0.030652</td>\n",
       "      <td>0.073377</td>\n",
       "      <td>-0.003417</td>\n",
       "      <td>0.120049</td>\n",
       "      <td>0.194436</td>\n",
       "      <td>0.015879</td>\n",
       "      <td>0.070115</td>\n",
       "      <td>0.004314</td>\n",
       "      <td>-0.147058</td>\n",
       "      <td>-0.086213</td>\n",
       "      <td>0.255413</td>\n",
       "      <td>0.182756</td>\n",
       "      <td>1.000000</td>\n",
       "    </tr>\n",
       "  </tbody>\n",
       "</table>\n",
       "</div>"
      ],
      "text/plain": [
       "                     id     price  bedrooms  bathrooms  sqft_living  sqft_lot  \\\n",
       "id             1.000000 -0.018440  0.001868   0.004326    -0.013469 -0.132657   \n",
       "price         -0.018440  1.000000  0.316917   0.525225     0.701306  0.088792   \n",
       "bedrooms       0.001868  0.316917  1.000000   0.528912     0.594217  0.033634   \n",
       "bathrooms      0.004326  0.525225  0.528912   1.000000     0.755519  0.087775   \n",
       "sqft_living   -0.013469  0.701306  0.594217   0.755519     1.000000  0.172582   \n",
       "sqft_lot      -0.132657  0.088792  0.033634   0.087775     0.172582  1.000000   \n",
       "floors         0.018108  0.254989  0.183556   0.501795     0.352856 -0.005571   \n",
       "waterfront    -0.003631  0.264916 -0.002133   0.063633     0.104736  0.021429   \n",
       "view           0.011098  0.392793  0.080766   0.184944     0.280834  0.075357   \n",
       "condition     -0.024217  0.034194  0.022794  -0.129326    -0.061628 -0.009145   \n",
       "grade          0.006450  0.666848  0.367743   0.665583     0.762474  0.113651   \n",
       "sqft_above    -0.011827  0.604448  0.493560   0.686325     0.876534  0.183204   \n",
       "sqft_basement -0.004840  0.321260  0.303446   0.278159     0.428020  0.014846   \n",
       "yr_built       0.021143  0.051023  0.160352   0.506244     0.316633  0.052305   \n",
       "yr_renovated  -0.010864  0.118281  0.018193   0.047682     0.050847  0.004989   \n",
       "zipcode       -0.007918 -0.051175 -0.159630  -0.203876    -0.198986 -0.129418   \n",
       "lat           -0.002733  0.306434 -0.012957   0.023165     0.050762 -0.085815   \n",
       "long           0.019307  0.019836  0.137004   0.223795     0.240197  0.230261   \n",
       "sqft_living15 -0.003917  0.583817  0.406232   0.569446     0.756184  0.143798   \n",
       "sqft_lot15    -0.139442  0.082049  0.031782   0.087754     0.183832  0.717742   \n",
       "\n",
       "                 floors  waterfront      view  condition     grade  \\\n",
       "id             0.018108   -0.003631  0.011098  -0.024217  0.006450   \n",
       "price          0.254989    0.264916  0.392793   0.034194  0.666848   \n",
       "bedrooms       0.183556   -0.002133  0.080766   0.022794  0.367743   \n",
       "bathrooms      0.501795    0.063633  0.184944  -0.129326  0.665583   \n",
       "sqft_living    0.352856    0.104736  0.280834  -0.061628  0.762474   \n",
       "sqft_lot      -0.005571    0.021429  0.075357  -0.009145  0.113651   \n",
       "floors         1.000000    0.020575  0.027162  -0.266796  0.458079   \n",
       "waterfront     0.020575    1.000000  0.381654   0.016619  0.082903   \n",
       "view           0.027162    0.381654  1.000000   0.044720  0.247626   \n",
       "condition     -0.266796    0.016619  0.044720   1.000000 -0.150465   \n",
       "grade          0.458079    0.082903  0.247626  -0.150465  1.000000   \n",
       "sqft_above     0.522733    0.071735  0.165280  -0.161406  0.756217   \n",
       "sqft_basement -0.242130    0.083320  0.270117   0.168940  0.164478   \n",
       "yr_built       0.488917   -0.024846 -0.056184  -0.365092  0.446224   \n",
       "yr_renovated   0.003133    0.074095  0.089979  -0.056250  0.015739   \n",
       "zipcode       -0.058513    0.029185  0.087341   0.004319 -0.183578   \n",
       "lat            0.048941   -0.012263  0.005849  -0.015673  0.112842   \n",
       "long           0.124781   -0.037887 -0.079032  -0.107076  0.198537   \n",
       "sqft_living15  0.279041    0.083919  0.277548  -0.095162  0.713173   \n",
       "sqft_lot15    -0.011380    0.030652  0.073377  -0.003417  0.120049   \n",
       "\n",
       "               sqft_above  sqft_basement  yr_built  yr_renovated   zipcode  \\\n",
       "id              -0.011827      -0.004840  0.021143     -0.010864 -0.007918   \n",
       "price            0.604448       0.321260  0.051023      0.118281 -0.051175   \n",
       "bedrooms         0.493560       0.303446  0.160352      0.018193 -0.159630   \n",
       "bathrooms        0.686325       0.278159  0.506244      0.047682 -0.203876   \n",
       "sqft_living      0.876534       0.428020  0.316633      0.050847 -0.198986   \n",
       "sqft_lot         0.183204       0.014846  0.052305      0.004989 -0.129418   \n",
       "floors           0.522733      -0.242130  0.488917      0.003133 -0.058513   \n",
       "waterfront       0.071735       0.083320 -0.024846      0.074095  0.029185   \n",
       "view             0.165280       0.270117 -0.056184      0.089979  0.087341   \n",
       "condition       -0.161406       0.168940 -0.365092     -0.056250  0.004319   \n",
       "grade            0.756217       0.164478  0.446224      0.015739 -0.183578   \n",
       "sqft_above       1.000000      -0.051680  0.422957      0.020070 -0.260789   \n",
       "sqft_basement   -0.051680       1.000000 -0.131641      0.065631  0.073756   \n",
       "yr_built         0.422957      -0.131641  1.000000     -0.203157 -0.346151   \n",
       "yr_renovated     0.020070       0.065631 -0.203157      1.000000  0.062295   \n",
       "zipcode         -0.260789       0.073756 -0.346151      0.062295  1.000000   \n",
       "lat             -0.002001       0.108498 -0.148827      0.027785  0.266698   \n",
       "long             0.344138      -0.143437  0.409154     -0.064857 -0.564772   \n",
       "sqft_living15    0.731877       0.198163  0.324691      0.000804 -0.278415   \n",
       "sqft_lot15       0.194436       0.015879  0.070115      0.004314 -0.147058   \n",
       "\n",
       "                    lat      long  sqft_living15  sqft_lot15  \n",
       "id            -0.002733  0.019307      -0.003917   -0.139442  \n",
       "price          0.306434  0.019836       0.583817    0.082049  \n",
       "bedrooms      -0.012957  0.137004       0.406232    0.031782  \n",
       "bathrooms      0.023165  0.223795       0.569446    0.087754  \n",
       "sqft_living    0.050762  0.240197       0.756184    0.183832  \n",
       "sqft_lot      -0.085815  0.230261       0.143798    0.717742  \n",
       "floors         0.048941  0.124781       0.279041   -0.011380  \n",
       "waterfront    -0.012263 -0.037887       0.083919    0.030652  \n",
       "view           0.005849 -0.079032       0.277548    0.073377  \n",
       "condition     -0.015673 -0.107076      -0.095162   -0.003417  \n",
       "grade          0.112842  0.198537       0.713173    0.120049  \n",
       "sqft_above    -0.002001  0.344138       0.731877    0.194436  \n",
       "sqft_basement  0.108498 -0.143437       0.198163    0.015879  \n",
       "yr_built      -0.148827  0.409154       0.324691    0.070115  \n",
       "yr_renovated   0.027785 -0.064857       0.000804    0.004314  \n",
       "zipcode        0.266698 -0.564772      -0.278415   -0.147058  \n",
       "lat            1.000000 -0.136197       0.047528   -0.086213  \n",
       "long          -0.136197  1.000000       0.334655    0.255413  \n",
       "sqft_living15  0.047528  0.334655       1.000000    0.182756  \n",
       "sqft_lot15    -0.086213  0.255413       0.182756    1.000000  "
      ]
     },
     "execution_count": 32,
     "metadata": {},
     "output_type": "execute_result"
    }
   ],
   "source": [
    "df.corr()"
   ]
  },
  {
   "cell_type": "code",
   "execution_count": 33,
   "metadata": {
    "ExecuteTime": {
     "end_time": "2021-01-05T22:39:13.991412Z",
     "start_time": "2021-01-05T22:39:13.601724Z"
    }
   },
   "outputs": [
    {
     "data": {
      "text/plain": [
       "<AxesSubplot:>"
      ]
     },
     "execution_count": 33,
     "metadata": {},
     "output_type": "execute_result"
    },
    {
     "data": {
      "image/png": "[encoded data removed]",
      "text/plain": [
       "<Figure size 504x432 with 2 Axes>"
      ]
     },
     "metadata": {
      "needs_background": "light"
     },
     "output_type": "display_data"
    }
   ],
   "source": [
    "# plot heatmap\n",
    "plt.figure(figsize=(7,6))\n",
    "sns.heatmap(df.corr(), cmap= 'nipy_spectral')"
   ]
  },
  {
   "cell_type": "markdown",
   "metadata": {},
   "source": [
    "Looking at the heatmap above, we can easily see the orange and red squares are highly correlated.\n",
    "\n",
    "When looking at the price column specifically, we find that \"sqft_living\" has the highest correlation so far. \n",
    "The column \"sqft_living\" is also highly correlated with \"sqft_above\". Having both of these is redundant. Let's get rid of one and see what that does."
   ]
  },
  {
   "cell_type": "code",
   "execution_count": 34,
   "metadata": {
    "ExecuteTime": {
     "end_time": "2021-01-05T22:39:13.996337Z",
     "start_time": "2021-01-05T22:39:13.992971Z"
    }
   },
   "outputs": [],
   "source": [
    "df1 = df.drop(columns= ['sqft_above'])"
   ]
  },
  {
   "cell_type": "code",
   "execution_count": 42,
   "metadata": {
    "ExecuteTime": {
     "end_time": "2021-01-05T23:17:31.989572Z",
     "start_time": "2021-01-05T23:17:31.645957Z"
    },
    "scrolled": true
   },
   "outputs": [
    {
     "data": {
      "image/png": "[encoded data removed]",
      "text/plain": [
       "<Figure size 504x432 with 2 Axes>"
      ]
     },
     "metadata": {
      "needs_background": "light"
     },
     "output_type": "display_data"
    }
   ],
   "source": [
    "plt.figure(figsize=(7,6))\n",
    "sns.heatmap(df1.corr(), cmap= 'nipy_spectral')\n",
    "plt.title(\"Correlation between features\",weight='bold',fontsize=18)\n",
    "plt.show()"
   ]
  },
  {
   "cell_type": "code",
   "execution_count": null,
   "metadata": {},
   "outputs": [],
   "source": []
  },
  {
   "cell_type": "code",
   "execution_count": null,
   "metadata": {},
   "outputs": [],
   "source": []
  },
  {
   "cell_type": "code",
   "execution_count": null,
   "metadata": {},
   "outputs": [],
   "source": []
  },
  {
   "cell_type": "code",
   "execution_count": null,
   "metadata": {},
   "outputs": [],
   "source": []
  },
  {
   "cell_type": "code",
   "execution_count": null,
   "metadata": {},
   "outputs": [],
   "source": []
  },
  {
   "cell_type": "code",
   "execution_count": null,
   "metadata": {},
   "outputs": [],
   "source": []
  },
  {
   "cell_type": "code",
   "execution_count": null,
   "metadata": {},
   "outputs": [],
   "source": []
  },
  {
   "cell_type": "code",
   "execution_count": 36,
   "metadata": {
    "ExecuteTime": {
     "end_time": "2021-01-05T22:39:14.366926Z",
     "start_time": "2021-01-05T22:39:14.364158Z"
    }
   },
   "outputs": [],
   "source": [
    "df2 = df1[['price', 'waterfront', 'yr_built', 'sqft_living15', 'zipcode']]"
   ]
  },
  {
   "cell_type": "code",
   "execution_count": 37,
   "metadata": {
    "ExecuteTime": {
     "end_time": "2021-01-05T22:39:16.679808Z",
     "start_time": "2021-01-05T22:39:14.368206Z"
    }
   },
   "outputs": [
    {
     "data": {
      "image/png": "[encoded data removed]",
      "text/plain": [
       "<Figure size 792x792 with 25 Axes>"
      ]
     },
     "metadata": {
      "needs_background": "light"
     },
     "output_type": "display_data"
    }
   ],
   "source": [
    "pd.plotting.scatter_matrix(df2, figsize= [11,11]);"
   ]
  },
  {
   "cell_type": "code",
   "execution_count": 38,
   "metadata": {
    "ExecuteTime": {
     "end_time": "2021-01-05T22:39:16.811588Z",
     "start_time": "2021-01-05T22:39:16.681453Z"
    }
   },
   "outputs": [
    {
     "data": {
      "image/png": "[encoded data removed]",
      "text/plain": [
       "<Figure size 432x288 with 1 Axes>"
      ]
     },
     "metadata": {
      "needs_background": "light"
     },
     "output_type": "display_data"
    }
   ],
   "source": [
    "df['zipcode'].hist()\n",
    "plt.show()"
   ]
  },
  {
   "cell_type": "code",
   "execution_count": 40,
   "metadata": {
    "ExecuteTime": {
     "end_time": "2021-01-05T22:41:14.533202Z",
     "start_time": "2021-01-05T22:41:14.525574Z"
    }
   },
   "outputs": [
    {
     "data": {
      "text/plain": [
       "lat\n",
       "47.4302    6550.0\n",
       "47.3466    5774.0\n",
       "47.3166    5370.0\n",
       "47.6676    5180.0\n",
       "47.5954    5150.0\n",
       "Name: sqft_living, dtype: float64"
      ]
     },
     "execution_count": 40,
     "metadata": {},
     "output_type": "execute_result"
    }
   ],
   "source": [
    "# df.groupby('lat')['sqft_living'].mean().nlargest(5)\n",
    "# df.groupby('lat')['sqft_living'].mean().min()\n",
    "# df.groupby('long')['sqft_living'].mean().max()\n",
    "# df.loc[(df['sqft_living'] <= 1200) & (df['sqft_living15'] > 2000)]\n",
    "# df.loc[(df['sqft_living'] >= 3000)]\n",
    "# df.groupby('long')['sqft_living'].mean().nlargest(5)"
   ]
  },
  {
   "cell_type": "code",
   "execution_count": null,
   "metadata": {},
   "outputs": [],
   "source": []
  }
 ],
 "metadata": {
  "kernelspec": {
   "display_name": "Python 3",
   "language": "python",
   "name": "python3"
  },
  "language_info": {
   "codemirror_mode": {
    "name": "ipython",
    "version": 3
   },
   "file_extension": ".py",
   "mimetype": "text/x-python",
   "name": "python",
   "nbconvert_exporter": "python",
   "pygments_lexer": "ipython3",
   "version": "3.8.5"
  },
  "varInspector": {
   "cols": {
    "lenName": 16,
    "lenType": 16,
    "lenVar": 40
   },
   "kernels_config": {
    "python": {
     "delete_cmd_postfix": "",
     "delete_cmd_prefix": "del ",
     "library": "var_list.py",
     "varRefreshCmd": "print(var_dic_list())"
    },
    "r": {
     "delete_cmd_postfix": ") ",
     "delete_cmd_prefix": "rm(",
     "library": "var_list.r",
     "varRefreshCmd": "cat(var_dic_list()) "
    }
   },
   "types_to_exclude": [
    "module",
    "function",
    "builtin_function_or_method",
    "instance",
    "_Feature"
   ],
   "window_display": false
  }
 },
 "nbformat": 4,
 "nbformat_minor": 4
}
